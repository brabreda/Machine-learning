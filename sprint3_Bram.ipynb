{
 "cells": [
  {
   "cell_type": "markdown",
   "metadata": {},
   "source": [
    "## Importing libraries\n",
    "We start of by importing the libraries that we need for this project."
   ]
  },
  {
   "cell_type": "code",
   "execution_count": 2,
   "metadata": {},
   "outputs": [
    {
     "name": "stderr",
     "output_type": "stream",
     "text": [
      "2022-12-05 00:45:18.104241: I tensorflow/core/platform/cpu_feature_guard.cc:193] This TensorFlow binary is optimized with oneAPI Deep Neural Network Library (oneDNN) to use the following CPU instructions in performance-critical operations:  AVX2 FMA\n",
      "To enable them in other operations, rebuild TensorFlow with the appropriate compiler flags.\n"
     ]
    }
   ],
   "source": [
    "from sklearn import preprocessing\n",
    "import PIL\n",
    "from PIL import Image\n",
    "from tqdm import tqdm\n",
    "import glob\n",
    "import matplotlib.pyplot as plt\n",
    "import numpy as np\n",
    "import pandas as pd\n",
    "import tensorflow as tf\n",
    "\n",
    "from sklearn.metrics import accuracy_score, precision_score, recall_score\n",
    "from sklearn.model_selection import train_test_split\n",
    "from tensorflow.keras import layers, losses\n",
    "from tensorflow.keras.datasets import fashion_mnist\n",
    "from tensorflow.keras.models import Model"
   ]
  },
  {
   "cell_type": "markdown",
   "metadata": {},
   "source": [
    "## Case 1: images anomaly detection\n",
    "When we look at the pictures we see alot of dishes and interior/exterior photo's but there are also alot of unhelpfull pictures. These pictures include logo's, people and other random images. There isn't any benifit of having these pictures on a tripadvisor page. Therefor we call these anomalies, these pictures have no need to be on a tripadvisor page, as they bring no information to the customer. Because of this it would be nice to detect these images, this model could then be used to clear up the pages of tripadvisor. \n",
    "\n",
    "The detection of these images is called anomaly detection, there are 2 sorts of anomaly detection:\n",
    "- **Outlier detection:** For this model we need a dataset with both standard pictures and anomaly pictures. \n",
    "- **Novelty detection:** For this nodel the trainingset consists only of the standard pictures. The trainingset must be labeled, so it the models are in a supervised fashion.\n",
    "\n",
    "The dataset of tripadvisor is not labeled, therefor we could use outlier detection. Another choice can be to create a dataset of interiors, exteriors and dishes. This dataset would allow us to use **novelty detection**. For this case we will start of by looking at novelty detection.\n",
    "\n",
    "\n",
    "\n",
    "sources: 1"
   ]
  },
  {
   "cell_type": "markdown",
   "metadata": {},
   "source": [
    "### Construction the dataset\n",
    "\n",
    "The dataset will look like a array of 3 d matrixes."
   ]
  },
  {
   "cell_type": "code",
   "execution_count": 3,
   "metadata": {},
   "outputs": [],
   "source": [
    "# todo adding labels\n",
    "def imagesInFolderToDataset(path, width, height, channels):\n",
    "    fileNameList = glob.glob(f\"{path}*\")\n",
    "    images = []\n",
    "    for fileName in tqdm(fileNameList, total=len(fileNameList)):\n",
    "        try:\n",
    "\n",
    "            img = Image.open(f\"{fileName}\")\n",
    "            img_np = np.array(img.resize(( width, height ), channels ))\n",
    "            if img_np.shape == (width,height,channels):\n",
    "                images.append(img_np)\n",
    "\n",
    "        except PIL.UnidentifiedImageError:\n",
    "            pass\n",
    "    return np.array(images)"
   ]
  },
  {
   "cell_type": "code",
   "execution_count": 4,
   "metadata": {},
   "outputs": [
    {
     "name": "stderr",
     "output_type": "stream",
     "text": [
      "100%|██████████| 513/513 [00:04<00:00, 122.68it/s]\n",
      "100%|██████████| 111/111 [00:00<00:00, 138.83it/s]\n",
      "100%|██████████| 15183/15183 [01:13<00:00, 205.56it/s]\n"
     ]
    }
   ],
   "source": [
    "SIZE = 128\n",
    "\n",
    "restaurants     = imagesInFolderToDataset(\"Images/restaurant/\", SIZE, SIZE, 3)\n",
    "buffets         = imagesInFolderToDataset(\"Images/buffet/\", SIZE, SIZE, 3)\n",
    "\n",
    "# create test and train set\n",
    "labeled_data            = np.concatenate((restaurants, buffets), axis=0)\n",
    "\n",
    "x_train, x_validation   = train_test_split(labeled_data, random_state=0, train_size = 0.8)\n",
    "x_test                  = imagesInFolderToDataset(\"tripadvisor_dataset/tripadvisor_images/\",SIZE,SIZE,3)\n",
    "\n",
    "# normalize the data\n",
    "x_train         = x_train.astype(float) / 255.\n",
    "x_validation    = x_validation.astype(float) / 255.\n",
    "x_test          = x_test.astype(float) / 255."
   ]
  },
  {
   "cell_type": "markdown",
   "metadata": {},
   "source": [
    "Om te beginnen gaan we greyscale gebruiken, de reden hiervoor is dat we op deze manier de dimensionaliteit reduceren. Dit zorgt dat er minder kans is op overfitting. Fotos met rgb maken het wel mogelijk om een beter model te trainen maar hebben meer kans op overfitting, de oplossingen hiervoor zijn dim reduction of meer data."
   ]
  },
  {
   "cell_type": "code",
   "execution_count": 5,
   "metadata": {},
   "outputs": [],
   "source": [
    "x_train_greyscale       = np.array(list(map( lambda x: np.dot(x[...,:3], [0.2989, 0.587, 0.114]), x_train)))\n",
    "x_validation_greyscale  = np.array(list(map( lambda x: np.dot(x[...,:3], [0.2989, 0.587, 0.114]), x_validation)))\n",
    "x_test_greyscale        = np.array(list(map( lambda x: np.dot(x[...,:3], [0.2989, 0.587, 0.114]), x_test)))"
   ]
  },
  {
   "cell_type": "code",
   "execution_count": 6,
   "metadata": {},
   "outputs": [
    {
     "name": "stderr",
     "output_type": "stream",
     "text": [
      "2022-12-05 00:46:50.232849: I tensorflow/core/platform/cpu_feature_guard.cc:193] This TensorFlow binary is optimized with oneAPI Deep Neural Network Library (oneDNN) to use the following CPU instructions in performance-critical operations:  AVX2 FMA\n",
      "To enable them in other operations, rebuild TensorFlow with the appropriate compiler flags.\n"
     ]
    }
   ],
   "source": [
    "## convalutional autoencoder\n",
    "class AnomalyDetector(Model):\n",
    "  def __init__(self):\n",
    "    super(AnomalyDetector, self).__init__()\n",
    "    self.encoder = tf.keras.Sequential([\n",
    "      layers.Input(shape=(SIZE, SIZE, 1)),\n",
    "      layers.Conv2D(64, (3, 3), activation='relu', padding='same'),\n",
    "      layers.MaxPooling2D((2, 2), padding='same'),\n",
    "      layers.Conv2D(32, (3, 3), activation='relu', padding='same'),\n",
    "      layers.MaxPooling2D((2, 2), padding='same'),\n",
    "      layers.Conv2D(16, (3, 3), activation='relu', padding='same'),\n",
    "      layers.MaxPooling2D((2, 2), padding='same')])\n",
    "\n",
    "\n",
    "    self.decoder = tf.keras.Sequential([\n",
    "      layers.Conv2D(16, (3, 3), activation='relu', padding='same'),\n",
    "      layers.UpSampling2D((2, 2)),\n",
    "      layers.Conv2D(32, (3, 3), activation='relu', padding='same'),\n",
    "      layers.UpSampling2D((2, 2)),\n",
    "      layers.Conv2D(64, (3, 3), activation='relu', padding='same'),\n",
    "      layers.UpSampling2D((2, 2)),\n",
    "\n",
    "      layers.Conv2D(3, (3, 3), activation='sigmoid', padding='same')])\n",
    "\n",
    "  def call(self, x):\n",
    "    encoded = self.encoder(x)\n",
    "    decoded = self.decoder(encoded)\n",
    "    return decoded\n",
    "\n",
    "autoencoder = AnomalyDetector()\n",
    "\n",
    "autoencoder.compile(optimizer='adam', loss=losses.MeanSquaredError())"
   ]
  },
  {
   "cell_type": "markdown",
   "metadata": {},
   "source": [
    "## vragen voor de prof\n",
    "- Gaan we beter voor 3 anomaly detectors die elk een checken of iets behoord tot een klasse of gaan we voor of kunnen we een dataset samenstellen met alles wat geen anomaly is?\n",
    "- Als validation data moeten we data voorzien die geen anomaly is. Nemen we hier beast data uit de tripadvisor dataset die we zelf labelden?"
   ]
  },
  {
   "cell_type": "code",
   "execution_count": 7,
   "metadata": {},
   "outputs": [
    {
     "name": "stdout",
     "output_type": "stream",
     "text": [
      "Epoch 1/20\n",
      "5/5 [==============================] - 3s 285ms/step - loss: 0.0671\n",
      "Epoch 2/20\n",
      "5/5 [==============================] - 1s 276ms/step - loss: 0.0660\n",
      "Epoch 3/20\n",
      "5/5 [==============================] - 1s 264ms/step - loss: 0.0649\n",
      "Epoch 4/20\n",
      "5/5 [==============================] - 1s 293ms/step - loss: 0.0636\n",
      "Epoch 5/20\n",
      "5/5 [==============================] - 1s 281ms/step - loss: 0.0618\n",
      "Epoch 6/20\n",
      "5/5 [==============================] - 1s 283ms/step - loss: 0.0592\n",
      "Epoch 7/20\n",
      "5/5 [==============================] - 1s 229ms/step - loss: 0.0552\n",
      "Epoch 8/20\n",
      "5/5 [==============================] - 1s 227ms/step - loss: 0.0492\n",
      "Epoch 9/20\n",
      "5/5 [==============================] - 1s 232ms/step - loss: 0.0404\n",
      "Epoch 10/20\n",
      "5/5 [==============================] - 1s 221ms/step - loss: 0.0297\n",
      "Epoch 11/20\n",
      "5/5 [==============================] - 1s 221ms/step - loss: 0.0207\n",
      "Epoch 12/20\n",
      "5/5 [==============================] - 1s 224ms/step - loss: 0.0175\n",
      "Epoch 13/20\n",
      "5/5 [==============================] - 1s 220ms/step - loss: 0.0171\n",
      "Epoch 14/20\n",
      "5/5 [==============================] - 1s 220ms/step - loss: 0.0156\n",
      "Epoch 15/20\n",
      "5/5 [==============================] - 1s 221ms/step - loss: 0.0141\n",
      "Epoch 16/20\n",
      "5/5 [==============================] - 1s 225ms/step - loss: 0.0132\n",
      "Epoch 17/20\n",
      "5/5 [==============================] - 1s 224ms/step - loss: 0.0124\n",
      "Epoch 18/20\n",
      "5/5 [==============================] - 1s 230ms/step - loss: 0.0116\n",
      "Epoch 19/20\n",
      "5/5 [==============================] - 1s 237ms/step - loss: 0.0111\n",
      "Epoch 20/20\n",
      "5/5 [==============================] - 1s 225ms/step - loss: 0.0106\n"
     ]
    }
   ],
   "source": [
    "history = autoencoder.fit(x_train_greyscale, x_train_greyscale,\n",
    "        epochs=100,\n",
    "        batch_size=64,\n",
    "        validation_data=(x_validation_greyscale,x_validation_greyscale), \n",
    "        shuffle=True);\n",
    "\n",
    "# TODO: voeg eenvoudige grafiek zoals bij rare man lijn 92"
   ]
  },
  {
   "cell_type": "markdown",
   "metadata": {},
   "source": [
    "In de volgende stappen gaan we eens gaan kijken wat ons model gaat doen met onze trainig data. \n",
    "We kunnen hierbij een aantal foto's nemen en kijken wat er mee gebeurt, hoe ziet de foto voor het model eruit en erna"
   ]
  },
  {
   "cell_type": "code",
   "execution_count": 21,
   "metadata": {},
   "outputs": [
    {
     "name": "stdout",
     "output_type": "stream",
     "text": [
      "475/475 [==============================] - 11s 22ms/step\n"
     ]
    }
   ],
   "source": [
    "autoencoder(x_test_greyscale)\n",
    "\n",
    "reconstructions = autoencoder.predict(x_test_greyscale)\n",
    "test_loss = tf.keras.losses.mae(reconstructions.reshape((15169, 64, 64)), x_test_greyscale)"
   ]
  },
  {
   "cell_type": "code",
   "execution_count": 20,
   "metadata": {},
   "outputs": [
    {
     "name": "stdout",
     "output_type": "stream",
     "text": [
      "tf.Tensor(\n",
      "[[0.25333957 0.16122881 0.13313665 ... 0.05664623 0.06242742 0.15147145]\n",
      " [0.08478696 0.06028627 0.0486029  ... 0.02293136 0.01819096 0.05586029]\n",
      " [0.14973615 0.10154403 0.10102472 ... 0.08609897 0.07386189 0.19971568]\n",
      " ...\n",
      " [0.31445347 0.14793462 0.12063675 ... 0.04115247 0.02700299 0.02348117]\n",
      " [0.15784918 0.10751213 0.07984237 ... 0.0391697  0.03365728 0.08139479]\n",
      " [0.16138367 0.02744524 0.0360656  ... 0.06118822 0.03753172 0.04562687]], shape=(15169, 64), dtype=float64)\n"
     ]
    }
   ],
   "source": []
  },
  {
   "cell_type": "markdown",
   "metadata": {},
   "source": [
    "Ze kunnen anomely detection opdelen in 2 verschillende delen:\n",
    "- **Outlier detection:** Our input dataset contains examples of both standard events and anomaly events. These algorithms seek to fit regions of the training data where the standard events are most concentrated, disregarding, and therefore isolating, the anomaly events. Such algorithms are often trained in an unsupervised fashion (i.e., without labels). We sometimes use these methods to help clean and pre-process datasets before applying additional machine learning techniques.\n",
    "\n",
    "- **Novelty detection:** Unlike outlier detection, which includes examples of both standard and anomaly events, novelty detection algorithms have only the standard event data points (i.e., no anomaly events) during training time. During training, we provide these algorithms with labeled examples of standard events (supervised learning). At testing/prediction time novelty detection algorithms must detect when an input data point is an outlier.\n",
    "\n",
    "sources: 1\n",
    "\n"
   ]
  },
  {
   "cell_type": "markdown",
   "metadata": {},
   "source": [
    "## Sources\n",
    "1. https://pyimagesearch.com/2020/01/20/intro-to-anomaly-detection-with-opencv-computer-vision-and-scikit-learn/\n",
    "2. https://www.tensorflow.org/tutorials/generative/autoencoder\n",
    "3. https://github.com/bnsreenu/python_for_microscopists/blob/master/260_image_anomaly_detection_using_autoencoders/260_image_anomaly_detection_using_autoencoders.py#L130\n",
    "\n",
    "https://www.guru99.com/autoencoder-deep-learning.html\n",
    "\n"
   ]
  }
 ],
 "metadata": {
  "kernelspec": {
   "display_name": "Python 3.9.12 ('base')",
   "language": "python",
   "name": "python3"
  },
  "language_info": {
   "codemirror_mode": {
    "name": "ipython",
    "version": 3
   },
   "file_extension": ".py",
   "mimetype": "text/x-python",
   "name": "python",
   "nbconvert_exporter": "python",
   "pygments_lexer": "ipython3",
   "version": "3.9.12"
  },
  "orig_nbformat": 4,
  "vscode": {
   "interpreter": {
    "hash": "1d236e7ca60ebce128ac9b571d3eda13f931e6de779d9b7dd790f3e9dce097bc"
   }
  }
 },
 "nbformat": 4,
 "nbformat_minor": 2
}
