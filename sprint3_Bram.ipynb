{
 "cells": [
  {
   "cell_type": "markdown",
   "metadata": {},
   "source": [
    "## Importing libraries\n",
    "We start of by importing the libraries that we need for this project."
   ]
  },
  {
   "cell_type": "code",
   "execution_count": 13,
   "metadata": {},
   "outputs": [],
   "source": [
    "from sklearn import preprocessing\n",
    "import PIL\n",
    "from PIL import Image\n",
    "from tqdm import tqdm\n",
    "import glob\n",
    "import matplotlib.pyplot as plt\n",
    "import numpy as np\n",
    "import pandas as pd\n",
    "import tensorflow as tf\n",
    "\n",
    "from sklearn.metrics import accuracy_score, precision_score, recall_score\n",
    "from sklearn.model_selection import train_test_split\n",
    "from tensorflow.keras import layers, losses\n",
    "from tensorflow.keras.datasets import fashion_mnist\n",
    "from tensorflow.keras.models import Model"
   ]
  },
  {
   "cell_type": "markdown",
   "metadata": {},
   "source": [
    "## Case 1: images anomaly detection\n",
    "When we look at the pictures we see alot of dishes and interior/exterior photo's but there are also alot of unhelpfull pictures. These pictures include logo's, people and other random images. There isn't any benifit of having these pictures on a tripadvisor page. Therefor we call these anomalies, these pictures have no need to be on a tripadvisor page, as they bring no information to the customer. Because of this it would be nice to detect these images, this model could then be used to clear up the pages of tripadvisor. \n",
    "\n",
    "The detection of these images is called anomaly detection, there are 2 sorts of anomaly detection:\n",
    "- **Outlier detection:** For this model we need a dataset with both standard pictures and anomaly pictures. \n",
    "- **Novelty detection:** For this nodel the trainingset consists only of the standard pictures. The trainingset must be labeled, so it the models are in a supervised fashion.\n",
    "\n",
    "The dataset of tripadvisor is not labeled, therefor we could use outlier detection. Another choice can be to create a dataset of interiors, exteriors and dishes. This dataset would allow us to use **novelty detection**. For this case we will start of by looking at novelty detection.\n",
    "\n",
    "\n",
    "\n",
    "sources: 1"
   ]
  },
  {
   "cell_type": "markdown",
   "metadata": {},
   "source": [
    "### Construction the dataset\n",
    "\n",
    "The dataset will look like a array of 3 d matrixes."
   ]
  },
  {
   "cell_type": "code",
   "execution_count": 35,
   "metadata": {},
   "outputs": [
    {
     "name": "stderr",
     "output_type": "stream",
     "text": [
      "100%|██████████| 513/513 [00:03<00:00, 145.41it/s]\n",
      "100%|██████████| 111/111 [00:00<00:00, 185.33it/s]\n"
     ]
    }
   ],
   "source": [
    "# todo adding labels\n",
    "def imagesInFolderToDataset(path, width, height, channels):\n",
    "    fileNameList = glob.glob(f\"{path}*\")\n",
    "    images = []\n",
    "    for fileName in tqdm(fileNameList, total=len(fileNameList)):\n",
    "        try:\n",
    "\n",
    "            img = Image.open(f\"{fileName}\")\n",
    "            img_np = np.array(img.resize(( width, height ), channels ))\n",
    "            if img_np.shape == (width,height,channels):\n",
    "                images.append(img_np)\n",
    "\n",
    "\n",
    "\n",
    "        except PIL.UnidentifiedImageError:\n",
    "            pass\n",
    "    return np.array(images)\n",
    "\n",
    "\n"
   ]
  },
  {
   "cell_type": "code",
   "execution_count": 57,
   "metadata": {},
   "outputs": [
    {
     "name": "stderr",
     "output_type": "stream",
     "text": [
      "100%|██████████| 513/513 [00:04<00:00, 117.52it/s]\n",
      "100%|██████████| 111/111 [00:00<00:00, 158.61it/s]\n"
     ]
    }
   ],
   "source": [
    "restaurants_train = imagesInFolderToDataset(\"Images/restaurant/\", 64, 64, 3)\n",
    "buffet_train = imagesInFolderToDataset(\"Images/buffet/\", 64, 64, 3)\n",
    "\n",
    "x_train = np.concatenate((restaurants_train, buffet_train), axis=0)\n",
    "\n",
    "# normalize the data\n",
    "x_train = x_train.astype(float) / 255."
   ]
  },
  {
   "cell_type": "markdown",
   "metadata": {},
   "source": [
    "Om te beginnen gaan we greyscale gebruiken, de reden hiervoor is dat we op deze manier de dimensionaliteit reduceren. Dit zorgt dat er minder kans is op overfitting. Fotos met rgb maken het wel mogelijk om een beter model te trainen maar hebben meer kans op overfitting, de oplossingen hiervoor zijn dim reduction of meer data."
   ]
  },
  {
   "cell_type": "code",
   "execution_count": 60,
   "metadata": {},
   "outputs": [],
   "source": [
    "x_train_greyscale = np.array(list(map( lambda x: np.dot(x[...,:3], [0.2989, 0.587, 0.114]), x_train)))\n",
    "\n"
   ]
  },
  {
   "cell_type": "code",
   "execution_count": 62,
   "metadata": {},
   "outputs": [],
   "source": [
    "## convalutional autoencoder\n",
    "class AnomalyDetector(Model):\n",
    "  def __init__(self):\n",
    "    super(AnomalyDetector, self).__init__()\n",
    "    self.encoder = tf.keras.Sequential([\n",
    "      layers.Input(shape=(64, 64, 1)),\n",
    "      layers.Conv2D(16, (3, 3), activation='relu', padding='same', strides=2),\n",
    "      layers.Conv2D(8, (3, 3), activation='relu', padding='same', strides=2)])\n",
    "\n",
    "    self.decoder = tf.keras.Sequential([\n",
    "      layers.Conv2DTranspose(8, kernel_size=3, strides=2, activation='relu', padding='same'),\n",
    "      layers.Conv2DTranspose(16, kernel_size=3, strides=2, activation='relu', padding='same'),\n",
    "      layers.Conv2D(1, kernel_size=(3, 3), activation='sigmoid', padding='same')])\n",
    "\n",
    "\n",
    "  def call(self, x):\n",
    "    encoded = self.encoder(x)\n",
    "    decoded = self.decoder(encoded)\n",
    "    return decoded\n",
    "\n",
    "autoencoder = AnomalyDetector()\n",
    "\n",
    "autoencoder.compile(optimizer='adam', loss='mae')"
   ]
  },
  {
   "cell_type": "code",
   "execution_count": 64,
   "metadata": {},
   "outputs": [
    {
     "name": "stdout",
     "output_type": "stream",
     "text": [
      "Epoch 1/20\n",
      "5/5 [==============================] - 1s 164ms/step - loss: 0.1609\n",
      "Epoch 2/20\n",
      "5/5 [==============================] - 1s 165ms/step - loss: 0.1444\n",
      "Epoch 3/20\n",
      "5/5 [==============================] - 1s 180ms/step - loss: 0.1308\n",
      "Epoch 4/20\n",
      "5/5 [==============================] - 1s 192ms/step - loss: 0.1201\n",
      "Epoch 5/20\n",
      "5/5 [==============================] - 1s 172ms/step - loss: 0.1102\n",
      "Epoch 6/20\n",
      "5/5 [==============================] - 1s 194ms/step - loss: 0.1017\n",
      "Epoch 7/20\n",
      "5/5 [==============================] - 1s 178ms/step - loss: 0.0952\n",
      "Epoch 8/20\n",
      "5/5 [==============================] - 1s 169ms/step - loss: 0.0904\n",
      "Epoch 9/20\n",
      "5/5 [==============================] - 1s 180ms/step - loss: 0.0872\n",
      "Epoch 10/20\n",
      "5/5 [==============================] - 1s 219ms/step - loss: 0.0851\n",
      "Epoch 11/20\n",
      "5/5 [==============================] - 1s 206ms/step - loss: 0.0835\n",
      "Epoch 12/20\n",
      "5/5 [==============================] - 1s 195ms/step - loss: 0.0821\n",
      "Epoch 13/20\n",
      "5/5 [==============================] - 1s 199ms/step - loss: 0.0808\n",
      "Epoch 14/20\n",
      "5/5 [==============================] - 1s 200ms/step - loss: 0.0796\n",
      "Epoch 15/20\n",
      "5/5 [==============================] - 1s 194ms/step - loss: 0.0787\n",
      "Epoch 16/20\n",
      "5/5 [==============================] - 1s 185ms/step - loss: 0.0777\n",
      "Epoch 17/20\n",
      "5/5 [==============================] - 1s 183ms/step - loss: 0.0770\n",
      "Epoch 18/20\n",
      "5/5 [==============================] - 1s 181ms/step - loss: 0.0761\n",
      "Epoch 19/20\n",
      "5/5 [==============================] - 1s 190ms/step - loss: 0.0752\n",
      "Epoch 20/20\n",
      "5/5 [==============================] - 1s 192ms/step - loss: 0.0743\n"
     ]
    }
   ],
   "source": [
    "history = autoencoder.fit(x_train_greyscale, x_train_greyscale, \n",
    "          epochs=20, \n",
    "          batch_size=128,\n",
    "          shuffle=True)"
   ]
  },
  {
   "cell_type": "markdown",
   "metadata": {},
   "source": [
    "Ze kunnen anomely detection opdelen in 2 verschillende delen:\n",
    "- **Outlier detection:** Our input dataset contains examples of both standard events and anomaly events. These algorithms seek to fit regions of the training data where the standard events are most concentrated, disregarding, and therefore isolating, the anomaly events. Such algorithms are often trained in an unsupervised fashion (i.e., without labels). We sometimes use these methods to help clean and pre-process datasets before applying additional machine learning techniques.\n",
    "\n",
    "- **Novelty detection:** Unlike outlier detection, which includes examples of both standard and anomaly events, novelty detection algorithms have only the standard event data points (i.e., no anomaly events) during training time. During training, we provide these algorithms with labeled examples of standard events (supervised learning). At testing/prediction time novelty detection algorithms must detect when an input data point is an outlier.\n",
    "\n",
    "sources: 1\n",
    "\n"
   ]
  },
  {
   "cell_type": "markdown",
   "metadata": {},
   "source": [
    "## Sources\n",
    "1. https://pyimagesearch.com/2020/01/20/intro-to-anomaly-detection-with-opencv-computer-vision-and-scikit-learn/\n",
    "2. https://www.tensorflow.org/tutorials/generative/autoencoder\n",
    "\n",
    "https://www.guru99.com/autoencoder-deep-learning.html"
   ]
  }
 ],
 "metadata": {
  "kernelspec": {
   "display_name": "Python 3.9.12 ('base')",
   "language": "python",
   "name": "python3"
  },
  "language_info": {
   "codemirror_mode": {
    "name": "ipython",
    "version": 3
   },
   "file_extension": ".py",
   "mimetype": "text/x-python",
   "name": "python",
   "nbconvert_exporter": "python",
   "pygments_lexer": "ipython3",
   "version": "3.9.12"
  },
  "orig_nbformat": 4,
  "vscode": {
   "interpreter": {
    "hash": "1d236e7ca60ebce128ac9b571d3eda13f931e6de779d9b7dd790f3e9dce097bc"
   }
  }
 },
 "nbformat": 4,
 "nbformat_minor": 2
}
