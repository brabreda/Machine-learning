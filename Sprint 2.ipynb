{
 "cells": [
  {
   "cell_type": "markdown",
   "id": "8a363ecd",
   "metadata": {},
   "source": [
    "# Machine learning - sprint 2"
   ]
  },
  {
   "cell_type": "markdown",
   "id": "fb23d2c5",
   "metadata": {},
   "source": [
    "Authors: Allart Ewoud, Van Hees Maxime, Breda Bram"
   ]
  },
  {
   "cell_type": "markdown",
   "id": "9e329619",
   "metadata": {},
   "source": [
    "## Introduction"
   ]
  },
  {
   "cell_type": "markdown",
   "id": "a421439c",
   "metadata": {},
   "source": [
    "The main focus of this paper is going to be about making prediction based on the images of the restaurant listings. We see alot of oppertunities where this can come in handy such as: \n",
    "- selecting the best pictures from a listing (the one where the model predicts the highest rating)\n",
    "- ..."
   ]
  },
  {
   "cell_type": "markdown",
   "id": "deb9aac2",
   "metadata": {},
   "source": [
    "## Importing packages"
   ]
  },
  {
   "cell_type": "markdown",
   "id": "e0174188",
   "metadata": {},
   "source": [
    "To start off we're importing all the packages."
   ]
  },
  {
   "cell_type": "code",
   "execution_count": 1,
   "id": "09e3f2e5",
   "metadata": {},
   "outputs": [],
   "source": [
    "import pandas as pd\n",
    "import numpy as np\n",
    "from tqdm import tqdm\n",
    "from PIL import Image\n",
    "import glob\n",
    "import PIL"
   ]
  },
  {
   "cell_type": "code",
   "execution_count": 2,
   "id": "a032f49e",
   "metadata": {},
   "outputs": [],
   "source": [
    "original_df = pd.read_csv(\"tripadvisor_dataset/restaurant_listings.csv\")\n",
    "\n",
    "# display the data and see how it formulated\n",
    "pd.set_option(\"display.max_columns\", None)\n",
    "\n",
    "numerics = ['int16', 'int32', 'int64', 'float16', 'float32', 'float64']\n",
    "df = original_df.select_dtypes(include=numerics)"
   ]
  },
  {
   "cell_type": "markdown",
   "id": "f326a0fb",
   "metadata": {},
   "source": [
    "## Case 1"
   ]
  },
  {
   "cell_type": "markdown",
   "id": "50c7d814",
   "metadata": {},
   "source": [
    "For the first case we are going to look **if we can predict scores based on the images of the listings**. One of the first things where this can come to use is for choosing the best picture of an listing. Another thing that comes to mind is by determining if the pictures corresponds to the score. This can for example be used to tell the restaurants if they have bad or good pictures."
   ]
  },
  {
   "cell_type": "markdown",
   "id": "7207ca58",
   "metadata": {},
   "source": [
    "### preprocessing "
   ]
  },
  {
   "cell_type": "markdown",
   "id": "056a92a7",
   "metadata": {},
   "source": [
    "The first step is getting the scores and by adding the preprocessing steps."
   ]
  },
  {
   "cell_type": "code",
   "execution_count": 3,
   "id": "a8524cee",
   "metadata": {},
   "outputs": [
    {
     "data": {
      "text/html": [
       "<div>\n",
       "<style scoped>\n",
       "    .dataframe tbody tr th:only-of-type {\n",
       "        vertical-align: middle;\n",
       "    }\n",
       "\n",
       "    .dataframe tbody tr th {\n",
       "        vertical-align: top;\n",
       "    }\n",
       "\n",
       "    .dataframe thead th {\n",
       "        text-align: right;\n",
       "    }\n",
       "</style>\n",
       "<table border=\"1\" class=\"dataframe\">\n",
       "  <thead>\n",
       "    <tr style=\"text-align: right;\">\n",
       "      <th></th>\n",
       "      <th>food rating</th>\n",
       "      <th>service rating</th>\n",
       "      <th>value rating</th>\n",
       "      <th>id</th>\n",
       "      <th>general rating</th>\n",
       "    </tr>\n",
       "  </thead>\n",
       "  <tbody>\n",
       "    <tr>\n",
       "      <th>0</th>\n",
       "      <td>5.0</td>\n",
       "      <td>5.0</td>\n",
       "      <td>4.5</td>\n",
       "      <td>13969825</td>\n",
       "      <td>5.0</td>\n",
       "    </tr>\n",
       "    <tr>\n",
       "      <th>1</th>\n",
       "      <td>5.0</td>\n",
       "      <td>5.0</td>\n",
       "      <td>4.5</td>\n",
       "      <td>740727</td>\n",
       "      <td>5.0</td>\n",
       "    </tr>\n",
       "    <tr>\n",
       "      <th>2</th>\n",
       "      <td>4.5</td>\n",
       "      <td>4.5</td>\n",
       "      <td>4.5</td>\n",
       "      <td>12188645</td>\n",
       "      <td>4.5</td>\n",
       "    </tr>\n",
       "    <tr>\n",
       "      <th>3</th>\n",
       "      <td>5.0</td>\n",
       "      <td>4.5</td>\n",
       "      <td>5.0</td>\n",
       "      <td>9710340</td>\n",
       "      <td>5.0</td>\n",
       "    </tr>\n",
       "    <tr>\n",
       "      <th>4</th>\n",
       "      <td>4.5</td>\n",
       "      <td>4.5</td>\n",
       "      <td>4.5</td>\n",
       "      <td>8298124</td>\n",
       "      <td>4.5</td>\n",
       "    </tr>\n",
       "  </tbody>\n",
       "</table>\n",
       "</div>"
      ],
      "text/plain": [
       "   food rating  service rating  value rating        id  general rating\n",
       "0          5.0             5.0           4.5  13969825             5.0\n",
       "1          5.0             5.0           4.5    740727             5.0\n",
       "2          4.5             4.5           4.5  12188645             4.5\n",
       "3          5.0             4.5           5.0   9710340             5.0\n",
       "4          4.5             4.5           4.5   8298124             4.5"
      ]
     },
     "execution_count": 3,
     "metadata": {},
     "output_type": "execute_result"
    }
   ],
   "source": [
    "# general rating\n",
    "df = df.drop(columns=[\"atmosphere rating\"])\n",
    "\n",
    "df[\"general rating\"] = original_df[\"general rating\"].apply(lambda x: float(str(x).split(' ')[0]))\n",
    "df[\"general rating\"] = pd.to_numeric(df[\"general rating\"])\n",
    "mean = df[\"general rating\"].loc[df[\"general rating\"] != -1].mean()\n",
    "df[\"general rating\"] = df[\"general rating\"].replace(-1,mean)\n",
    "\n",
    "df.head()"
   ]
  },
  {
   "cell_type": "code",
   "execution_count": 4,
   "id": "2ce25d45",
   "metadata": {},
   "outputs": [
    {
     "name": "stderr",
     "output_type": "stream",
     "text": [
      "100%|████████████████████████████████████| 15183/15183 [01:17<00:00, 195.16it/s]\n"
     ]
    },
    {
     "data": {
      "text/html": [
       "<div>\n",
       "<style scoped>\n",
       "    .dataframe tbody tr th:only-of-type {\n",
       "        vertical-align: middle;\n",
       "    }\n",
       "\n",
       "    .dataframe tbody tr th {\n",
       "        vertical-align: top;\n",
       "    }\n",
       "\n",
       "    .dataframe thead th {\n",
       "        text-align: right;\n",
       "    }\n",
       "</style>\n",
       "<table border=\"1\" class=\"dataframe\">\n",
       "  <thead>\n",
       "    <tr style=\"text-align: right;\">\n",
       "      <th></th>\n",
       "      <th>food rating</th>\n",
       "      <th>service rating</th>\n",
       "      <th>value rating</th>\n",
       "      <th>id</th>\n",
       "      <th>general rating</th>\n",
       "      <th>pixels</th>\n",
       "    </tr>\n",
       "  </thead>\n",
       "  <tbody>\n",
       "    <tr>\n",
       "      <th>0</th>\n",
       "      <td>5.0</td>\n",
       "      <td>5.0</td>\n",
       "      <td>4.5</td>\n",
       "      <td>13969825</td>\n",
       "      <td>5.0</td>\n",
       "      <td>[121, 87, 49, 120, 86, 49, 113, 79, 44, 106, 7...</td>\n",
       "    </tr>\n",
       "    <tr>\n",
       "      <th>1</th>\n",
       "      <td>5.0</td>\n",
       "      <td>5.0</td>\n",
       "      <td>4.5</td>\n",
       "      <td>13969825</td>\n",
       "      <td>5.0</td>\n",
       "      <td>[96, 67, 37, 98, 69, 39, 101, 72, 42, 101, 72,...</td>\n",
       "    </tr>\n",
       "    <tr>\n",
       "      <th>2</th>\n",
       "      <td>5.0</td>\n",
       "      <td>5.0</td>\n",
       "      <td>4.5</td>\n",
       "      <td>13969825</td>\n",
       "      <td>5.0</td>\n",
       "      <td>[39, 38, 33, 36, 35, 30, 37, 34, 27, 38, 34, 2...</td>\n",
       "    </tr>\n",
       "    <tr>\n",
       "      <th>3</th>\n",
       "      <td>5.0</td>\n",
       "      <td>5.0</td>\n",
       "      <td>4.5</td>\n",
       "      <td>13969825</td>\n",
       "      <td>5.0</td>\n",
       "      <td>[246, 235, 215, 182, 171, 151, 150, 139, 119, ...</td>\n",
       "    </tr>\n",
       "    <tr>\n",
       "      <th>4</th>\n",
       "      <td>5.0</td>\n",
       "      <td>5.0</td>\n",
       "      <td>4.5</td>\n",
       "      <td>13969825</td>\n",
       "      <td>5.0</td>\n",
       "      <td>[54, 44, 34, 54, 44, 34, 55, 45, 35, 55, 45, 3...</td>\n",
       "    </tr>\n",
       "  </tbody>\n",
       "</table>\n",
       "</div>"
      ],
      "text/plain": [
       "   food rating  service rating  value rating        id  general rating  \\\n",
       "0          5.0             5.0           4.5  13969825             5.0   \n",
       "1          5.0             5.0           4.5  13969825             5.0   \n",
       "2          5.0             5.0           4.5  13969825             5.0   \n",
       "3          5.0             5.0           4.5  13969825             5.0   \n",
       "4          5.0             5.0           4.5  13969825             5.0   \n",
       "\n",
       "                                              pixels  \n",
       "0  [121, 87, 49, 120, 86, 49, 113, 79, 44, 106, 7...  \n",
       "1  [96, 67, 37, 98, 69, 39, 101, 72, 42, 101, 72,...  \n",
       "2  [39, 38, 33, 36, 35, 30, 37, 34, 27, 38, 34, 2...  \n",
       "3  [246, 235, 215, 182, 171, 151, 150, 139, 119, ...  \n",
       "4  [54, 44, 34, 54, 44, 34, 55, 45, 35, 55, 45, 3...  "
      ]
     },
     "execution_count": 4,
     "metadata": {},
     "output_type": "execute_result"
    }
   ],
   "source": [
    "# Getting list of all images\n",
    "fileNameList = glob.glob(\"tripadvisor_dataset/tripadvisor_images/*.jpg\")\n",
    "images = []\n",
    "\n",
    "# putting all images in a dict where the key is the name of the picture\n",
    "for fileName in tqdm(fileNameList, total=len(fileNameList)):\n",
    "    try:\n",
    "        img = Image.open(f\"{fileName}\")\n",
    "        #TODO resize all the images\n",
    "        images.append(pd.Series(data=[fileName.split('/')[-1].split(\"_\")[0], np.array(img).flatten()]))\n",
    "        \n",
    "    except PIL.UnidentifiedImageError:\n",
    "        pass\n",
    "\n",
    "# changing the list of pd.Series to pandaf dataframe\n",
    "images = pd.concat(images, axis=1).T\n",
    "images = images.rename(columns={0 : \"id\", 1 : \"pixels\"})\n",
    "images[\"id\"] = pd.to_numeric(images[\"id\"])\n",
    "\n",
    "# merging 2 dataframes\n",
    "df = pd.merge(df, images, on=\"id\")\n",
    "\n",
    "df.head()"
   ]
  },
  {
   "cell_type": "code",
   "execution_count": null,
   "id": "d2b0fc16",
   "metadata": {},
   "outputs": [],
   "source": []
  }
 ],
 "metadata": {
  "kernelspec": {
   "display_name": "Python 3 (ipykernel)",
   "language": "python",
   "name": "python3"
  },
  "language_info": {
   "codemirror_mode": {
    "name": "ipython",
    "version": 3
   },
   "file_extension": ".py",
   "mimetype": "text/x-python",
   "name": "python",
   "nbconvert_exporter": "python",
   "pygments_lexer": "ipython3",
   "version": "3.9.12"
  }
 },
 "nbformat": 4,
 "nbformat_minor": 5
}
