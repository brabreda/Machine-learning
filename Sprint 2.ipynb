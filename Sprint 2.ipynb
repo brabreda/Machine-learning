{
 "cells": [
  {
   "cell_type": "markdown",
   "id": "8a363ecd",
   "metadata": {},
   "source": [
    "# Machine learning - sprint 2"
   ]
  },
  {
   "cell_type": "markdown",
   "id": "fb23d2c5",
   "metadata": {},
   "source": [
    "Authors: Allart Ewoud, Van Hees Maxime, Breda Bram"
   ]
  },
  {
   "cell_type": "markdown",
   "id": "9e329619",
   "metadata": {},
   "source": [
    "## Introduction"
   ]
  },
  {
   "cell_type": "markdown",
   "id": "a421439c",
   "metadata": {},
   "source": [
    "The main focus of this paper is going to be about making prediction based on the images of the restaurant listings. We see alot of oppertunities where this can come in handy such as: \n",
    "- selecting the best pictures from a listing (the one where the model predicts the highest rating)\n",
    "- ..."
   ]
  },
  {
   "cell_type": "markdown",
   "id": "deb9aac2",
   "metadata": {},
   "source": [
    "## Importing packages"
   ]
  },
  {
   "cell_type": "markdown",
   "id": "e0174188",
   "metadata": {},
   "source": [
    "To start off we're importing all the packages."
   ]
  },
  {
   "cell_type": "code",
   "execution_count": 1,
   "id": "09e3f2e5",
   "metadata": {},
   "outputs": [],
   "source": [
    "import pandas as pd\n",
    "import numpy as np\n",
    "from tqdm import tqdm\n",
    "from PIL import Image, ImageOps\n",
    "import glob\n",
    "import PIL\n",
    "import cv2"
   ]
  },
  {
   "cell_type": "code",
   "execution_count": 2,
   "id": "a032f49e",
   "metadata": {},
   "outputs": [],
   "source": [
    "original_df = pd.read_csv(\"tripadvisor_dataset/restaurant_listings.csv\")\n",
    "\n",
    "# display the data and see how it formulated\n",
    "pd.set_option(\"display.max_columns\", None)\n",
    "\n",
    "numerics = ['int16', 'int32', 'int64', 'float16', 'float32', 'float64']\n",
    "df = original_df.select_dtypes(include=numerics)"
   ]
  },
  {
   "cell_type": "markdown",
   "id": "f326a0fb",
   "metadata": {},
   "source": [
    "## Case 1"
   ]
  },
  {
   "cell_type": "markdown",
   "id": "50c7d814",
   "metadata": {},
   "source": [
    "For the first case we are going to look **if we can predict scores based on the images of the listings**. One of the first things where this can come to use is for choosing the best picture of an listing. Another thing that comes to mind is by determining if the pictures corresponds to the score. This can for example be used to tell the restaurants if they have bad or good pictures.\n",
    "\n",
    "De predictie zal op basis van regressie zijn, en de predicte score kan een soort van metriek vormen die vertelt hoe goed de fotos van een restorant scoren tov van de andere restaurants.\n",
    "\n",
    "**gevraagd aan de leerkracht en was een intressant idee, een goede combinatie is om dit eventueel te bekijken in combinatie met prijsklasse of price range**."
   ]
  },
  {
   "cell_type": "markdown",
   "id": "7207ca58",
   "metadata": {},
   "source": [
    "### preprocessing "
   ]
  },
  {
   "cell_type": "markdown",
   "id": "056a92a7",
   "metadata": {},
   "source": [
    "The first step is getting the scores and by adding the preprocessing steps."
   ]
  },
  {
   "cell_type": "code",
   "execution_count": 3,
   "id": "a8524cee",
   "metadata": {},
   "outputs": [
    {
     "data": {
      "text/html": [
       "<div>\n",
       "<style scoped>\n",
       "    .dataframe tbody tr th:only-of-type {\n",
       "        vertical-align: middle;\n",
       "    }\n",
       "\n",
       "    .dataframe tbody tr th {\n",
       "        vertical-align: top;\n",
       "    }\n",
       "\n",
       "    .dataframe thead th {\n",
       "        text-align: right;\n",
       "    }\n",
       "</style>\n",
       "<table border=\"1\" class=\"dataframe\">\n",
       "  <thead>\n",
       "    <tr style=\"text-align: right;\">\n",
       "      <th></th>\n",
       "      <th>food rating</th>\n",
       "      <th>service rating</th>\n",
       "      <th>value rating</th>\n",
       "      <th>id</th>\n",
       "      <th>general rating</th>\n",
       "    </tr>\n",
       "  </thead>\n",
       "  <tbody>\n",
       "    <tr>\n",
       "      <th>0</th>\n",
       "      <td>5.0</td>\n",
       "      <td>5.0</td>\n",
       "      <td>4.5</td>\n",
       "      <td>13969825</td>\n",
       "      <td>5.0</td>\n",
       "    </tr>\n",
       "    <tr>\n",
       "      <th>1</th>\n",
       "      <td>5.0</td>\n",
       "      <td>5.0</td>\n",
       "      <td>4.5</td>\n",
       "      <td>740727</td>\n",
       "      <td>5.0</td>\n",
       "    </tr>\n",
       "    <tr>\n",
       "      <th>2</th>\n",
       "      <td>4.5</td>\n",
       "      <td>4.5</td>\n",
       "      <td>4.5</td>\n",
       "      <td>12188645</td>\n",
       "      <td>4.5</td>\n",
       "    </tr>\n",
       "    <tr>\n",
       "      <th>3</th>\n",
       "      <td>5.0</td>\n",
       "      <td>4.5</td>\n",
       "      <td>5.0</td>\n",
       "      <td>9710340</td>\n",
       "      <td>5.0</td>\n",
       "    </tr>\n",
       "    <tr>\n",
       "      <th>4</th>\n",
       "      <td>4.5</td>\n",
       "      <td>4.5</td>\n",
       "      <td>4.5</td>\n",
       "      <td>8298124</td>\n",
       "      <td>4.5</td>\n",
       "    </tr>\n",
       "  </tbody>\n",
       "</table>\n",
       "</div>"
      ],
      "text/plain": [
       "   food rating  service rating  value rating        id  general rating\n",
       "0          5.0             5.0           4.5  13969825             5.0\n",
       "1          5.0             5.0           4.5    740727             5.0\n",
       "2          4.5             4.5           4.5  12188645             4.5\n",
       "3          5.0             4.5           5.0   9710340             5.0\n",
       "4          4.5             4.5           4.5   8298124             4.5"
      ]
     },
     "execution_count": 3,
     "metadata": {},
     "output_type": "execute_result"
    }
   ],
   "source": [
    "# general rating\n",
    "df = df.drop(columns=[\"atmosphere rating\"])\n",
    "\n",
    "df[\"general rating\"] = original_df[\"general rating\"].apply(lambda x: float(str(x).split(' ')[0]))\n",
    "df[\"general rating\"] = pd.to_numeric(df[\"general rating\"])\n",
    "mean = df[\"general rating\"].loc[df[\"general rating\"] != -1].mean()\n",
    "df[\"general rating\"] = df[\"general rating\"].replace(-1,mean)\n",
    "\n",
    "df.head()"
   ]
  },
  {
   "cell_type": "code",
   "execution_count": 4,
   "id": "2ce25d45",
   "metadata": {},
   "outputs": [
    {
     "name": "stderr",
     "output_type": "stream",
     "text": [
      "100%|████████████████████████████████████| 15183/15183 [00:59<00:00, 257.09it/s]\n"
     ]
    },
    {
     "data": {
      "text/html": [
       "<div>\n",
       "<style scoped>\n",
       "    .dataframe tbody tr th:only-of-type {\n",
       "        vertical-align: middle;\n",
       "    }\n",
       "\n",
       "    .dataframe tbody tr th {\n",
       "        vertical-align: top;\n",
       "    }\n",
       "\n",
       "    .dataframe thead th {\n",
       "        text-align: right;\n",
       "    }\n",
       "</style>\n",
       "<table border=\"1\" class=\"dataframe\">\n",
       "  <thead>\n",
       "    <tr style=\"text-align: right;\">\n",
       "      <th></th>\n",
       "      <th>food rating</th>\n",
       "      <th>service rating</th>\n",
       "      <th>value rating</th>\n",
       "      <th>id</th>\n",
       "      <th>general rating</th>\n",
       "      <th>pixels</th>\n",
       "    </tr>\n",
       "  </thead>\n",
       "  <tbody>\n",
       "    <tr>\n",
       "      <th>0</th>\n",
       "      <td>5.0</td>\n",
       "      <td>5.0</td>\n",
       "      <td>4.5</td>\n",
       "      <td>13969825</td>\n",
       "      <td>5.0</td>\n",
       "      <td>[135, 93, 45, 125, 84, 42, 158, 118, 67, 176, ...</td>\n",
       "    </tr>\n",
       "    <tr>\n",
       "      <th>1</th>\n",
       "      <td>5.0</td>\n",
       "      <td>5.0</td>\n",
       "      <td>4.5</td>\n",
       "      <td>13969825</td>\n",
       "      <td>5.0</td>\n",
       "      <td>[96, 67, 37, 90, 63, 33, 74, 48, 21, 78, 53, 2...</td>\n",
       "    </tr>\n",
       "    <tr>\n",
       "      <th>2</th>\n",
       "      <td>5.0</td>\n",
       "      <td>5.0</td>\n",
       "      <td>4.5</td>\n",
       "      <td>13969825</td>\n",
       "      <td>5.0</td>\n",
       "      <td>[37, 34, 28, 42, 36, 22, 65, 50, 18, 85, 63, 9...</td>\n",
       "    </tr>\n",
       "    <tr>\n",
       "      <th>3</th>\n",
       "      <td>5.0</td>\n",
       "      <td>5.0</td>\n",
       "      <td>4.5</td>\n",
       "      <td>13969825</td>\n",
       "      <td>5.0</td>\n",
       "      <td>[234, 223, 203, 169, 158, 138, 168, 157, 137, ...</td>\n",
       "    </tr>\n",
       "    <tr>\n",
       "      <th>4</th>\n",
       "      <td>5.0</td>\n",
       "      <td>5.0</td>\n",
       "      <td>4.5</td>\n",
       "      <td>13969825</td>\n",
       "      <td>5.0</td>\n",
       "      <td>[56, 46, 36, 54, 44, 34, 52, 42, 32, 52, 42, 3...</td>\n",
       "    </tr>\n",
       "  </tbody>\n",
       "</table>\n",
       "</div>"
      ],
      "text/plain": [
       "   food rating  service rating  value rating        id  general rating  \\\n",
       "0          5.0             5.0           4.5  13969825             5.0   \n",
       "1          5.0             5.0           4.5  13969825             5.0   \n",
       "2          5.0             5.0           4.5  13969825             5.0   \n",
       "3          5.0             5.0           4.5  13969825             5.0   \n",
       "4          5.0             5.0           4.5  13969825             5.0   \n",
       "\n",
       "                                              pixels  \n",
       "0  [135, 93, 45, 125, 84, 42, 158, 118, 67, 176, ...  \n",
       "1  [96, 67, 37, 90, 63, 33, 74, 48, 21, 78, 53, 2...  \n",
       "2  [37, 34, 28, 42, 36, 22, 65, 50, 18, 85, 63, 9...  \n",
       "3  [234, 223, 203, 169, 158, 138, 168, 157, 137, ...  \n",
       "4  [56, 46, 36, 54, 44, 34, 52, 42, 32, 52, 42, 3...  "
      ]
     },
     "execution_count": 4,
     "metadata": {},
     "output_type": "execute_result"
    }
   ],
   "source": [
    "# Getting list of all images\n",
    "fileNameList = glob.glob(\"tripadvisor_dataset/tripadvisor_images/*.jpg\")\n",
    "images = []\n",
    "\n",
    "# putting all images in a dict where the key is the name of the picture\n",
    "for fileName in tqdm(fileNameList, total=len(fileNameList)):\n",
    "    try:\n",
    "        img = Image.open(f\"{fileName}\")\n",
    "        img = img.resize((128,128))\n",
    "        img_np = np.array(img).flatten()\n",
    "        #TODO resize all the images\n",
    "        images.append(pd.Series(data=[fileName.split('/')[-1].split(\"_\")[0], img_np]))\n",
    "        \n",
    "    except PIL.UnidentifiedImageError:\n",
    "        pass\n",
    "\n",
    "# changing the list of pd.Series to pandas dataframe\n",
    "images = pd.concat(images, axis=1).T\n",
    "images = images.rename(columns={0 : \"id\", 1 : \"pixels\"})\n",
    "images[\"id\"] = pd.to_numeric(images[\"id\"])\n",
    "\n",
    "# merging 2 dataframes\n",
    "df = pd.merge(df, images, on=\"id\")\n",
    "\n",
    "df.head()"
   ]
  },
  {
   "cell_type": "code",
   "execution_count": 5,
   "id": "48e77eaf",
   "metadata": {},
   "outputs": [
    {
     "data": {
      "text/html": [
       "<div>\n",
       "<style scoped>\n",
       "    .dataframe tbody tr th:only-of-type {\n",
       "        vertical-align: middle;\n",
       "    }\n",
       "\n",
       "    .dataframe tbody tr th {\n",
       "        vertical-align: top;\n",
       "    }\n",
       "\n",
       "    .dataframe thead th {\n",
       "        text-align: right;\n",
       "    }\n",
       "</style>\n",
       "<table border=\"1\" class=\"dataframe\">\n",
       "  <thead>\n",
       "    <tr style=\"text-align: right;\">\n",
       "      <th></th>\n",
       "      <th>food rating</th>\n",
       "      <th>service rating</th>\n",
       "      <th>value rating</th>\n",
       "      <th>id</th>\n",
       "      <th>general rating</th>\n",
       "      <th>pixels</th>\n",
       "      <th>pixel_size</th>\n",
       "    </tr>\n",
       "  </thead>\n",
       "  <tbody>\n",
       "    <tr>\n",
       "      <th>0</th>\n",
       "      <td>5.0</td>\n",
       "      <td>5.0</td>\n",
       "      <td>4.5</td>\n",
       "      <td>13969825</td>\n",
       "      <td>5.0</td>\n",
       "      <td>[135, 93, 45, 125, 84, 42, 158, 118, 67, 176, ...</td>\n",
       "      <td>49152</td>\n",
       "    </tr>\n",
       "    <tr>\n",
       "      <th>1</th>\n",
       "      <td>5.0</td>\n",
       "      <td>5.0</td>\n",
       "      <td>4.5</td>\n",
       "      <td>13969825</td>\n",
       "      <td>5.0</td>\n",
       "      <td>[96, 67, 37, 90, 63, 33, 74, 48, 21, 78, 53, 2...</td>\n",
       "      <td>49152</td>\n",
       "    </tr>\n",
       "    <tr>\n",
       "      <th>2</th>\n",
       "      <td>5.0</td>\n",
       "      <td>5.0</td>\n",
       "      <td>4.5</td>\n",
       "      <td>13969825</td>\n",
       "      <td>5.0</td>\n",
       "      <td>[37, 34, 28, 42, 36, 22, 65, 50, 18, 85, 63, 9...</td>\n",
       "      <td>49152</td>\n",
       "    </tr>\n",
       "    <tr>\n",
       "      <th>3</th>\n",
       "      <td>5.0</td>\n",
       "      <td>5.0</td>\n",
       "      <td>4.5</td>\n",
       "      <td>13969825</td>\n",
       "      <td>5.0</td>\n",
       "      <td>[234, 223, 203, 169, 158, 138, 168, 157, 137, ...</td>\n",
       "      <td>49152</td>\n",
       "    </tr>\n",
       "    <tr>\n",
       "      <th>4</th>\n",
       "      <td>5.0</td>\n",
       "      <td>5.0</td>\n",
       "      <td>4.5</td>\n",
       "      <td>13969825</td>\n",
       "      <td>5.0</td>\n",
       "      <td>[56, 46, 36, 54, 44, 34, 52, 42, 32, 52, 42, 3...</td>\n",
       "      <td>49152</td>\n",
       "    </tr>\n",
       "  </tbody>\n",
       "</table>\n",
       "</div>"
      ],
      "text/plain": [
       "   food rating  service rating  value rating        id  general rating  \\\n",
       "0          5.0             5.0           4.5  13969825             5.0   \n",
       "1          5.0             5.0           4.5  13969825             5.0   \n",
       "2          5.0             5.0           4.5  13969825             5.0   \n",
       "3          5.0             5.0           4.5  13969825             5.0   \n",
       "4          5.0             5.0           4.5  13969825             5.0   \n",
       "\n",
       "                                              pixels  pixel_size  \n",
       "0  [135, 93, 45, 125, 84, 42, 158, 118, 67, 176, ...       49152  \n",
       "1  [96, 67, 37, 90, 63, 33, 74, 48, 21, 78, 53, 2...       49152  \n",
       "2  [37, 34, 28, 42, 36, 22, 65, 50, 18, 85, 63, 9...       49152  \n",
       "3  [234, 223, 203, 169, 158, 138, 168, 157, 137, ...       49152  \n",
       "4  [56, 46, 36, 54, 44, 34, 52, 42, 32, 52, 42, 3...       49152  "
      ]
     },
     "execution_count": 5,
     "metadata": {},
     "output_type": "execute_result"
    }
   ],
   "source": [
    "df[\"pixel_size\"] = df[\"pixels\"].apply(lambda x: len(x))\n",
    "df = df.drop(df[df.pixel_size != 49152].index)\n",
    "df.head()"
   ]
  },
  {
   "cell_type": "code",
   "execution_count": 6,
   "id": "d2b0fc16",
   "metadata": {},
   "outputs": [],
   "source": [
    "from skimage.feature import hog\n",
    "from skimage import exposure\n",
    "\n",
    "def hog_transformer(img):\n",
    "    if len(img) != 49152:\n",
    "        print(\"check\")\n",
    "        print(img.shape)\n",
    "        return np.empty(0)\n",
    "    \n",
    "    img = img.reshape(128,128,3)\n",
    "    \n",
    "    fd, hog_image = hog(img,orientations=8, pixels_per_cell=(16, 16),\n",
    "                   cells_per_block=(1, 1), visualize=True, channel_axis=-1)\n",
    "    return np.array(fd).flatten()\n",
    "\n",
    "df['hog'] = df['pixels'].apply(hog_transformer)"
   ]
  },
  {
   "cell_type": "code",
   "execution_count": 7,
   "id": "8b2aee07",
   "metadata": {},
   "outputs": [],
   "source": [
    "from sklearn.cluster import KMeans\n",
    "from sklearn.preprocessing import StandardScaler\n",
    "import time\n",
    "\n",
    "images = np.stack(df['pixels'].values)\n",
    "images_hogs = np.stack(df['hog'].values)\n",
    "\n",
    "scaler_pixels = StandardScaler()\n",
    "pixels_scaled = scaler_pixels.fit_transform(images)\n",
    "\n",
    "scaler_hog = StandardScaler()\n",
    "hogs_scaled = scaler_hog.fit_transform(images_hogs)"
   ]
  },
  {
   "cell_type": "code",
   "execution_count": 8,
   "id": "51074ea8",
   "metadata": {
    "scrolled": true
   },
   "outputs": [
    {
     "data": {
      "image/png": "[encoded data removed]",
      "text/plain": [
       "<Figure size 432x288 with 1 Axes>"
      ]
     },
     "metadata": {
      "needs_background": "light"
     },
     "output_type": "display_data"
    }
   ],
   "source": [
    "from sklearn.decomposition import PCA\n",
    "import matplotlib.pyplot as plt\n",
    "\n",
    "pca = PCA()\n",
    "data_reduced = pca.fit_transform(hogs_scaled)\n",
    "plt.plot(np.cumsum(pca.explained_variance_ratio_))\n",
    "plt.xlabel('number of components')\n",
    "plt.ylabel('cumulative explained variance');"
   ]
  },
  {
   "cell_type": "markdown",
   "id": "74e0c6e2",
   "metadata": {},
   "source": [
    "Ik vermoed nu dat we die hogs in ons dataframe moeten steken"
   ]
  },
  {
   "cell_type": "code",
   "execution_count": null,
   "id": "6a95f7f5",
   "metadata": {},
   "outputs": [],
   "source": []
  }
 ],
 "metadata": {
  "kernelspec": {
   "display_name": "Python 3 (ipykernel)",
   "language": "python",
   "name": "python3"
  },
  "language_info": {
   "codemirror_mode": {
    "name": "ipython",
    "version": 3
   },
   "file_extension": ".py",
   "mimetype": "text/x-python",
   "name": "python",
   "nbconvert_exporter": "python",
   "pygments_lexer": "ipython3",
   "version": "3.9.12"
  }
 },
 "nbformat": 4,
 "nbformat_minor": 5
}
