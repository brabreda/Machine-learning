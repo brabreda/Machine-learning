{
 "cells": [
  {
   "cell_type": "markdown",
   "id": "aa5b3949",
   "metadata": {},
   "source": [
    "# Machine learning - sprint 1\n",
    "authors: Allart Ewoud, Van Hees Maxime, Breda Bram"
   ]
  },
  {
   "cell_type": "markdown",
   "id": "f4ae9144",
   "metadata": {},
   "source": [
    "#### GET AN INTIAL FEEL OF THE DATA? MOET DIT ER NOG BIJ OF NIET? --> LABO 1"
   ]
  },
  {
   "cell_type": "markdown",
   "id": "f7b43ddb",
   "metadata": {},
   "source": [
    "## Importing data"
   ]
  },
  {
   "cell_type": "code",
   "execution_count": 1,
   "id": "dbb8be18",
   "metadata": {},
   "outputs": [],
   "source": [
    "# Import pandas and read csv using pandas\n",
    "import pandas as pd\n",
    "import seaborn as sn\n",
    "import numpy as np\n",
    "import matplotlib.pyplot as plt\n",
    "from math import nan\n",
    "import plotly.express as px\n",
    "\n",
    "from geopy.extra.rate_limiter import RateLimiter\n",
    "from geopy.geocoders import Nominatim"
   ]
  },
  {
   "cell_type": "code",
   "execution_count": 2,
   "id": "fa072c3d",
   "metadata": {},
   "outputs": [
    {
     "data": {
      "text/html": [
       "<div>\n",
       "<style scoped>\n",
       "    .dataframe tbody tr th:only-of-type {\n",
       "        vertical-align: middle;\n",
       "    }\n",
       "\n",
       "    .dataframe tbody tr th {\n",
       "        vertical-align: top;\n",
       "    }\n",
       "\n",
       "    .dataframe thead th {\n",
       "        text-align: right;\n",
       "    }\n",
       "</style>\n",
       "<table border=\"1\" class=\"dataframe\">\n",
       "  <thead>\n",
       "    <tr style=\"text-align: right;\">\n",
       "      <th></th>\n",
       "      <th>rank</th>\n",
       "      <th>restaurant name</th>\n",
       "      <th>general rating</th>\n",
       "      <th>number of reviews</th>\n",
       "      <th>tags</th>\n",
       "      <th>address</th>\n",
       "      <th>phone number</th>\n",
       "      <th>website url</th>\n",
       "      <th>menu url</th>\n",
       "      <th>timetable</th>\n",
       "      <th>email address</th>\n",
       "      <th>travelers choice</th>\n",
       "      <th>michelin</th>\n",
       "      <th>food rating</th>\n",
       "      <th>service rating</th>\n",
       "      <th>value rating</th>\n",
       "      <th>atmosphere rating</th>\n",
       "      <th>description</th>\n",
       "      <th>dutch description</th>\n",
       "      <th>price range</th>\n",
       "      <th>cuisines</th>\n",
       "      <th>special diets</th>\n",
       "      <th>meals</th>\n",
       "      <th>restaurant features</th>\n",
       "      <th>id</th>\n",
       "    </tr>\n",
       "  </thead>\n",
       "  <tbody>\n",
       "    <tr>\n",
       "      <th>0</th>\n",
       "      <td>#1</td>\n",
       "      <td>Kin Khao - Thai Eatery</td>\n",
       "      <td>5.0 of 5 bubbles</td>\n",
       "      <td>922 reviews</td>\n",
       "      <td>$$ - $$$|Thai|Healthy|Vegetarian Friendly</td>\n",
       "      <td>Donkersteeg 21-23, Ghent 9000 Belgium</td>\n",
       "      <td>+32 468 10 59 59</td>\n",
       "      <td>http://www.kinkhao.be/</td>\n",
       "      <td>http://www.kinkhao.be/site/menu/</td>\n",
       "      <td>True</td>\n",
       "      <td>gent@kinkhao.be</td>\n",
       "      <td>True</td>\n",
       "      <td>False</td>\n",
       "      <td>5.0</td>\n",
       "      <td>5.0</td>\n",
       "      <td>4.5</td>\n",
       "      <td>-1.0</td>\n",
       "      <td>Differing from formal dining establishments, K...</td>\n",
       "      <td>NaN</td>\n",
       "      <td>€10 - €28</td>\n",
       "      <td>Thai, Healthy</td>\n",
       "      <td>Vegetarian Friendly, Vegan Options, Gluten Fre...</td>\n",
       "      <td>Dinner, Drinks</td>\n",
       "      <td>Reservations, Seating, Serves Alcohol, Free Wi...</td>\n",
       "      <td>13969825</td>\n",
       "    </tr>\n",
       "    <tr>\n",
       "      <th>1</th>\n",
       "      <td>#1</td>\n",
       "      <td>'t Sleutelgat</td>\n",
       "      <td>5.0 of 5 bubbles</td>\n",
       "      <td>200 reviews</td>\n",
       "      <td>$$$$|French|Belgian|European</td>\n",
       "      <td>Kasseide 78, Ninove 9400 Belgium</td>\n",
       "      <td>+32 54 56 63 09</td>\n",
       "      <td>http://www.restaurant-sleutelgat.be/</td>\n",
       "      <td>NaN</td>\n",
       "      <td>True</td>\n",
       "      <td>restaurant_sleutelgat@telenet.be</td>\n",
       "      <td>False</td>\n",
       "      <td>True</td>\n",
       "      <td>5.0</td>\n",
       "      <td>5.0</td>\n",
       "      <td>4.5</td>\n",
       "      <td>5.0</td>\n",
       "      <td>NaN</td>\n",
       "      <td>NaN</td>\n",
       "      <td>€32 - €74</td>\n",
       "      <td>French, Belgian, European</td>\n",
       "      <td>Vegetarian Friendly, Vegan Options, Gluten Fre...</td>\n",
       "      <td>Lunch, Dinner</td>\n",
       "      <td>Free Wifi, Reservations, Outdoor Seating, Seat...</td>\n",
       "      <td>740727</td>\n",
       "    </tr>\n",
       "    <tr>\n",
       "      <th>2</th>\n",
       "      <td>#2</td>\n",
       "      <td>Royal India Restaurant</td>\n",
       "      <td>4.5 of 5 bubbles</td>\n",
       "      <td>774 reviews</td>\n",
       "      <td>$$ - $$$|Indian|Asian|Vegetarian Friendly</td>\n",
       "      <td>Donkersteeg 19 Near hotel novotel gent, Ghent ...</td>\n",
       "      <td>+32 497 40 78 27</td>\n",
       "      <td>NaN</td>\n",
       "      <td>NaN</td>\n",
       "      <td>True</td>\n",
       "      <td>royalindiabelgium@gmail.com</td>\n",
       "      <td>True</td>\n",
       "      <td>False</td>\n",
       "      <td>4.5</td>\n",
       "      <td>4.5</td>\n",
       "      <td>4.5</td>\n",
       "      <td>-1.0</td>\n",
       "      <td>For fresh ingredients and bold flavour, dine i...</td>\n",
       "      <td>NaN</td>\n",
       "      <td>€15 - €30</td>\n",
       "      <td>Indian, Asian</td>\n",
       "      <td>Vegetarian Friendly, Vegan Options, Gluten Fre...</td>\n",
       "      <td>Lunch, Dinner, Late Night, Drinks</td>\n",
       "      <td>Takeout, Reservations, Seating, Highchairs Ava...</td>\n",
       "      <td>12188645</td>\n",
       "    </tr>\n",
       "    <tr>\n",
       "      <th>3</th>\n",
       "      <td>#3</td>\n",
       "      <td>Roots</td>\n",
       "      <td>5.0 of 5 bubbles</td>\n",
       "      <td>282 reviews</td>\n",
       "      <td>$$ - $$$|Belgian|European|Healthy</td>\n",
       "      <td>Vrouwebroersstraat 5, Ghent 9000 Belgium</td>\n",
       "      <td>+32 9 310 67 73</td>\n",
       "      <td>http://www.rootsgent.be/</td>\n",
       "      <td>NaN</td>\n",
       "      <td>True</td>\n",
       "      <td>Info@rootsgent.be</td>\n",
       "      <td>True</td>\n",
       "      <td>True</td>\n",
       "      <td>5.0</td>\n",
       "      <td>4.5</td>\n",
       "      <td>5.0</td>\n",
       "      <td>-1.0</td>\n",
       "      <td>NaN</td>\n",
       "      <td>NaN</td>\n",
       "      <td>€40 - €80</td>\n",
       "      <td>Belgian, European, Healthy</td>\n",
       "      <td>NaN</td>\n",
       "      <td>Lunch, Dinner</td>\n",
       "      <td>Reservations, Outdoor Seating, Seating, Serves...</td>\n",
       "      <td>9710340</td>\n",
       "    </tr>\n",
       "    <tr>\n",
       "      <th>4</th>\n",
       "      <td>#1</td>\n",
       "      <td>Mirage</td>\n",
       "      <td>4.5 of 5 bubbles</td>\n",
       "      <td>240 reviews</td>\n",
       "      <td>$$ - $$$|French|Belgian|Dutch</td>\n",
       "      <td>Brusselsestraat 99, Dendermonde 9200 Belgium</td>\n",
       "      <td>+32 52 55 48 26</td>\n",
       "      <td>http://mirage-ma.be/</td>\n",
       "      <td>http://mirage-ma.be/feestdagenmenus/</td>\n",
       "      <td>True</td>\n",
       "      <td>contact@mirage-ma.be</td>\n",
       "      <td>True</td>\n",
       "      <td>False</td>\n",
       "      <td>4.5</td>\n",
       "      <td>4.5</td>\n",
       "      <td>4.5</td>\n",
       "      <td>-1.0</td>\n",
       "      <td>NaN</td>\n",
       "      <td>NaN</td>\n",
       "      <td>€16 - €64</td>\n",
       "      <td>French, Belgian, Dutch, Seafood, European</td>\n",
       "      <td>Vegetarian Friendly, Vegan Options, Gluten Fre...</td>\n",
       "      <td>Lunch, Dinner</td>\n",
       "      <td>Accepts Visa, Reservations, Outdoor Seating, S...</td>\n",
       "      <td>8298124</td>\n",
       "    </tr>\n",
       "  </tbody>\n",
       "</table>\n",
       "</div>"
      ],
      "text/plain": [
       "  rank         restaurant name    general rating number of reviews  \\\n",
       "0   #1  Kin Khao - Thai Eatery  5.0 of 5 bubbles       922 reviews   \n",
       "1   #1           't Sleutelgat  5.0 of 5 bubbles       200 reviews   \n",
       "2   #2  Royal India Restaurant  4.5 of 5 bubbles       774 reviews   \n",
       "3   #3                   Roots  5.0 of 5 bubbles       282 reviews   \n",
       "4   #1                  Mirage  4.5 of 5 bubbles       240 reviews   \n",
       "\n",
       "                                        tags  \\\n",
       "0  $$ - $$$|Thai|Healthy|Vegetarian Friendly   \n",
       "1               $$$$|French|Belgian|European   \n",
       "2  $$ - $$$|Indian|Asian|Vegetarian Friendly   \n",
       "3          $$ - $$$|Belgian|European|Healthy   \n",
       "4              $$ - $$$|French|Belgian|Dutch   \n",
       "\n",
       "                                             address      phone number  \\\n",
       "0              Donkersteeg 21-23, Ghent 9000 Belgium  +32 468 10 59 59   \n",
       "1                   Kasseide 78, Ninove 9400 Belgium   +32 54 56 63 09   \n",
       "2  Donkersteeg 19 Near hotel novotel gent, Ghent ...  +32 497 40 78 27   \n",
       "3           Vrouwebroersstraat 5, Ghent 9000 Belgium   +32 9 310 67 73   \n",
       "4       Brusselsestraat 99, Dendermonde 9200 Belgium   +32 52 55 48 26   \n",
       "\n",
       "                            website url                              menu url  \\\n",
       "0                http://www.kinkhao.be/      http://www.kinkhao.be/site/menu/   \n",
       "1  http://www.restaurant-sleutelgat.be/                                   NaN   \n",
       "2                                   NaN                                   NaN   \n",
       "3              http://www.rootsgent.be/                                   NaN   \n",
       "4                  http://mirage-ma.be/  http://mirage-ma.be/feestdagenmenus/   \n",
       "\n",
       "   timetable                     email address  travelers choice  michelin  \\\n",
       "0       True                   gent@kinkhao.be              True     False   \n",
       "1       True  restaurant_sleutelgat@telenet.be             False      True   \n",
       "2       True       royalindiabelgium@gmail.com              True     False   \n",
       "3       True                 Info@rootsgent.be              True      True   \n",
       "4       True              contact@mirage-ma.be              True     False   \n",
       "\n",
       "   food rating  service rating  value rating  atmosphere rating  \\\n",
       "0          5.0             5.0           4.5               -1.0   \n",
       "1          5.0             5.0           4.5                5.0   \n",
       "2          4.5             4.5           4.5               -1.0   \n",
       "3          5.0             4.5           5.0               -1.0   \n",
       "4          4.5             4.5           4.5               -1.0   \n",
       "\n",
       "                                         description dutch description  \\\n",
       "0  Differing from formal dining establishments, K...               NaN   \n",
       "1                                                NaN               NaN   \n",
       "2  For fresh ingredients and bold flavour, dine i...               NaN   \n",
       "3                                                NaN               NaN   \n",
       "4                                                NaN               NaN   \n",
       "\n",
       "  price range                                   cuisines  \\\n",
       "0   €10 - €28                              Thai, Healthy   \n",
       "1   €32 - €74                  French, Belgian, European   \n",
       "2   €15 - €30                              Indian, Asian   \n",
       "3   €40 - €80                 Belgian, European, Healthy   \n",
       "4   €16 - €64  French, Belgian, Dutch, Seafood, European   \n",
       "\n",
       "                                       special diets  \\\n",
       "0  Vegetarian Friendly, Vegan Options, Gluten Fre...   \n",
       "1  Vegetarian Friendly, Vegan Options, Gluten Fre...   \n",
       "2  Vegetarian Friendly, Vegan Options, Gluten Fre...   \n",
       "3                                                NaN   \n",
       "4  Vegetarian Friendly, Vegan Options, Gluten Fre...   \n",
       "\n",
       "                               meals  \\\n",
       "0                     Dinner, Drinks   \n",
       "1                      Lunch, Dinner   \n",
       "2  Lunch, Dinner, Late Night, Drinks   \n",
       "3                      Lunch, Dinner   \n",
       "4                      Lunch, Dinner   \n",
       "\n",
       "                                 restaurant features        id  \n",
       "0  Reservations, Seating, Serves Alcohol, Free Wi...  13969825  \n",
       "1  Free Wifi, Reservations, Outdoor Seating, Seat...    740727  \n",
       "2  Takeout, Reservations, Seating, Highchairs Ava...  12188645  \n",
       "3  Reservations, Outdoor Seating, Seating, Serves...   9710340  \n",
       "4  Accepts Visa, Reservations, Outdoor Seating, S...   8298124  "
      ]
     },
     "execution_count": 2,
     "metadata": {},
     "output_type": "execute_result"
    }
   ],
   "source": [
    "\n",
    "\n",
    "original_df = pd.read_csv(\"tripadvisor_dataset/restaurant_listings.csv\")\n",
    "\n",
    "# display the data and see how it formulated\n",
    "pd.set_option(\"display.max_columns\", None)\n",
    "original_df.head()"
   ]
  },
  {
   "cell_type": "markdown",
   "id": "648c2121",
   "metadata": {},
   "source": [
    "## Split in test & train data"
   ]
  },
  {
   "cell_type": "markdown",
   "id": "b509fe0a",
   "metadata": {},
   "source": [
    "The goal of machine learning is to build models on train data that are able to make predictions on unseen test data. So we first try to split our data into a trainset and a test set before we move on to the other steps."
   ]
  },
  {
   "cell_type": "code",
   "execution_count": 3,
   "id": "25ac4b5d",
   "metadata": {},
   "outputs": [],
   "source": [
    "from sklearn.model_selection import train_test_split\n",
    "df_train, df_test = train_test_split(original_df, random_state=0, train_size = 0.8)\n",
    "numerics = ['int16', 'int32', 'int64', 'float16', 'float32', 'float64']\n",
    "df = df_train.select_dtypes(include=numerics)"
   ]
  },
  {
   "cell_type": "markdown",
   "id": "e74c1c33",
   "metadata": {},
   "source": [
    "## Data clean-up"
   ]
  },
  {
   "cell_type": "markdown",
   "id": "182ba231",
   "metadata": {},
   "source": [
    "First we start with cleaning of the less complicated data. This includes the collumns general rating, number of reviews and rank."
   ]
  },
  {
   "cell_type": "markdown",
   "id": "d445dff3",
   "metadata": {},
   "source": [
    "### General rating, number of reviews & rank"
   ]
  },
  {
   "cell_type": "markdown",
   "id": "9f7da894",
   "metadata": {},
   "source": [
    "General rating komt in een tekstuele vorm, uit deze vorm moet enkel het eerste getal worden gehaald. We merken ook op dat het een aantal -1 values heeft, deze veranderen we door NaN. \n",
    "\n"
   ]
  },
  {
   "cell_type": "code",
   "execution_count": 4,
   "id": "8ae0a02c",
   "metadata": {},
   "outputs": [
    {
     "data": {
      "text/html": [
       "<div>\n",
       "<style scoped>\n",
       "    .dataframe tbody tr th:only-of-type {\n",
       "        vertical-align: middle;\n",
       "    }\n",
       "\n",
       "    .dataframe tbody tr th {\n",
       "        vertical-align: top;\n",
       "    }\n",
       "\n",
       "    .dataframe thead th {\n",
       "        text-align: right;\n",
       "    }\n",
       "</style>\n",
       "<table border=\"1\" class=\"dataframe\">\n",
       "  <thead>\n",
       "    <tr style=\"text-align: right;\">\n",
       "      <th></th>\n",
       "      <th>food rating</th>\n",
       "      <th>service rating</th>\n",
       "      <th>value rating</th>\n",
       "      <th>atmosphere rating</th>\n",
       "      <th>id</th>\n",
       "      <th>general rating</th>\n",
       "      <th>number of reviews</th>\n",
       "      <th>rank</th>\n",
       "    </tr>\n",
       "  </thead>\n",
       "  <tbody>\n",
       "    <tr>\n",
       "      <th>220</th>\n",
       "      <td>4.0</td>\n",
       "      <td>4.0</td>\n",
       "      <td>4.0</td>\n",
       "      <td>4.0</td>\n",
       "      <td>1127788</td>\n",
       "      <td>4.0</td>\n",
       "      <td>179</td>\n",
       "      <td>119.0</td>\n",
       "    </tr>\n",
       "    <tr>\n",
       "      <th>1103</th>\n",
       "      <td>4.0</td>\n",
       "      <td>3.5</td>\n",
       "      <td>3.5</td>\n",
       "      <td>-1.0</td>\n",
       "      <td>12272003</td>\n",
       "      <td>3.5</td>\n",
       "      <td>79</td>\n",
       "      <td>430.0</td>\n",
       "    </tr>\n",
       "    <tr>\n",
       "      <th>17</th>\n",
       "      <td>4.5</td>\n",
       "      <td>4.5</td>\n",
       "      <td>4.5</td>\n",
       "      <td>4.0</td>\n",
       "      <td>784367</td>\n",
       "      <td>4.5</td>\n",
       "      <td>254</td>\n",
       "      <td>11.0</td>\n",
       "    </tr>\n",
       "    <tr>\n",
       "      <th>58</th>\n",
       "      <td>4.5</td>\n",
       "      <td>4.5</td>\n",
       "      <td>4.5</td>\n",
       "      <td>-1.0</td>\n",
       "      <td>8279642</td>\n",
       "      <td>4.5</td>\n",
       "      <td>120</td>\n",
       "      <td>1.0</td>\n",
       "    </tr>\n",
       "    <tr>\n",
       "      <th>847</th>\n",
       "      <td>4.0</td>\n",
       "      <td>4.5</td>\n",
       "      <td>4.5</td>\n",
       "      <td>-1.0</td>\n",
       "      <td>10037978</td>\n",
       "      <td>4.5</td>\n",
       "      <td>20</td>\n",
       "      <td>26.0</td>\n",
       "    </tr>\n",
       "  </tbody>\n",
       "</table>\n",
       "</div>"
      ],
      "text/plain": [
       "      food rating  service rating  value rating  atmosphere rating        id  \\\n",
       "220           4.0             4.0           4.0                4.0   1127788   \n",
       "1103          4.0             3.5           3.5               -1.0  12272003   \n",
       "17            4.5             4.5           4.5                4.0    784367   \n",
       "58            4.5             4.5           4.5               -1.0   8279642   \n",
       "847           4.0             4.5           4.5               -1.0  10037978   \n",
       "\n",
       "      general rating  number of reviews   rank  \n",
       "220              4.0                179  119.0  \n",
       "1103             3.5                 79  430.0  \n",
       "17               4.5                254   11.0  \n",
       "58               4.5                120    1.0  \n",
       "847              4.5                 20   26.0  "
      ]
     },
     "execution_count": 4,
     "metadata": {},
     "output_type": "execute_result"
    }
   ],
   "source": [
    "# general rating\n",
    "df[\"general rating\"] = df_train[\"general rating\"].apply(lambda x: float(str(x).split(' ')[0]))\n",
    "df[\"general rating\"] = pd.to_numeric(df[\"general rating\"])\n",
    "df[\"general rating\"] = df[\"general rating\"].replace(-1, np.nan)\n",
    "\n",
    "# number of reviews\n",
    "df[\"number of reviews\"] = df_train[\"number of reviews\"].apply(lambda x: int(str(x).split(' ')[0]))\n",
    "df[\"number of reviews\"] = pd.to_numeric(df[\"number of reviews\"])\n",
    "\n",
    "# rank\n",
    "df[\"rank\"] = df_train[\"rank\"].str.split(\"#\").str[1]\n",
    "df[\"rank\"] = pd.to_numeric(df[\"rank\"])\n",
    "\n",
    "df.head()"
   ]
  },
  {
   "cell_type": "markdown",
   "id": "717e1f41",
   "metadata": {},
   "source": [
    "### Restaurants with no reviews"
   ]
  },
  {
   "cell_type": "markdown",
   "id": "bc113fc8",
   "metadata": {},
   "source": [
    "2 options:\n",
    "\n",
    "- we remove the restaurants that have no reviews, and thus nu general rating. But will this impact the model we will train later on? \n",
    "\n",
    "```df2 = df.loc[(df['number of reviews'] == 0) & (df['general rating'] == -1.0)]```\n",
    "\n",
    "- we don't remove them and assume the model will learn by itself that these entries aren't that useful."
   ]
  },
  {
   "cell_type": "markdown",
   "id": "b0c53502",
   "metadata": {},
   "source": [
    "Kga dit eens vragen aan iemand die data science als werk doet."
   ]
  },
  {
   "cell_type": "markdown",
   "id": "1c98e00d",
   "metadata": {},
   "source": [
    "### Price range\n",
    "A collumn that is a bit more complicated is price range, this collumn will be split in 2, after this the average is taken."
   ]
  },
  {
   "cell_type": "code",
   "execution_count": 5,
   "id": "fda4608c",
   "metadata": {},
   "outputs": [
    {
     "data": {
      "text/plain": [
       "<seaborn.axisgrid.FacetGrid at 0x7ffd2db4d790>"
      ]
     },
     "execution_count": 5,
     "metadata": {},
     "output_type": "execute_result"
    },
    {
     "data": {
      "image/png": "[encoded data removed]",
      "text/plain": [
       "<Figure size 360x360 with 1 Axes>"
      ]
     },
     "metadata": {
      "needs_background": "light"
     },
     "output_type": "display_data"
    },
    {
     "data": {
      "image/png": "[encoded data removed]",
      "text/plain": [
       "<Figure size 360x360 with 1 Axes>"
      ]
     },
     "metadata": {
      "needs_background": "light"
     },
     "output_type": "display_data"
    }
   ],
   "source": [
    "upper_bound = df_train[\"price range\"].str.split(\" - \").str[1]\n",
    "upper_bound = upper_bound.str.split('€').str[1]\n",
    "upper_bound = pd.to_numeric(upper_bound)\n",
    "\n",
    "lower_bound = df_train[\"price range\"].str.split(\" - \").str[0]\n",
    "lower_bound = lower_bound.str.split('€').str[1]\n",
    "lower_bound = pd.to_numeric(lower_bound)\n",
    "\n",
    "sn.displot(upper_bound)\n",
    "sn.displot(lower_bound)"
   ]
  },
  {
   "cell_type": "code",
   "execution_count": 6,
   "id": "91f6f10f",
   "metadata": {},
   "outputs": [
    {
     "data": {
      "text/html": [
       "<div>\n",
       "<style scoped>\n",
       "    .dataframe tbody tr th:only-of-type {\n",
       "        vertical-align: middle;\n",
       "    }\n",
       "\n",
       "    .dataframe tbody tr th {\n",
       "        vertical-align: top;\n",
       "    }\n",
       "\n",
       "    .dataframe thead th {\n",
       "        text-align: right;\n",
       "    }\n",
       "</style>\n",
       "<table border=\"1\" class=\"dataframe\">\n",
       "  <thead>\n",
       "    <tr style=\"text-align: right;\">\n",
       "      <th></th>\n",
       "      <th>food rating</th>\n",
       "      <th>service rating</th>\n",
       "      <th>value rating</th>\n",
       "      <th>atmosphere rating</th>\n",
       "      <th>id</th>\n",
       "      <th>general rating</th>\n",
       "      <th>number of reviews</th>\n",
       "      <th>rank</th>\n",
       "      <th>price range</th>\n",
       "    </tr>\n",
       "  </thead>\n",
       "  <tbody>\n",
       "    <tr>\n",
       "      <th>220</th>\n",
       "      <td>4.0</td>\n",
       "      <td>4.0</td>\n",
       "      <td>4.0</td>\n",
       "      <td>4.0</td>\n",
       "      <td>1127788</td>\n",
       "      <td>4.0</td>\n",
       "      <td>179</td>\n",
       "      <td>119.0</td>\n",
       "      <td>0.0</td>\n",
       "    </tr>\n",
       "    <tr>\n",
       "      <th>1103</th>\n",
       "      <td>4.0</td>\n",
       "      <td>3.5</td>\n",
       "      <td>3.5</td>\n",
       "      <td>-1.0</td>\n",
       "      <td>12272003</td>\n",
       "      <td>3.5</td>\n",
       "      <td>79</td>\n",
       "      <td>430.0</td>\n",
       "      <td>NaN</td>\n",
       "    </tr>\n",
       "    <tr>\n",
       "      <th>17</th>\n",
       "      <td>4.5</td>\n",
       "      <td>4.5</td>\n",
       "      <td>4.5</td>\n",
       "      <td>4.0</td>\n",
       "      <td>784367</td>\n",
       "      <td>4.5</td>\n",
       "      <td>254</td>\n",
       "      <td>11.0</td>\n",
       "      <td>0.0</td>\n",
       "    </tr>\n",
       "    <tr>\n",
       "      <th>58</th>\n",
       "      <td>4.5</td>\n",
       "      <td>4.5</td>\n",
       "      <td>4.5</td>\n",
       "      <td>-1.0</td>\n",
       "      <td>8279642</td>\n",
       "      <td>4.5</td>\n",
       "      <td>120</td>\n",
       "      <td>1.0</td>\n",
       "      <td>0.0</td>\n",
       "    </tr>\n",
       "    <tr>\n",
       "      <th>847</th>\n",
       "      <td>4.0</td>\n",
       "      <td>4.5</td>\n",
       "      <td>4.5</td>\n",
       "      <td>-1.0</td>\n",
       "      <td>10037978</td>\n",
       "      <td>4.5</td>\n",
       "      <td>20</td>\n",
       "      <td>26.0</td>\n",
       "      <td>NaN</td>\n",
       "    </tr>\n",
       "  </tbody>\n",
       "</table>\n",
       "</div>"
      ],
      "text/plain": [
       "      food rating  service rating  value rating  atmosphere rating        id  \\\n",
       "220           4.0             4.0           4.0                4.0   1127788   \n",
       "1103          4.0             3.5           3.5               -1.0  12272003   \n",
       "17            4.5             4.5           4.5                4.0    784367   \n",
       "58            4.5             4.5           4.5               -1.0   8279642   \n",
       "847           4.0             4.5           4.5               -1.0  10037978   \n",
       "\n",
       "      general rating  number of reviews   rank  price range  \n",
       "220              4.0                179  119.0          0.0  \n",
       "1103             3.5                 79  430.0          NaN  \n",
       "17               4.5                254   11.0          0.0  \n",
       "58               4.5                120    1.0          0.0  \n",
       "847              4.5                 20   26.0          NaN  "
      ]
     },
     "execution_count": 6,
     "metadata": {},
     "output_type": "execute_result"
    },
    {
     "data": {
      "image/png": "[encoded data removed]",
      "text/plain": [
       "<Figure size 360x360 with 1 Axes>"
      ]
     },
     "metadata": {
      "needs_background": "light"
     },
     "output_type": "display_data"
    }
   ],
   "source": [
    "from sklearn import preprocessing\n",
    "\n",
    "average = (upper_bound-lower_bound)/2\n",
    "\n",
    "transformer = preprocessing.FunctionTransformer(pd.cut, kw_args={'bins': 10, 'labels': \n",
    "                                                                 [0, 1, 2, 3, 4, 5, 6, 7, 8, 9], 'retbins': True})\n",
    "avg_quantfied = transformer.fit_transform(average)\n",
    "\n",
    "#visualize the data\n",
    "sn.displot(avg_quantfied[0])\n",
    "\n",
    "df['price range'] =  pd.to_numeric(avg_quantfied[0])\n",
    "df.head()"
   ]
  },
  {
   "cell_type": "markdown",
   "id": "5e8c50dd",
   "metadata": {},
   "source": [
    "### Food, service & value rating"
   ]
  },
  {
   "cell_type": "code",
   "execution_count": 30,
   "id": "17b530e8",
   "metadata": {},
   "outputs": [
    {
     "data": {
      "text/plain": [
       "array([[<AxesSubplot:xlabel='food rating', ylabel='food rating'>,\n",
       "        <AxesSubplot:xlabel='service rating', ylabel='food rating'>,\n",
       "        <AxesSubplot:xlabel='value rating', ylabel='food rating'>,\n",
       "        <AxesSubplot:xlabel='general rating', ylabel='food rating'>],\n",
       "       [<AxesSubplot:xlabel='food rating', ylabel='service rating'>,\n",
       "        <AxesSubplot:xlabel='service rating', ylabel='service rating'>,\n",
       "        <AxesSubplot:xlabel='value rating', ylabel='service rating'>,\n",
       "        <AxesSubplot:xlabel='general rating', ylabel='service rating'>],\n",
       "       [<AxesSubplot:xlabel='food rating', ylabel='value rating'>,\n",
       "        <AxesSubplot:xlabel='service rating', ylabel='value rating'>,\n",
       "        <AxesSubplot:xlabel='value rating', ylabel='value rating'>,\n",
       "        <AxesSubplot:xlabel='general rating', ylabel='value rating'>],\n",
       "       [<AxesSubplot:xlabel='food rating', ylabel='general rating'>,\n",
       "        <AxesSubplot:xlabel='service rating', ylabel='general rating'>,\n",
       "        <AxesSubplot:xlabel='value rating', ylabel='general rating'>,\n",
       "        <AxesSubplot:xlabel='general rating', ylabel='general rating'>]],\n",
       "      dtype=object)"
      ]
     },
     "execution_count": 30,
     "metadata": {},
     "output_type": "execute_result"
    },
    {
     "data": {
      "image/png": "[encoded data removed]",
      "text/plain": [
       "<Figure size 576x576 with 16 Axes>"
      ]
     },
     "metadata": {
      "needs_background": "light"
     },
     "output_type": "display_data"
    }
   ],
   "source": [
    "pd.plotting.scatter_matrix(df[[\"food rating\",\"service rating\",\"value rating\", \"general rating\"]], figsize = (8,8))"
   ]
  },
  {
   "cell_type": "markdown",
   "id": "cca62623",
   "metadata": {},
   "source": [
    "Notice in the chart above, that in food rating, service rating, value rating & atmosphere rating there are alot of -1.\n",
    "- In the cases of food, value & service rating we are going to replace them with the average\n",
    "- In the case of atmosphere rating, we are going to drop this column, you can see that most of the data here is -1. So in this case this looks like the best solution."
   ]
  },
  {
   "cell_type": "code",
   "execution_count": 31,
   "id": "fa1567db",
   "metadata": {},
   "outputs": [
    {
     "ename": "KeyError",
     "evalue": "\"['atmosphere rating'] not found in axis\"",
     "output_type": "error",
     "traceback": [
      "\u001b[0;31m---------------------------------------------------------------------------\u001b[0m",
      "\u001b[0;31mKeyError\u001b[0m                                  Traceback (most recent call last)",
      "Input \u001b[0;32mIn [31]\u001b[0m, in \u001b[0;36m<cell line: 10>\u001b[0;34m()\u001b[0m\n\u001b[1;32m      7\u001b[0m mean \u001b[38;5;241m=\u001b[39m df[\u001b[38;5;124m\"\u001b[39m\u001b[38;5;124mvalue rating\u001b[39m\u001b[38;5;124m\"\u001b[39m]\u001b[38;5;241m.\u001b[39mloc[df[\u001b[38;5;124m\"\u001b[39m\u001b[38;5;124mvalue rating\u001b[39m\u001b[38;5;124m\"\u001b[39m] \u001b[38;5;241m!=\u001b[39m \u001b[38;5;241m-\u001b[39m\u001b[38;5;241m1\u001b[39m]\u001b[38;5;241m.\u001b[39mmean()\n\u001b[1;32m      8\u001b[0m df[\u001b[38;5;124m\"\u001b[39m\u001b[38;5;124mvalue rating\u001b[39m\u001b[38;5;124m\"\u001b[39m] \u001b[38;5;241m=\u001b[39m df[\u001b[38;5;124m\"\u001b[39m\u001b[38;5;124mvalue rating\u001b[39m\u001b[38;5;124m\"\u001b[39m]\u001b[38;5;241m.\u001b[39mreplace(\u001b[38;5;241m-\u001b[39m\u001b[38;5;241m1\u001b[39m,mean)\n\u001b[0;32m---> 10\u001b[0m df \u001b[38;5;241m=\u001b[39m \u001b[43mdf\u001b[49m\u001b[38;5;241;43m.\u001b[39;49m\u001b[43mdrop\u001b[49m\u001b[43m(\u001b[49m\u001b[43mcolumns\u001b[49m\u001b[38;5;241;43m=\u001b[39;49m\u001b[43m[\u001b[49m\u001b[38;5;124;43m\"\u001b[39;49m\u001b[38;5;124;43matmosphere rating\u001b[39;49m\u001b[38;5;124;43m\"\u001b[39;49m\u001b[43m]\u001b[49m\u001b[43m)\u001b[49m\n\u001b[1;32m     12\u001b[0m pd\u001b[38;5;241m.\u001b[39mplotting\u001b[38;5;241m.\u001b[39mscatter_matrix(df[[\u001b[38;5;124m\"\u001b[39m\u001b[38;5;124mfood rating\u001b[39m\u001b[38;5;124m\"\u001b[39m,\u001b[38;5;124m\"\u001b[39m\u001b[38;5;124mservice rating\u001b[39m\u001b[38;5;124m\"\u001b[39m,\u001b[38;5;124m\"\u001b[39m\u001b[38;5;124mvalue rating\u001b[39m\u001b[38;5;124m\"\u001b[39m]], figsize \u001b[38;5;241m=\u001b[39m (\u001b[38;5;241m8\u001b[39m,\u001b[38;5;241m8\u001b[39m))\n",
      "File \u001b[0;32m~/opt/anaconda3/lib/python3.9/site-packages/pandas/util/_decorators.py:311\u001b[0m, in \u001b[0;36mdeprecate_nonkeyword_arguments.<locals>.decorate.<locals>.wrapper\u001b[0;34m(*args, **kwargs)\u001b[0m\n\u001b[1;32m    305\u001b[0m \u001b[38;5;28;01mif\u001b[39;00m \u001b[38;5;28mlen\u001b[39m(args) \u001b[38;5;241m>\u001b[39m num_allow_args:\n\u001b[1;32m    306\u001b[0m     warnings\u001b[38;5;241m.\u001b[39mwarn(\n\u001b[1;32m    307\u001b[0m         msg\u001b[38;5;241m.\u001b[39mformat(arguments\u001b[38;5;241m=\u001b[39marguments),\n\u001b[1;32m    308\u001b[0m         \u001b[38;5;167;01mFutureWarning\u001b[39;00m,\n\u001b[1;32m    309\u001b[0m         stacklevel\u001b[38;5;241m=\u001b[39mstacklevel,\n\u001b[1;32m    310\u001b[0m     )\n\u001b[0;32m--> 311\u001b[0m \u001b[38;5;28;01mreturn\u001b[39;00m \u001b[43mfunc\u001b[49m\u001b[43m(\u001b[49m\u001b[38;5;241;43m*\u001b[39;49m\u001b[43margs\u001b[49m\u001b[43m,\u001b[49m\u001b[43m \u001b[49m\u001b[38;5;241;43m*\u001b[39;49m\u001b[38;5;241;43m*\u001b[39;49m\u001b[43mkwargs\u001b[49m\u001b[43m)\u001b[49m\n",
      "File \u001b[0;32m~/opt/anaconda3/lib/python3.9/site-packages/pandas/core/frame.py:4954\u001b[0m, in \u001b[0;36mDataFrame.drop\u001b[0;34m(self, labels, axis, index, columns, level, inplace, errors)\u001b[0m\n\u001b[1;32m   4806\u001b[0m \u001b[38;5;129m@deprecate_nonkeyword_arguments\u001b[39m(version\u001b[38;5;241m=\u001b[39m\u001b[38;5;28;01mNone\u001b[39;00m, allowed_args\u001b[38;5;241m=\u001b[39m[\u001b[38;5;124m\"\u001b[39m\u001b[38;5;124mself\u001b[39m\u001b[38;5;124m\"\u001b[39m, \u001b[38;5;124m\"\u001b[39m\u001b[38;5;124mlabels\u001b[39m\u001b[38;5;124m\"\u001b[39m])\n\u001b[1;32m   4807\u001b[0m \u001b[38;5;28;01mdef\u001b[39;00m \u001b[38;5;21mdrop\u001b[39m(\n\u001b[1;32m   4808\u001b[0m     \u001b[38;5;28mself\u001b[39m,\n\u001b[0;32m   (...)\u001b[0m\n\u001b[1;32m   4815\u001b[0m     errors: \u001b[38;5;28mstr\u001b[39m \u001b[38;5;241m=\u001b[39m \u001b[38;5;124m\"\u001b[39m\u001b[38;5;124mraise\u001b[39m\u001b[38;5;124m\"\u001b[39m,\n\u001b[1;32m   4816\u001b[0m ):\n\u001b[1;32m   4817\u001b[0m     \u001b[38;5;124;03m\"\"\"\u001b[39;00m\n\u001b[1;32m   4818\u001b[0m \u001b[38;5;124;03m    Drop specified labels from rows or columns.\u001b[39;00m\n\u001b[1;32m   4819\u001b[0m \n\u001b[0;32m   (...)\u001b[0m\n\u001b[1;32m   4952\u001b[0m \u001b[38;5;124;03m            weight  1.0     0.8\u001b[39;00m\n\u001b[1;32m   4953\u001b[0m \u001b[38;5;124;03m    \"\"\"\u001b[39;00m\n\u001b[0;32m-> 4954\u001b[0m     \u001b[38;5;28;01mreturn\u001b[39;00m \u001b[38;5;28;43msuper\u001b[39;49m\u001b[43m(\u001b[49m\u001b[43m)\u001b[49m\u001b[38;5;241;43m.\u001b[39;49m\u001b[43mdrop\u001b[49m\u001b[43m(\u001b[49m\n\u001b[1;32m   4955\u001b[0m \u001b[43m        \u001b[49m\u001b[43mlabels\u001b[49m\u001b[38;5;241;43m=\u001b[39;49m\u001b[43mlabels\u001b[49m\u001b[43m,\u001b[49m\n\u001b[1;32m   4956\u001b[0m \u001b[43m        \u001b[49m\u001b[43maxis\u001b[49m\u001b[38;5;241;43m=\u001b[39;49m\u001b[43maxis\u001b[49m\u001b[43m,\u001b[49m\n\u001b[1;32m   4957\u001b[0m \u001b[43m        \u001b[49m\u001b[43mindex\u001b[49m\u001b[38;5;241;43m=\u001b[39;49m\u001b[43mindex\u001b[49m\u001b[43m,\u001b[49m\n\u001b[1;32m   4958\u001b[0m \u001b[43m        \u001b[49m\u001b[43mcolumns\u001b[49m\u001b[38;5;241;43m=\u001b[39;49m\u001b[43mcolumns\u001b[49m\u001b[43m,\u001b[49m\n\u001b[1;32m   4959\u001b[0m \u001b[43m        \u001b[49m\u001b[43mlevel\u001b[49m\u001b[38;5;241;43m=\u001b[39;49m\u001b[43mlevel\u001b[49m\u001b[43m,\u001b[49m\n\u001b[1;32m   4960\u001b[0m \u001b[43m        \u001b[49m\u001b[43minplace\u001b[49m\u001b[38;5;241;43m=\u001b[39;49m\u001b[43minplace\u001b[49m\u001b[43m,\u001b[49m\n\u001b[1;32m   4961\u001b[0m \u001b[43m        \u001b[49m\u001b[43merrors\u001b[49m\u001b[38;5;241;43m=\u001b[39;49m\u001b[43merrors\u001b[49m\u001b[43m,\u001b[49m\n\u001b[1;32m   4962\u001b[0m \u001b[43m    \u001b[49m\u001b[43m)\u001b[49m\n",
      "File \u001b[0;32m~/opt/anaconda3/lib/python3.9/site-packages/pandas/core/generic.py:4267\u001b[0m, in \u001b[0;36mNDFrame.drop\u001b[0;34m(self, labels, axis, index, columns, level, inplace, errors)\u001b[0m\n\u001b[1;32m   4265\u001b[0m \u001b[38;5;28;01mfor\u001b[39;00m axis, labels \u001b[38;5;129;01min\u001b[39;00m axes\u001b[38;5;241m.\u001b[39mitems():\n\u001b[1;32m   4266\u001b[0m     \u001b[38;5;28;01mif\u001b[39;00m labels \u001b[38;5;129;01mis\u001b[39;00m \u001b[38;5;129;01mnot\u001b[39;00m \u001b[38;5;28;01mNone\u001b[39;00m:\n\u001b[0;32m-> 4267\u001b[0m         obj \u001b[38;5;241m=\u001b[39m \u001b[43mobj\u001b[49m\u001b[38;5;241;43m.\u001b[39;49m\u001b[43m_drop_axis\u001b[49m\u001b[43m(\u001b[49m\u001b[43mlabels\u001b[49m\u001b[43m,\u001b[49m\u001b[43m \u001b[49m\u001b[43maxis\u001b[49m\u001b[43m,\u001b[49m\u001b[43m \u001b[49m\u001b[43mlevel\u001b[49m\u001b[38;5;241;43m=\u001b[39;49m\u001b[43mlevel\u001b[49m\u001b[43m,\u001b[49m\u001b[43m \u001b[49m\u001b[43merrors\u001b[49m\u001b[38;5;241;43m=\u001b[39;49m\u001b[43merrors\u001b[49m\u001b[43m)\u001b[49m\n\u001b[1;32m   4269\u001b[0m \u001b[38;5;28;01mif\u001b[39;00m inplace:\n\u001b[1;32m   4270\u001b[0m     \u001b[38;5;28mself\u001b[39m\u001b[38;5;241m.\u001b[39m_update_inplace(obj)\n",
      "File \u001b[0;32m~/opt/anaconda3/lib/python3.9/site-packages/pandas/core/generic.py:4311\u001b[0m, in \u001b[0;36mNDFrame._drop_axis\u001b[0;34m(self, labels, axis, level, errors, consolidate, only_slice)\u001b[0m\n\u001b[1;32m   4309\u001b[0m         new_axis \u001b[38;5;241m=\u001b[39m axis\u001b[38;5;241m.\u001b[39mdrop(labels, level\u001b[38;5;241m=\u001b[39mlevel, errors\u001b[38;5;241m=\u001b[39merrors)\n\u001b[1;32m   4310\u001b[0m     \u001b[38;5;28;01melse\u001b[39;00m:\n\u001b[0;32m-> 4311\u001b[0m         new_axis \u001b[38;5;241m=\u001b[39m \u001b[43maxis\u001b[49m\u001b[38;5;241;43m.\u001b[39;49m\u001b[43mdrop\u001b[49m\u001b[43m(\u001b[49m\u001b[43mlabels\u001b[49m\u001b[43m,\u001b[49m\u001b[43m \u001b[49m\u001b[43merrors\u001b[49m\u001b[38;5;241;43m=\u001b[39;49m\u001b[43merrors\u001b[49m\u001b[43m)\u001b[49m\n\u001b[1;32m   4312\u001b[0m     indexer \u001b[38;5;241m=\u001b[39m axis\u001b[38;5;241m.\u001b[39mget_indexer(new_axis)\n\u001b[1;32m   4314\u001b[0m \u001b[38;5;66;03m# Case for non-unique axis\u001b[39;00m\n\u001b[1;32m   4315\u001b[0m \u001b[38;5;28;01melse\u001b[39;00m:\n",
      "File \u001b[0;32m~/opt/anaconda3/lib/python3.9/site-packages/pandas/core/indexes/base.py:6644\u001b[0m, in \u001b[0;36mIndex.drop\u001b[0;34m(self, labels, errors)\u001b[0m\n\u001b[1;32m   6642\u001b[0m \u001b[38;5;28;01mif\u001b[39;00m mask\u001b[38;5;241m.\u001b[39many():\n\u001b[1;32m   6643\u001b[0m     \u001b[38;5;28;01mif\u001b[39;00m errors \u001b[38;5;241m!=\u001b[39m \u001b[38;5;124m\"\u001b[39m\u001b[38;5;124mignore\u001b[39m\u001b[38;5;124m\"\u001b[39m:\n\u001b[0;32m-> 6644\u001b[0m         \u001b[38;5;28;01mraise\u001b[39;00m \u001b[38;5;167;01mKeyError\u001b[39;00m(\u001b[38;5;124mf\u001b[39m\u001b[38;5;124m\"\u001b[39m\u001b[38;5;132;01m{\u001b[39;00m\u001b[38;5;28mlist\u001b[39m(labels[mask])\u001b[38;5;132;01m}\u001b[39;00m\u001b[38;5;124m not found in axis\u001b[39m\u001b[38;5;124m\"\u001b[39m)\n\u001b[1;32m   6645\u001b[0m     indexer \u001b[38;5;241m=\u001b[39m indexer[\u001b[38;5;241m~\u001b[39mmask]\n\u001b[1;32m   6646\u001b[0m \u001b[38;5;28;01mreturn\u001b[39;00m \u001b[38;5;28mself\u001b[39m\u001b[38;5;241m.\u001b[39mdelete(indexer)\n",
      "\u001b[0;31mKeyError\u001b[0m: \"['atmosphere rating'] not found in axis\""
     ]
    }
   ],
   "source": [
    "mean = df[\"service rating\"].loc[df[\"service rating\"] != -1].mean()\n",
    "df[\"service rating\"] = df[\"service rating\"].replace(-1,mean)\n",
    "\n",
    "mean = df[\"food rating\"].loc[df[\"food rating\"] != -1].mean()\n",
    "df[\"food rating\"] = df[\"food rating\"].replace(-1,mean)\n",
    "\n",
    "mean = df[\"value rating\"].loc[df[\"value rating\"] != -1].mean()\n",
    "df[\"value rating\"] = df[\"value rating\"].replace(-1,mean)\n",
    "\n",
    "df = df.drop(columns=[\"atmosphere rating\"])\n",
    "\n",
    "pd.plotting.scatter_matrix(df[[\"food rating\",\"service rating\",\"value rating\"]], figsize = (8,8))"
   ]
  },
  {
   "cell_type": "markdown",
   "id": "5c60e49b",
   "metadata": {},
   "source": []
  },
  {
   "cell_type": "markdown",
   "id": "aa22ccd0",
   "metadata": {},
   "source": [
    "### Meals"
   ]
  },
  {
   "cell_type": "code",
   "execution_count": 9,
   "id": "c577cef3",
   "metadata": {
    "scrolled": true
   },
   "outputs": [
    {
     "data": {
      "text/html": [
       "<div>\n",
       "<style scoped>\n",
       "    .dataframe tbody tr th:only-of-type {\n",
       "        vertical-align: middle;\n",
       "    }\n",
       "\n",
       "    .dataframe tbody tr th {\n",
       "        vertical-align: top;\n",
       "    }\n",
       "\n",
       "    .dataframe thead th {\n",
       "        text-align: right;\n",
       "    }\n",
       "</style>\n",
       "<table border=\"1\" class=\"dataframe\">\n",
       "  <thead>\n",
       "    <tr style=\"text-align: right;\">\n",
       "      <th></th>\n",
       "      <th>food rating</th>\n",
       "      <th>service rating</th>\n",
       "      <th>value rating</th>\n",
       "      <th>atmosphere rating</th>\n",
       "      <th>id</th>\n",
       "      <th>general rating</th>\n",
       "      <th>number of reviews</th>\n",
       "      <th>rank</th>\n",
       "      <th>price range</th>\n",
       "      <th>Dinner</th>\n",
       "      <th>Brunch</th>\n",
       "      <th>Breakfast</th>\n",
       "      <th>Late Night</th>\n",
       "      <th>Drinks</th>\n",
       "      <th>Lunch</th>\n",
       "    </tr>\n",
       "  </thead>\n",
       "  <tbody>\n",
       "    <tr>\n",
       "      <th>220</th>\n",
       "      <td>4.0</td>\n",
       "      <td>4.0</td>\n",
       "      <td>4.0</td>\n",
       "      <td>4.000000</td>\n",
       "      <td>1127788</td>\n",
       "      <td>4.0</td>\n",
       "      <td>179</td>\n",
       "      <td>119.0</td>\n",
       "      <td>0.0</td>\n",
       "      <td>1</td>\n",
       "      <td>0</td>\n",
       "      <td>0</td>\n",
       "      <td>1</td>\n",
       "      <td>0</td>\n",
       "      <td>1</td>\n",
       "    </tr>\n",
       "    <tr>\n",
       "      <th>1103</th>\n",
       "      <td>4.0</td>\n",
       "      <td>3.5</td>\n",
       "      <td>3.5</td>\n",
       "      <td>3.860494</td>\n",
       "      <td>12272003</td>\n",
       "      <td>3.5</td>\n",
       "      <td>79</td>\n",
       "      <td>430.0</td>\n",
       "      <td>NaN</td>\n",
       "      <td>1</td>\n",
       "      <td>0</td>\n",
       "      <td>0</td>\n",
       "      <td>0</td>\n",
       "      <td>0</td>\n",
       "      <td>0</td>\n",
       "    </tr>\n",
       "    <tr>\n",
       "      <th>17</th>\n",
       "      <td>4.5</td>\n",
       "      <td>4.5</td>\n",
       "      <td>4.5</td>\n",
       "      <td>4.000000</td>\n",
       "      <td>784367</td>\n",
       "      <td>4.5</td>\n",
       "      <td>254</td>\n",
       "      <td>11.0</td>\n",
       "      <td>0.0</td>\n",
       "      <td>1</td>\n",
       "      <td>0</td>\n",
       "      <td>0</td>\n",
       "      <td>0</td>\n",
       "      <td>0</td>\n",
       "      <td>0</td>\n",
       "    </tr>\n",
       "    <tr>\n",
       "      <th>58</th>\n",
       "      <td>4.5</td>\n",
       "      <td>4.5</td>\n",
       "      <td>4.5</td>\n",
       "      <td>3.860494</td>\n",
       "      <td>8279642</td>\n",
       "      <td>4.5</td>\n",
       "      <td>120</td>\n",
       "      <td>1.0</td>\n",
       "      <td>0.0</td>\n",
       "      <td>1</td>\n",
       "      <td>0</td>\n",
       "      <td>0</td>\n",
       "      <td>0</td>\n",
       "      <td>0</td>\n",
       "      <td>1</td>\n",
       "    </tr>\n",
       "    <tr>\n",
       "      <th>847</th>\n",
       "      <td>4.0</td>\n",
       "      <td>4.5</td>\n",
       "      <td>4.5</td>\n",
       "      <td>3.860494</td>\n",
       "      <td>10037978</td>\n",
       "      <td>4.5</td>\n",
       "      <td>20</td>\n",
       "      <td>26.0</td>\n",
       "      <td>NaN</td>\n",
       "      <td>1</td>\n",
       "      <td>0</td>\n",
       "      <td>0</td>\n",
       "      <td>0</td>\n",
       "      <td>0</td>\n",
       "      <td>0</td>\n",
       "    </tr>\n",
       "  </tbody>\n",
       "</table>\n",
       "</div>"
      ],
      "text/plain": [
       "      food rating  service rating  value rating  atmosphere rating        id  \\\n",
       "220           4.0             4.0           4.0           4.000000   1127788   \n",
       "1103          4.0             3.5           3.5           3.860494  12272003   \n",
       "17            4.5             4.5           4.5           4.000000    784367   \n",
       "58            4.5             4.5           4.5           3.860494   8279642   \n",
       "847           4.0             4.5           4.5           3.860494  10037978   \n",
       "\n",
       "      general rating  number of reviews   rank  price range  Dinner  Brunch  \\\n",
       "220              4.0                179  119.0          0.0       1       0   \n",
       "1103             3.5                 79  430.0          NaN       1       0   \n",
       "17               4.5                254   11.0          0.0       1       0   \n",
       "58               4.5                120    1.0          0.0       1       0   \n",
       "847              4.5                 20   26.0          NaN       1       0   \n",
       "\n",
       "      Breakfast  Late Night  Drinks  Lunch  \n",
       "220           0           1       0      1  \n",
       "1103          0           0       0      0  \n",
       "17            0           0       0      0  \n",
       "58            0           0       0      1  \n",
       "847           0           0       0      0  "
      ]
     },
     "execution_count": 9,
     "metadata": {},
     "output_type": "execute_result"
    }
   ],
   "source": [
    "# Getting all different types off meals\n",
    "types = []\n",
    "for i in df_train['meals'].fillna(value=\"\"):\n",
    "    types.extend(map(lambda x: x.strip(), i.split(\",\")))\n",
    "types = set(types)\n",
    "\n",
    "\n",
    "# For every type we are going to create a collumn that represents the type\n",
    "for i in types:\n",
    "    if i != \"\":\n",
    "        df[i] = df_train[\"meals\"].apply(lambda x: str(x)).apply(lambda x: int(i in x))\n",
    "\n",
    "# displays full table\n",
    "#with pd.option_context('display.max_rows', None, 'display.max_columns', None): display(df)\n",
    "df.head()"
   ]
  },
  {
   "cell_type": "markdown",
   "id": "843a4a12",
   "metadata": {},
   "source": [
    "#### <font color='red'>VRAAG: kunnen we de opties reduceren, bv brunch & breakfast? Later hiernaar kijken</font>"
   ]
  },
  {
   "cell_type": "markdown",
   "id": "3b41c8c5",
   "metadata": {},
   "source": [
    "### Cuisines"
   ]
  },
  {
   "cell_type": "code",
   "execution_count": 10,
   "id": "dbce0ffc",
   "metadata": {},
   "outputs": [
    {
     "name": "stdout",
     "output_type": "stream",
     "text": [
      "Amount of different cuisines: 93\n",
      "50-percentile: 6.0\n",
      "75-percentile: 37.5\n"
     ]
    },
    {
     "data": {
      "text/html": [
       "<div>\n",
       "<style scoped>\n",
       "    .dataframe tbody tr th:only-of-type {\n",
       "        vertical-align: middle;\n",
       "    }\n",
       "\n",
       "    .dataframe tbody tr th {\n",
       "        vertical-align: top;\n",
       "    }\n",
       "\n",
       "    .dataframe thead th {\n",
       "        text-align: right;\n",
       "    }\n",
       "</style>\n",
       "<table border=\"1\" class=\"dataframe\">\n",
       "  <thead>\n",
       "    <tr style=\"text-align: right;\">\n",
       "      <th></th>\n",
       "      <th>food rating</th>\n",
       "      <th>service rating</th>\n",
       "      <th>value rating</th>\n",
       "      <th>atmosphere rating</th>\n",
       "      <th>id</th>\n",
       "      <th>general rating</th>\n",
       "      <th>number of reviews</th>\n",
       "      <th>rank</th>\n",
       "      <th>price range</th>\n",
       "      <th>Dinner</th>\n",
       "      <th>Brunch</th>\n",
       "      <th>Breakfast</th>\n",
       "      <th>Late Night</th>\n",
       "      <th>Drinks</th>\n",
       "      <th>Lunch</th>\n",
       "      <th>Barbecue</th>\n",
       "      <th>International</th>\n",
       "      <th>Steakhouse</th>\n",
       "      <th>Cafe</th>\n",
       "      <th>Dutch</th>\n",
       "      <th>American</th>\n",
       "      <th>Vietnamese</th>\n",
       "      <th>Grill</th>\n",
       "      <th>Street Food</th>\n",
       "      <th>French</th>\n",
       "      <th>Fast Food</th>\n",
       "      <th>Thai</th>\n",
       "      <th>Central European</th>\n",
       "      <th>Mediterranean</th>\n",
       "      <th>Sushi</th>\n",
       "      <th>Seafood</th>\n",
       "      <th>Pizza</th>\n",
       "      <th>Contemporary</th>\n",
       "      <th>Healthy</th>\n",
       "      <th>Wine Bar</th>\n",
       "      <th>Southern-Italian</th>\n",
       "      <th>Asian</th>\n",
       "      <th>Japanese</th>\n",
       "      <th>Fusion</th>\n",
       "      <th>Gastropub</th>\n",
       "      <th>Mexican</th>\n",
       "      <th>Indian</th>\n",
       "      <th>Bar</th>\n",
       "      <th>South American</th>\n",
       "      <th>Italian</th>\n",
       "      <th>Deli</th>\n",
       "      <th>Sicilian</th>\n",
       "      <th>Middle Eastern</th>\n",
       "      <th>Soups</th>\n",
       "      <th>Pub</th>\n",
       "      <th>European</th>\n",
       "      <th>Greek</th>\n",
       "      <th>Diner</th>\n",
       "      <th>Turkish</th>\n",
       "      <th>Japanese Fusion</th>\n",
       "      <th>Chinese</th>\n",
       "      <th>Spanish</th>\n",
       "      <th>Dining bars</th>\n",
       "      <th>Lebanese</th>\n",
       "      <th>Belgian</th>\n",
       "    </tr>\n",
       "  </thead>\n",
       "  <tbody>\n",
       "    <tr>\n",
       "      <th>220</th>\n",
       "      <td>4.000000</td>\n",
       "      <td>4.000000</td>\n",
       "      <td>4.000000</td>\n",
       "      <td>4.000000</td>\n",
       "      <td>1127788</td>\n",
       "      <td>4.0</td>\n",
       "      <td>179</td>\n",
       "      <td>119.0</td>\n",
       "      <td>0.0</td>\n",
       "      <td>1</td>\n",
       "      <td>0</td>\n",
       "      <td>0</td>\n",
       "      <td>1</td>\n",
       "      <td>0</td>\n",
       "      <td>1</td>\n",
       "      <td>0</td>\n",
       "      <td>1</td>\n",
       "      <td>0</td>\n",
       "      <td>0</td>\n",
       "      <td>0</td>\n",
       "      <td>0</td>\n",
       "      <td>0</td>\n",
       "      <td>0</td>\n",
       "      <td>0</td>\n",
       "      <td>0</td>\n",
       "      <td>0</td>\n",
       "      <td>0</td>\n",
       "      <td>0</td>\n",
       "      <td>0</td>\n",
       "      <td>0</td>\n",
       "      <td>0</td>\n",
       "      <td>0</td>\n",
       "      <td>0</td>\n",
       "      <td>0</td>\n",
       "      <td>0</td>\n",
       "      <td>0</td>\n",
       "      <td>0</td>\n",
       "      <td>0</td>\n",
       "      <td>1</td>\n",
       "      <td>0</td>\n",
       "      <td>0</td>\n",
       "      <td>0</td>\n",
       "      <td>0</td>\n",
       "      <td>0</td>\n",
       "      <td>0</td>\n",
       "      <td>0</td>\n",
       "      <td>0</td>\n",
       "      <td>0</td>\n",
       "      <td>0</td>\n",
       "      <td>0</td>\n",
       "      <td>1</td>\n",
       "      <td>0</td>\n",
       "      <td>0</td>\n",
       "      <td>0</td>\n",
       "      <td>0</td>\n",
       "      <td>0</td>\n",
       "      <td>0</td>\n",
       "      <td>0</td>\n",
       "      <td>0</td>\n",
       "      <td>1</td>\n",
       "    </tr>\n",
       "    <tr>\n",
       "      <th>1103</th>\n",
       "      <td>4.000000</td>\n",
       "      <td>3.500000</td>\n",
       "      <td>3.500000</td>\n",
       "      <td>3.860494</td>\n",
       "      <td>12272003</td>\n",
       "      <td>3.5</td>\n",
       "      <td>79</td>\n",
       "      <td>430.0</td>\n",
       "      <td>NaN</td>\n",
       "      <td>1</td>\n",
       "      <td>0</td>\n",
       "      <td>0</td>\n",
       "      <td>0</td>\n",
       "      <td>0</td>\n",
       "      <td>0</td>\n",
       "      <td>0</td>\n",
       "      <td>0</td>\n",
       "      <td>0</td>\n",
       "      <td>0</td>\n",
       "      <td>0</td>\n",
       "      <td>0</td>\n",
       "      <td>0</td>\n",
       "      <td>0</td>\n",
       "      <td>0</td>\n",
       "      <td>0</td>\n",
       "      <td>0</td>\n",
       "      <td>0</td>\n",
       "      <td>0</td>\n",
       "      <td>1</td>\n",
       "      <td>0</td>\n",
       "      <td>0</td>\n",
       "      <td>0</td>\n",
       "      <td>0</td>\n",
       "      <td>0</td>\n",
       "      <td>0</td>\n",
       "      <td>0</td>\n",
       "      <td>0</td>\n",
       "      <td>0</td>\n",
       "      <td>0</td>\n",
       "      <td>0</td>\n",
       "      <td>0</td>\n",
       "      <td>0</td>\n",
       "      <td>0</td>\n",
       "      <td>0</td>\n",
       "      <td>0</td>\n",
       "      <td>0</td>\n",
       "      <td>0</td>\n",
       "      <td>0</td>\n",
       "      <td>0</td>\n",
       "      <td>0</td>\n",
       "      <td>1</td>\n",
       "      <td>0</td>\n",
       "      <td>0</td>\n",
       "      <td>0</td>\n",
       "      <td>0</td>\n",
       "      <td>0</td>\n",
       "      <td>0</td>\n",
       "      <td>0</td>\n",
       "      <td>0</td>\n",
       "      <td>0</td>\n",
       "    </tr>\n",
       "    <tr>\n",
       "      <th>17</th>\n",
       "      <td>4.500000</td>\n",
       "      <td>4.500000</td>\n",
       "      <td>4.500000</td>\n",
       "      <td>4.000000</td>\n",
       "      <td>784367</td>\n",
       "      <td>4.5</td>\n",
       "      <td>254</td>\n",
       "      <td>11.0</td>\n",
       "      <td>0.0</td>\n",
       "      <td>1</td>\n",
       "      <td>0</td>\n",
       "      <td>0</td>\n",
       "      <td>0</td>\n",
       "      <td>0</td>\n",
       "      <td>0</td>\n",
       "      <td>0</td>\n",
       "      <td>0</td>\n",
       "      <td>0</td>\n",
       "      <td>0</td>\n",
       "      <td>0</td>\n",
       "      <td>0</td>\n",
       "      <td>1</td>\n",
       "      <td>0</td>\n",
       "      <td>0</td>\n",
       "      <td>0</td>\n",
       "      <td>0</td>\n",
       "      <td>1</td>\n",
       "      <td>0</td>\n",
       "      <td>0</td>\n",
       "      <td>0</td>\n",
       "      <td>0</td>\n",
       "      <td>0</td>\n",
       "      <td>0</td>\n",
       "      <td>0</td>\n",
       "      <td>0</td>\n",
       "      <td>0</td>\n",
       "      <td>1</td>\n",
       "      <td>0</td>\n",
       "      <td>0</td>\n",
       "      <td>0</td>\n",
       "      <td>0</td>\n",
       "      <td>0</td>\n",
       "      <td>0</td>\n",
       "      <td>0</td>\n",
       "      <td>0</td>\n",
       "      <td>0</td>\n",
       "      <td>0</td>\n",
       "      <td>0</td>\n",
       "      <td>0</td>\n",
       "      <td>0</td>\n",
       "      <td>0</td>\n",
       "      <td>0</td>\n",
       "      <td>0</td>\n",
       "      <td>0</td>\n",
       "      <td>0</td>\n",
       "      <td>0</td>\n",
       "      <td>0</td>\n",
       "      <td>0</td>\n",
       "      <td>0</td>\n",
       "      <td>0</td>\n",
       "    </tr>\n",
       "    <tr>\n",
       "      <th>58</th>\n",
       "      <td>4.500000</td>\n",
       "      <td>4.500000</td>\n",
       "      <td>4.500000</td>\n",
       "      <td>3.860494</td>\n",
       "      <td>8279642</td>\n",
       "      <td>4.5</td>\n",
       "      <td>120</td>\n",
       "      <td>1.0</td>\n",
       "      <td>0.0</td>\n",
       "      <td>1</td>\n",
       "      <td>0</td>\n",
       "      <td>0</td>\n",
       "      <td>0</td>\n",
       "      <td>0</td>\n",
       "      <td>1</td>\n",
       "      <td>0</td>\n",
       "      <td>0</td>\n",
       "      <td>0</td>\n",
       "      <td>0</td>\n",
       "      <td>1</td>\n",
       "      <td>0</td>\n",
       "      <td>0</td>\n",
       "      <td>0</td>\n",
       "      <td>0</td>\n",
       "      <td>0</td>\n",
       "      <td>0</td>\n",
       "      <td>0</td>\n",
       "      <td>0</td>\n",
       "      <td>0</td>\n",
       "      <td>0</td>\n",
       "      <td>0</td>\n",
       "      <td>0</td>\n",
       "      <td>0</td>\n",
       "      <td>0</td>\n",
       "      <td>0</td>\n",
       "      <td>0</td>\n",
       "      <td>0</td>\n",
       "      <td>0</td>\n",
       "      <td>0</td>\n",
       "      <td>0</td>\n",
       "      <td>0</td>\n",
       "      <td>0</td>\n",
       "      <td>0</td>\n",
       "      <td>0</td>\n",
       "      <td>0</td>\n",
       "      <td>0</td>\n",
       "      <td>0</td>\n",
       "      <td>0</td>\n",
       "      <td>0</td>\n",
       "      <td>0</td>\n",
       "      <td>1</td>\n",
       "      <td>0</td>\n",
       "      <td>0</td>\n",
       "      <td>0</td>\n",
       "      <td>0</td>\n",
       "      <td>0</td>\n",
       "      <td>0</td>\n",
       "      <td>0</td>\n",
       "      <td>0</td>\n",
       "      <td>1</td>\n",
       "    </tr>\n",
       "    <tr>\n",
       "      <th>847</th>\n",
       "      <td>4.000000</td>\n",
       "      <td>4.500000</td>\n",
       "      <td>4.500000</td>\n",
       "      <td>3.860494</td>\n",
       "      <td>10037978</td>\n",
       "      <td>4.5</td>\n",
       "      <td>20</td>\n",
       "      <td>26.0</td>\n",
       "      <td>NaN</td>\n",
       "      <td>1</td>\n",
       "      <td>0</td>\n",
       "      <td>0</td>\n",
       "      <td>0</td>\n",
       "      <td>0</td>\n",
       "      <td>0</td>\n",
       "      <td>0</td>\n",
       "      <td>0</td>\n",
       "      <td>0</td>\n",
       "      <td>0</td>\n",
       "      <td>0</td>\n",
       "      <td>0</td>\n",
       "      <td>0</td>\n",
       "      <td>0</td>\n",
       "      <td>0</td>\n",
       "      <td>0</td>\n",
       "      <td>0</td>\n",
       "      <td>0</td>\n",
       "      <td>0</td>\n",
       "      <td>0</td>\n",
       "      <td>0</td>\n",
       "      <td>0</td>\n",
       "      <td>0</td>\n",
       "      <td>0</td>\n",
       "      <td>0</td>\n",
       "      <td>0</td>\n",
       "      <td>0</td>\n",
       "      <td>0</td>\n",
       "      <td>0</td>\n",
       "      <td>0</td>\n",
       "      <td>0</td>\n",
       "      <td>0</td>\n",
       "      <td>0</td>\n",
       "      <td>0</td>\n",
       "      <td>0</td>\n",
       "      <td>0</td>\n",
       "      <td>0</td>\n",
       "      <td>0</td>\n",
       "      <td>0</td>\n",
       "      <td>0</td>\n",
       "      <td>0</td>\n",
       "      <td>1</td>\n",
       "      <td>0</td>\n",
       "      <td>0</td>\n",
       "      <td>0</td>\n",
       "      <td>0</td>\n",
       "      <td>0</td>\n",
       "      <td>0</td>\n",
       "      <td>0</td>\n",
       "      <td>0</td>\n",
       "      <td>0</td>\n",
       "    </tr>\n",
       "    <tr>\n",
       "      <th>...</th>\n",
       "      <td>...</td>\n",
       "      <td>...</td>\n",
       "      <td>...</td>\n",
       "      <td>...</td>\n",
       "      <td>...</td>\n",
       "      <td>...</td>\n",
       "      <td>...</td>\n",
       "      <td>...</td>\n",
       "      <td>...</td>\n",
       "      <td>...</td>\n",
       "      <td>...</td>\n",
       "      <td>...</td>\n",
       "      <td>...</td>\n",
       "      <td>...</td>\n",
       "      <td>...</td>\n",
       "      <td>...</td>\n",
       "      <td>...</td>\n",
       "      <td>...</td>\n",
       "      <td>...</td>\n",
       "      <td>...</td>\n",
       "      <td>...</td>\n",
       "      <td>...</td>\n",
       "      <td>...</td>\n",
       "      <td>...</td>\n",
       "      <td>...</td>\n",
       "      <td>...</td>\n",
       "      <td>...</td>\n",
       "      <td>...</td>\n",
       "      <td>...</td>\n",
       "      <td>...</td>\n",
       "      <td>...</td>\n",
       "      <td>...</td>\n",
       "      <td>...</td>\n",
       "      <td>...</td>\n",
       "      <td>...</td>\n",
       "      <td>...</td>\n",
       "      <td>...</td>\n",
       "      <td>...</td>\n",
       "      <td>...</td>\n",
       "      <td>...</td>\n",
       "      <td>...</td>\n",
       "      <td>...</td>\n",
       "      <td>...</td>\n",
       "      <td>...</td>\n",
       "      <td>...</td>\n",
       "      <td>...</td>\n",
       "      <td>...</td>\n",
       "      <td>...</td>\n",
       "      <td>...</td>\n",
       "      <td>...</td>\n",
       "      <td>...</td>\n",
       "      <td>...</td>\n",
       "      <td>...</td>\n",
       "      <td>...</td>\n",
       "      <td>...</td>\n",
       "      <td>...</td>\n",
       "      <td>...</td>\n",
       "      <td>...</td>\n",
       "      <td>...</td>\n",
       "      <td>...</td>\n",
       "    </tr>\n",
       "    <tr>\n",
       "      <th>1033</th>\n",
       "      <td>4.000000</td>\n",
       "      <td>4.500000</td>\n",
       "      <td>4.000000</td>\n",
       "      <td>3.860494</td>\n",
       "      <td>14107034</td>\n",
       "      <td>4.0</td>\n",
       "      <td>19</td>\n",
       "      <td>1.0</td>\n",
       "      <td>0.0</td>\n",
       "      <td>1</td>\n",
       "      <td>0</td>\n",
       "      <td>0</td>\n",
       "      <td>0</td>\n",
       "      <td>0</td>\n",
       "      <td>1</td>\n",
       "      <td>0</td>\n",
       "      <td>0</td>\n",
       "      <td>0</td>\n",
       "      <td>0</td>\n",
       "      <td>0</td>\n",
       "      <td>0</td>\n",
       "      <td>0</td>\n",
       "      <td>0</td>\n",
       "      <td>0</td>\n",
       "      <td>0</td>\n",
       "      <td>0</td>\n",
       "      <td>0</td>\n",
       "      <td>0</td>\n",
       "      <td>0</td>\n",
       "      <td>0</td>\n",
       "      <td>0</td>\n",
       "      <td>0</td>\n",
       "      <td>0</td>\n",
       "      <td>0</td>\n",
       "      <td>0</td>\n",
       "      <td>0</td>\n",
       "      <td>0</td>\n",
       "      <td>0</td>\n",
       "      <td>0</td>\n",
       "      <td>0</td>\n",
       "      <td>0</td>\n",
       "      <td>0</td>\n",
       "      <td>0</td>\n",
       "      <td>0</td>\n",
       "      <td>1</td>\n",
       "      <td>0</td>\n",
       "      <td>0</td>\n",
       "      <td>0</td>\n",
       "      <td>0</td>\n",
       "      <td>0</td>\n",
       "      <td>1</td>\n",
       "      <td>0</td>\n",
       "      <td>0</td>\n",
       "      <td>0</td>\n",
       "      <td>0</td>\n",
       "      <td>0</td>\n",
       "      <td>0</td>\n",
       "      <td>0</td>\n",
       "      <td>0</td>\n",
       "      <td>0</td>\n",
       "    </tr>\n",
       "    <tr>\n",
       "      <th>1731</th>\n",
       "      <td>4.077579</td>\n",
       "      <td>4.071197</td>\n",
       "      <td>3.959241</td>\n",
       "      <td>3.860494</td>\n",
       "      <td>14051083</td>\n",
       "      <td>3.5</td>\n",
       "      <td>9</td>\n",
       "      <td>587.0</td>\n",
       "      <td>NaN</td>\n",
       "      <td>1</td>\n",
       "      <td>0</td>\n",
       "      <td>0</td>\n",
       "      <td>0</td>\n",
       "      <td>0</td>\n",
       "      <td>1</td>\n",
       "      <td>0</td>\n",
       "      <td>0</td>\n",
       "      <td>0</td>\n",
       "      <td>0</td>\n",
       "      <td>0</td>\n",
       "      <td>0</td>\n",
       "      <td>0</td>\n",
       "      <td>0</td>\n",
       "      <td>0</td>\n",
       "      <td>0</td>\n",
       "      <td>0</td>\n",
       "      <td>0</td>\n",
       "      <td>0</td>\n",
       "      <td>0</td>\n",
       "      <td>0</td>\n",
       "      <td>0</td>\n",
       "      <td>0</td>\n",
       "      <td>0</td>\n",
       "      <td>0</td>\n",
       "      <td>0</td>\n",
       "      <td>0</td>\n",
       "      <td>0</td>\n",
       "      <td>0</td>\n",
       "      <td>0</td>\n",
       "      <td>0</td>\n",
       "      <td>0</td>\n",
       "      <td>0</td>\n",
       "      <td>0</td>\n",
       "      <td>0</td>\n",
       "      <td>0</td>\n",
       "      <td>0</td>\n",
       "      <td>0</td>\n",
       "      <td>0</td>\n",
       "      <td>0</td>\n",
       "      <td>0</td>\n",
       "      <td>0</td>\n",
       "      <td>0</td>\n",
       "      <td>0</td>\n",
       "      <td>0</td>\n",
       "      <td>0</td>\n",
       "      <td>0</td>\n",
       "      <td>0</td>\n",
       "      <td>0</td>\n",
       "      <td>0</td>\n",
       "      <td>0</td>\n",
       "    </tr>\n",
       "    <tr>\n",
       "      <th>763</th>\n",
       "      <td>4.000000</td>\n",
       "      <td>4.000000</td>\n",
       "      <td>3.500000</td>\n",
       "      <td>4.000000</td>\n",
       "      <td>3820132</td>\n",
       "      <td>3.5</td>\n",
       "      <td>101</td>\n",
       "      <td>4.0</td>\n",
       "      <td>NaN</td>\n",
       "      <td>1</td>\n",
       "      <td>0</td>\n",
       "      <td>0</td>\n",
       "      <td>0</td>\n",
       "      <td>0</td>\n",
       "      <td>1</td>\n",
       "      <td>0</td>\n",
       "      <td>0</td>\n",
       "      <td>0</td>\n",
       "      <td>0</td>\n",
       "      <td>1</td>\n",
       "      <td>0</td>\n",
       "      <td>0</td>\n",
       "      <td>0</td>\n",
       "      <td>0</td>\n",
       "      <td>0</td>\n",
       "      <td>0</td>\n",
       "      <td>0</td>\n",
       "      <td>0</td>\n",
       "      <td>0</td>\n",
       "      <td>0</td>\n",
       "      <td>1</td>\n",
       "      <td>0</td>\n",
       "      <td>0</td>\n",
       "      <td>0</td>\n",
       "      <td>0</td>\n",
       "      <td>0</td>\n",
       "      <td>0</td>\n",
       "      <td>0</td>\n",
       "      <td>0</td>\n",
       "      <td>0</td>\n",
       "      <td>0</td>\n",
       "      <td>0</td>\n",
       "      <td>0</td>\n",
       "      <td>0</td>\n",
       "      <td>0</td>\n",
       "      <td>0</td>\n",
       "      <td>0</td>\n",
       "      <td>0</td>\n",
       "      <td>0</td>\n",
       "      <td>0</td>\n",
       "      <td>1</td>\n",
       "      <td>0</td>\n",
       "      <td>0</td>\n",
       "      <td>0</td>\n",
       "      <td>0</td>\n",
       "      <td>0</td>\n",
       "      <td>0</td>\n",
       "      <td>0</td>\n",
       "      <td>0</td>\n",
       "      <td>1</td>\n",
       "    </tr>\n",
       "    <tr>\n",
       "      <th>835</th>\n",
       "      <td>4.000000</td>\n",
       "      <td>3.500000</td>\n",
       "      <td>4.000000</td>\n",
       "      <td>4.500000</td>\n",
       "      <td>3614874</td>\n",
       "      <td>4.0</td>\n",
       "      <td>107</td>\n",
       "      <td>41.0</td>\n",
       "      <td>NaN</td>\n",
       "      <td>1</td>\n",
       "      <td>0</td>\n",
       "      <td>0</td>\n",
       "      <td>0</td>\n",
       "      <td>0</td>\n",
       "      <td>1</td>\n",
       "      <td>0</td>\n",
       "      <td>0</td>\n",
       "      <td>0</td>\n",
       "      <td>0</td>\n",
       "      <td>1</td>\n",
       "      <td>0</td>\n",
       "      <td>0</td>\n",
       "      <td>0</td>\n",
       "      <td>0</td>\n",
       "      <td>1</td>\n",
       "      <td>0</td>\n",
       "      <td>0</td>\n",
       "      <td>0</td>\n",
       "      <td>0</td>\n",
       "      <td>0</td>\n",
       "      <td>0</td>\n",
       "      <td>0</td>\n",
       "      <td>0</td>\n",
       "      <td>0</td>\n",
       "      <td>0</td>\n",
       "      <td>0</td>\n",
       "      <td>0</td>\n",
       "      <td>0</td>\n",
       "      <td>0</td>\n",
       "      <td>0</td>\n",
       "      <td>0</td>\n",
       "      <td>0</td>\n",
       "      <td>0</td>\n",
       "      <td>0</td>\n",
       "      <td>0</td>\n",
       "      <td>0</td>\n",
       "      <td>0</td>\n",
       "      <td>0</td>\n",
       "      <td>0</td>\n",
       "      <td>0</td>\n",
       "      <td>1</td>\n",
       "      <td>0</td>\n",
       "      <td>0</td>\n",
       "      <td>0</td>\n",
       "      <td>0</td>\n",
       "      <td>0</td>\n",
       "      <td>0</td>\n",
       "      <td>0</td>\n",
       "      <td>0</td>\n",
       "      <td>1</td>\n",
       "    </tr>\n",
       "    <tr>\n",
       "      <th>1653</th>\n",
       "      <td>4.077579</td>\n",
       "      <td>4.071197</td>\n",
       "      <td>3.959241</td>\n",
       "      <td>3.860494</td>\n",
       "      <td>9781997</td>\n",
       "      <td>4.0</td>\n",
       "      <td>8</td>\n",
       "      <td>90.0</td>\n",
       "      <td>NaN</td>\n",
       "      <td>0</td>\n",
       "      <td>0</td>\n",
       "      <td>0</td>\n",
       "      <td>0</td>\n",
       "      <td>0</td>\n",
       "      <td>0</td>\n",
       "      <td>0</td>\n",
       "      <td>0</td>\n",
       "      <td>0</td>\n",
       "      <td>0</td>\n",
       "      <td>0</td>\n",
       "      <td>0</td>\n",
       "      <td>0</td>\n",
       "      <td>0</td>\n",
       "      <td>0</td>\n",
       "      <td>0</td>\n",
       "      <td>0</td>\n",
       "      <td>0</td>\n",
       "      <td>0</td>\n",
       "      <td>0</td>\n",
       "      <td>0</td>\n",
       "      <td>0</td>\n",
       "      <td>0</td>\n",
       "      <td>0</td>\n",
       "      <td>0</td>\n",
       "      <td>0</td>\n",
       "      <td>0</td>\n",
       "      <td>0</td>\n",
       "      <td>0</td>\n",
       "      <td>0</td>\n",
       "      <td>0</td>\n",
       "      <td>0</td>\n",
       "      <td>0</td>\n",
       "      <td>0</td>\n",
       "      <td>0</td>\n",
       "      <td>0</td>\n",
       "      <td>0</td>\n",
       "      <td>0</td>\n",
       "      <td>0</td>\n",
       "      <td>0</td>\n",
       "      <td>0</td>\n",
       "      <td>0</td>\n",
       "      <td>0</td>\n",
       "      <td>0</td>\n",
       "      <td>0</td>\n",
       "      <td>0</td>\n",
       "      <td>0</td>\n",
       "      <td>0</td>\n",
       "      <td>0</td>\n",
       "      <td>0</td>\n",
       "      <td>0</td>\n",
       "    </tr>\n",
       "  </tbody>\n",
       "</table>\n",
       "<p>2064 rows × 60 columns</p>\n",
       "</div>"
      ],
      "text/plain": [
       "      food rating  service rating  value rating  atmosphere rating        id  \\\n",
       "220      4.000000        4.000000      4.000000           4.000000   1127788   \n",
       "1103     4.000000        3.500000      3.500000           3.860494  12272003   \n",
       "17       4.500000        4.500000      4.500000           4.000000    784367   \n",
       "58       4.500000        4.500000      4.500000           3.860494   8279642   \n",
       "847      4.000000        4.500000      4.500000           3.860494  10037978   \n",
       "...           ...             ...           ...                ...       ...   \n",
       "1033     4.000000        4.500000      4.000000           3.860494  14107034   \n",
       "1731     4.077579        4.071197      3.959241           3.860494  14051083   \n",
       "763      4.000000        4.000000      3.500000           4.000000   3820132   \n",
       "835      4.000000        3.500000      4.000000           4.500000   3614874   \n",
       "1653     4.077579        4.071197      3.959241           3.860494   9781997   \n",
       "\n",
       "      general rating  number of reviews   rank  price range  Dinner  Brunch  \\\n",
       "220              4.0                179  119.0          0.0       1       0   \n",
       "1103             3.5                 79  430.0          NaN       1       0   \n",
       "17               4.5                254   11.0          0.0       1       0   \n",
       "58               4.5                120    1.0          0.0       1       0   \n",
       "847              4.5                 20   26.0          NaN       1       0   \n",
       "...              ...                ...    ...          ...     ...     ...   \n",
       "1033             4.0                 19    1.0          0.0       1       0   \n",
       "1731             3.5                  9  587.0          NaN       1       0   \n",
       "763              3.5                101    4.0          NaN       1       0   \n",
       "835              4.0                107   41.0          NaN       1       0   \n",
       "1653             4.0                  8   90.0          NaN       0       0   \n",
       "\n",
       "      Breakfast  Late Night  Drinks  Lunch  Barbecue  International  \\\n",
       "220           0           1       0      1         0              1   \n",
       "1103          0           0       0      0         0              0   \n",
       "17            0           0       0      0         0              0   \n",
       "58            0           0       0      1         0              0   \n",
       "847           0           0       0      0         0              0   \n",
       "...         ...         ...     ...    ...       ...            ...   \n",
       "1033          0           0       0      1         0              0   \n",
       "1731          0           0       0      1         0              0   \n",
       "763           0           0       0      1         0              0   \n",
       "835           0           0       0      1         0              0   \n",
       "1653          0           0       0      0         0              0   \n",
       "\n",
       "      Steakhouse  Cafe  Dutch  American  Vietnamese  Grill  Street Food  \\\n",
       "220            0     0      0         0           0      0            0   \n",
       "1103           0     0      0         0           0      0            0   \n",
       "17             0     0      0         0           1      0            0   \n",
       "58             0     0      1         0           0      0            0   \n",
       "847            0     0      0         0           0      0            0   \n",
       "...          ...   ...    ...       ...         ...    ...          ...   \n",
       "1033           0     0      0         0           0      0            0   \n",
       "1731           0     0      0         0           0      0            0   \n",
       "763            0     0      1         0           0      0            0   \n",
       "835            0     0      1         0           0      0            0   \n",
       "1653           0     0      0         0           0      0            0   \n",
       "\n",
       "      French  Fast Food  Thai  Central European  Mediterranean  Sushi  \\\n",
       "220        0          0     0                 0              0      0   \n",
       "1103       0          0     0                 0              1      0   \n",
       "17         0          0     1                 0              0      0   \n",
       "58         0          0     0                 0              0      0   \n",
       "847        0          0     0                 0              0      0   \n",
       "...      ...        ...   ...               ...            ...    ...   \n",
       "1033       0          0     0                 0              0      0   \n",
       "1731       0          0     0                 0              0      0   \n",
       "763        0          0     0                 0              0      0   \n",
       "835        1          0     0                 0              0      0   \n",
       "1653       0          0     0                 0              0      0   \n",
       "\n",
       "      Seafood  Pizza  Contemporary  Healthy  Wine Bar  Southern-Italian  \\\n",
       "220         0      0             0        0         0                 0   \n",
       "1103        0      0             0        0         0                 0   \n",
       "17          0      0             0        0         0                 0   \n",
       "58          0      0             0        0         0                 0   \n",
       "847         0      0             0        0         0                 0   \n",
       "...       ...    ...           ...      ...       ...               ...   \n",
       "1033        0      0             0        0         0                 0   \n",
       "1731        0      0             0        0         0                 0   \n",
       "763         1      0             0        0         0                 0   \n",
       "835         0      0             0        0         0                 0   \n",
       "1653        0      0             0        0         0                 0   \n",
       "\n",
       "      Asian  Japanese  Fusion  Gastropub  Mexican  Indian  Bar  \\\n",
       "220       0         0       1          0        0       0    0   \n",
       "1103      0         0       0          0        0       0    0   \n",
       "17        1         0       0          0        0       0    0   \n",
       "58        0         0       0          0        0       0    0   \n",
       "847       0         0       0          0        0       0    0   \n",
       "...     ...       ...     ...        ...      ...     ...  ...   \n",
       "1033      0         0       0          0        0       0    0   \n",
       "1731      0         0       0          0        0       0    0   \n",
       "763       0         0       0          0        0       0    0   \n",
       "835       0         0       0          0        0       0    0   \n",
       "1653      0         0       0          0        0       0    0   \n",
       "\n",
       "      South American  Italian  Deli  Sicilian  Middle Eastern  Soups  Pub  \\\n",
       "220                0        0     0         0               0      0    0   \n",
       "1103               0        0     0         0               0      0    0   \n",
       "17                 0        0     0         0               0      0    0   \n",
       "58                 0        0     0         0               0      0    0   \n",
       "847                0        0     0         0               0      0    0   \n",
       "...              ...      ...   ...       ...             ...    ...  ...   \n",
       "1033               0        1     0         0               0      0    0   \n",
       "1731               0        0     0         0               0      0    0   \n",
       "763                0        0     0         0               0      0    0   \n",
       "835                0        0     0         0               0      0    0   \n",
       "1653               0        0     0         0               0      0    0   \n",
       "\n",
       "      European  Greek  Diner  Turkish  Japanese Fusion  Chinese  Spanish  \\\n",
       "220          1      0      0        0                0        0        0   \n",
       "1103         1      0      0        0                0        0        0   \n",
       "17           0      0      0        0                0        0        0   \n",
       "58           1      0      0        0                0        0        0   \n",
       "847          1      0      0        0                0        0        0   \n",
       "...        ...    ...    ...      ...              ...      ...      ...   \n",
       "1033         1      0      0        0                0        0        0   \n",
       "1731         0      0      0        0                0        0        0   \n",
       "763          1      0      0        0                0        0        0   \n",
       "835          1      0      0        0                0        0        0   \n",
       "1653         0      0      0        0                0        0        0   \n",
       "\n",
       "      Dining bars  Lebanese  Belgian  \n",
       "220             0         0        1  \n",
       "1103            0         0        0  \n",
       "17              0         0        0  \n",
       "58              0         0        1  \n",
       "847             0         0        0  \n",
       "...           ...       ...      ...  \n",
       "1033            0         0        0  \n",
       "1731            0         0        0  \n",
       "763             0         0        1  \n",
       "835             0         0        1  \n",
       "1653            0         0        0  \n",
       "\n",
       "[2064 rows x 60 columns]"
      ]
     },
     "execution_count": 10,
     "metadata": {},
     "output_type": "execute_result"
    }
   ],
   "source": [
    "types = []\n",
    "for i in df_train['cuisines'].fillna(value=\"\"):\n",
    "    types.extend(map(lambda x: x.strip(), i.split(\",\")))\n",
    "types = set(types)\n",
    "print(\"Amount of different cuisines:\",len(types))\n",
    "\n",
    "# prints the amout of times a cuisine occurs in the data\n",
    "# set _print on True to enable printing of frequencies\n",
    "_print = True\n",
    "\n",
    "\n",
    "freq = {}\n",
    "for i in types:  \n",
    "    if i != \"\":\n",
    "        freq[i] = df_train[\"cuisines\"].apply(lambda x: str(x)).apply(lambda x: int(i in x)).sum()\n",
    "\n",
    "\n",
    "#print(\"\\n\")\n",
    "#print(\"-\"*20, \"frequency tabel\", \"-\"*20) \n",
    "#for key, value in freq.items():\n",
    "#    print('{:<25}'.format(key ), '{:>4}'.format(value) , \"times\")\n",
    "percentile75 = np.quantile(list(freq.values()), 0.75)\n",
    "percentile50 = np.quantile(list(freq.values()), 0.5)\n",
    "\n",
    "print(\"50-percentile:\",percentile50)\n",
    "print(\"75-percentile:\",percentile75)\n",
    "\n",
    "\n",
    "freq = { key:value for (key,value) in freq.items() if value > percentile50}\n",
    "\n",
    "for (key,value) in freq.items():\n",
    "    if key != \"\":\n",
    "        df[key] = df_train[\"cuisines\"].apply(lambda x: int(key in str(x)))\n",
    "   \n",
    "#TODO add others collumn\n",
    "df"
   ]
  },
  {
   "cell_type": "markdown",
   "id": "d5201de8",
   "metadata": {},
   "source": [
    "The boxplot shows the distribution of the frequencies of the cuisines. Here we can see that a lot of cuisines occur only a few times. This may presents an oppertunity to reduce these to a categorie like \"others\"."
   ]
  },
  {
   "cell_type": "code",
   "execution_count": 11,
   "id": "d5469246",
   "metadata": {},
   "outputs": [
    {
     "data": {
      "image/png": "[encoded data removed]",
      "text/plain": [
       "<Figure size 288x720 with 1 Axes>"
      ]
     },
     "metadata": {
      "needs_background": "light"
     },
     "output_type": "display_data"
    }
   ],
   "source": [
    "fig = plt.figure(figsize =(4, 10))\n",
    "ax = fig.add_axes([0, 0, 1, 1])\n",
    "bp = ax.boxplot(freq.values())\n",
    "plt.show()  "
   ]
  },
  {
   "cell_type": "markdown",
   "id": "ef0e0fcb",
   "metadata": {},
   "source": [
    "### Address"
   ]
  },
  {
   "cell_type": "markdown",
   "id": "7026ffcd",
   "metadata": {},
   "source": [
    "The address field has the following structure in most cases:\n",
    "    1. Streetname + number + \",\"\n",
    "    2. City + corresponding postal code\n",
    "    3. Country (here Belgium in all cases)\n",
    "Upon closer inspection we can see that sometimes field 1. and 2. are comma-separted, sometimes not.\n",
    "The number behind the streetname sometimes consists of two numbers (can be split with ' ' or '-' or '/' or ...)"
   ]
  },
  {
   "cell_type": "code",
   "execution_count": 12,
   "id": "7243ad2b",
   "metadata": {
    "scrolled": true
   },
   "outputs": [
    {
     "name": "stderr",
     "output_type": "stream",
     "text": [
      "\n",
      "KeyboardInterrupt\n",
      "\n"
     ]
    }
   ],
   "source": [
    "locator = Nominatim(user_agent=\"ML\")\n",
    "geocode = RateLimiter(locator.geocode, min_delay_seconds=1)\n",
    "\n",
    "def get_coordinates(name):\n",
    "    location = locator.geocode(name)\n",
    "    if location is None:\n",
    "        return pd.Series([np.nan, np.nan])\n",
    "    else:\n",
    "        return pd.Series([location.latitude, location.longitude])\n",
    "    \n",
    "df[['latitude','longitude']] = df_train['address'].fillna('').apply(get_coordinates)\n",
    "df"
   ]
  },
  {
   "cell_type": "code",
   "execution_count": null,
   "id": "0ca68568",
   "metadata": {},
   "outputs": [],
   "source": [
    "fig = px.scatter_mapbox(df[['latitude', 'longitude']], lat=\"latitude\", lon=\"longitude\", height=500, width=700)\n",
    "\n",
    "fig.update_layout(mapbox_style=\"open-street-map\")\n",
    "fig.show()\n",
    "# https://stackoverflow.com/questions/53233228/plot-latitude-longitude-from-csv-in-python-3-6"
   ]
  },
  {
   "cell_type": "markdown",
   "id": "60465b2e",
   "metadata": {},
   "source": [
    "### Restaurant features"
   ]
  },
  {
   "cell_type": "markdown",
   "id": "34f732d2",
   "metadata": {},
   "source": [
    "Extract different restaurant feautures from the dataset"
   ]
  },
  {
   "cell_type": "code",
   "execution_count": 13,
   "id": "8f265c96",
   "metadata": {},
   "outputs": [
    {
     "name": "stdout",
     "output_type": "stream",
     "text": [
      "Amount of features: 39\n"
     ]
    },
    {
     "data": {
      "text/plain": [
       "<AxesSubplot:>"
      ]
     },
     "execution_count": 13,
     "metadata": {},
     "output_type": "execute_result"
    },
    {
     "data": {
      "image/png": "[encoded data removed]",
      "text/plain": [
       "<Figure size 864x864 with 1 Axes>"
      ]
     },
     "metadata": {
      "needs_background": "light"
     },
     "output_type": "display_data"
    }
   ],
   "source": [
    "# Create a dict that holds all restaurant feautures and how much they appear\n",
    "feature_types = {}\n",
    "for i in df_train['restaurant features'].fillna(value=\"\"):\n",
    "    for f in i.split(','):\n",
    "        if i != \"\":\n",
    "            if f.strip() in feature_types.keys():\n",
    "                feature_types[f.strip()] += 1\n",
    "            else:\n",
    "                feature_types[f.strip()] = 1\n",
    "           \n",
    "print(\"Amount of features:\" , len(feature_types.keys()))\n",
    "\n",
    "# omzetten naar dataframe\n",
    "df_features = pd.DataFrame(feature_types, index=[0]).transpose()\n",
    "df_features.columns = ['Amount']\n",
    "df_features.sort_values(['Amount'], ascending=False, inplace=True)\n",
    "df_features.plot(kind='barh', figsize=(12,12))"
   ]
  },
  {
   "cell_type": "markdown",
   "id": "bce15542",
   "metadata": {},
   "source": [
    "### Special Diets"
   ]
  },
  {
   "cell_type": "code",
   "execution_count": 14,
   "id": "a4f76ff9",
   "metadata": {},
   "outputs": [
    {
     "name": "stdout",
     "output_type": "stream",
     "text": [
      "Amount of diets: 5\n",
      "{'Vegetarian Friendly': 685, 'Vegan Options': 167, '': 1366, 'Gluten Free Options': 145, 'Halal': 4}\n",
      "Average review score per diet type {'Vegetarian Friendly': 4.086131386861314, 'Vegan Options': 4.254491017964072, '': 4.086676217765043, 'Gluten Free Options': 4.2620689655172415}\n"
     ]
    },
    {
     "data": {
      "text/plain": [
       "<AxesSubplot:title={'center':'Average review score per diet'}>"
      ]
     },
     "execution_count": 14,
     "metadata": {},
     "output_type": "execute_result"
    },
    {
     "data": {
      "image/png": "[encoded data removed]",
      "text/plain": [
       "<Figure size 720x144 with 1 Axes>"
      ]
     },
     "metadata": {
      "needs_background": "light"
     },
     "output_type": "display_data"
    }
   ],
   "source": [
    "# check which special diets exist in the data\n",
    "diet_types = {}\n",
    "for i in df_train['special diets'].fillna(value=\"\"):\n",
    "    for f in i.split(','):\n",
    "            if f.strip() in diet_types.keys():\n",
    "                diet_types[f.strip()] += 1\n",
    "            else:\n",
    "                diet_types[f.strip()] = 1\n",
    "           \n",
    "print(\"Amount of diets:\" , len(diet_types.keys()))\n",
    "print(diet_types)\n",
    "\n",
    "# check if available diet options have influence on the average rating per restaurant\n",
    "diet_avg_review = {}\n",
    "for d in diet_types.keys():\n",
    "    if len(df_train[df_train['special diets'].str.contains(d) == True]) >=  100: #only use data of a diet type if there are more than 100 restaurants with that diet type\n",
    "        diet_avg_review[d] = df[df_train['special diets'].str.contains(d) == True]['general rating'].mean()\n",
    "print('Average review score per diet type',diet_avg_review)\n",
    "df_diets = pd.Series(diet_avg_review).rename({'': 'No diets specified in data'})\n",
    "df_diets.sort_values(ascending=False).plot(kind='barh', figsize=(10,2), title='Average review score per diet')\n"
   ]
  },
  {
   "cell_type": "markdown",
   "id": "98a70226",
   "metadata": {},
   "source": [
    "The graph above shows that restaurants with vegan and gluten free options have a higher average review score. "
   ]
  },
  {
   "cell_type": "markdown",
   "id": "4a7ba10a",
   "metadata": {},
   "source": [
    "### Price tag"
   ]
  },
  {
   "cell_type": "markdown",
   "id": "05a2ce21",
   "metadata": {},
   "source": [
    "Bij price de andere price metriek zagen we dat er zeer veel data ontbrak, de andere metriek heeft ook een aantal nadelen, het is namelijk zo dat 1 goedkoop gericht op 1 door gerecht in een resto de volleige metriek beinvoeld."
   ]
  },
  {
   "cell_type": "code",
   "execution_count": 15,
   "id": "ff5d9ee1",
   "metadata": {},
   "outputs": [],
   "source": [
    "price_options = []\n",
    "\n",
    "for i in df_train['tags'].fillna(value=\"\"):\n",
    "    for j in i.split('|'):\n",
    "        if '$' in j:\n",
    "            price_options.append(j)\n",
    "            \n",
    "price_options = set(price_options)\n",
    "price_options = sorted(price_options, key= lambda x: len(x.split('-')[0].strip()))\n",
    "       \n",
    "def formatPriceRange(tags):\n",
    "    for i in reversed(range(0,3)):\n",
    "        if price_options[i] in tags:\n",
    "            return i + 1\n",
    "    return nan\n",
    "       \n",
    "df[\"price tag\"] = df_train['tags'].apply(lambda x: formatPriceRange(str(x)))"
   ]
  },
  {
   "cell_type": "markdown",
   "id": "37890107",
   "metadata": {},
   "source": [
    "### Website & menu"
   ]
  },
  {
   "cell_type": "code",
   "execution_count": 16,
   "id": "24f0bb12",
   "metadata": {},
   "outputs": [
    {
     "data": {
      "text/plain": [
       "<AxesSubplot:title={'center':'Average score based on urls'}>"
      ]
     },
     "execution_count": 16,
     "metadata": {},
     "output_type": "execute_result"
    },
    {
     "data": {
      "image/png": "[encoded data removed]",
      "text/plain": [
       "<Figure size 720x144 with 1 Axes>"
      ]
     },
     "metadata": {
      "needs_background": "light"
     },
     "output_type": "display_data"
    }
   ],
   "source": [
    "df['has website url'] = df_train['website url'].apply(lambda x: str(x) != \"nan\")\n",
    "df['has menu url'] = df_train['menu url'].apply(lambda x: str(x) != \"nan\")\n",
    "\n",
    "means = {}\n",
    "means['website url'] = df.loc[df['has website url'] == 1]['general rating'].mean()\n",
    "means['no website url'] = df.loc[df['has website url'] == 0]['general rating'].mean()\n",
    "\n",
    "means['menu url'] = df.loc[df['has menu url'] == 1]['general rating'].mean()\n",
    "means['no menu url'] = df.loc[df['has menu url'] == 0]['general rating'].mean()\n",
    "pd.Series(means).plot(kind='barh', figsize=(10,2), title='Average score based on urls')"
   ]
  },
  {
   "cell_type": "markdown",
   "id": "18ace329",
   "metadata": {},
   "source": [
    "### michelin & travelers choice & timetable"
   ]
  },
  {
   "cell_type": "markdown",
   "id": "9382db21",
   "metadata": {},
   "source": [
    "De data is duidelijk gewoon een boolean, dit is eenvoudig om te zetten naar een int."
   ]
  },
  {
   "cell_type": "code",
   "execution_count": 17,
   "id": "a1c67429",
   "metadata": {},
   "outputs": [
    {
     "name": "stdout",
     "output_type": "stream",
     "text": [
      "False    1987\n",
      "True       77\n",
      "Name: michelin, dtype: int64\n",
      "False    2017\n",
      "True       47\n",
      "Name: travelers choice, dtype: int64\n",
      "True     1141\n",
      "False     923\n",
      "Name: timetable, dtype: int64\n"
     ]
    }
   ],
   "source": [
    "print(df_train['michelin'].value_counts())\n",
    "print(df_train['travelers choice'].value_counts())\n",
    "print(df_train['timetable'].value_counts())\n",
    "\n",
    "df[\"michelin\"] = df_train[\"michelin\"].astype(int)\n",
    "df[\"travelers choice\"] = df_train[\"travelers choice\"].astype(int)\n",
    "df[\"timetable\"] = df_train[\"timetable\"].astype(int)"
   ]
  },
  {
   "cell_type": "markdown",
   "id": "7af4566a",
   "metadata": {},
   "source": [
    "### Phone number and Email address"
   ]
  },
  {
   "cell_type": "code",
   "execution_count": 18,
   "id": "060a43e4",
   "metadata": {},
   "outputs": [
    {
     "name": "stdout",
     "output_type": "stream",
     "text": [
      "Telefoonnummer aanwezig?\n",
      "True     1888\n",
      "False     176\n",
      "Name: phone number, dtype: int64\n",
      "Emailadres aanwezig?\n",
      "True     1077\n",
      "False     987\n",
      "Name: email address, dtype: int64\n"
     ]
    }
   ],
   "source": [
    "print(\"Telefoonnummer aanwezig?\")\n",
    "print(df_train['phone number'].fillna('').astype(bool).value_counts())\n",
    "print(\"Emailadres aanwezig?\")\n",
    "print(df_train['email address'].fillna('').astype(bool).value_counts())\n",
    "\n",
    "df['phone number'] = df_train['phone number'].fillna('').astype(bool).astype(int)\n",
    "df['email address'] = df_train['email address'].fillna('').astype(bool).astype(int)"
   ]
  },
  {
   "cell_type": "markdown",
   "id": "d0bcd18e",
   "metadata": {},
   "source": [
    "### Tags \n",
    "\n",
    "Check if there is data in the tags column that is not already in other columns (excluding the price tag, because we already covered that)"
   ]
  },
  {
   "cell_type": "code",
   "execution_count": 19,
   "id": "d3509396",
   "metadata": {
    "scrolled": true
   },
   "outputs": [
    {
     "name": "stdout",
     "output_type": "stream",
     "text": [
      "Fout bij tag: Hong Kong $$ - $$$|Healthy|Street Food|Hong Kong\n",
      "Fout bij tag: Szechuan $$ - $$$|Chinese|Asian|Szechuan\n",
      "Fout bij tag: International $$ - $$$|Japanese|International|Asian\n",
      "Fout bij tag: Asian $$ - $$$|Japanese|International|Asian\n",
      "Fout bij tag: Quick Bites $|Quick Bites|Healthy|Vegetarian Friendly\n",
      "Fout bij tag: Cantonese $$ - $$$|Chinese|Asian|Cantonese\n",
      "Fout bij tag: Cantonese $|Chinese|Cantonese|Szechuan\n",
      "Fout bij tag: Szechuan $|Chinese|Cantonese|Szechuan\n",
      "Fout bij tag: Szechuan $$ - $$$|Chinese|Asian|Szechuan\n",
      "Fout bij tag: Quick Bites $$ - $$$|Quick Bites|Mexican\n",
      "Fout bij tag: Szechuan $|Chinese|Asian|Szechuan\n",
      "Fout bij tag: Cantonese $$ - $$$|Chinese|Cantonese\n",
      "Fout bij tag: Shanghai $$ - $$$|Chinese|Asian|Shanghai\n",
      "Fout bij tag: Cantonese $|Chinese|Cantonese\n",
      "{'Cantonese', 'International', 'Asian', 'Hong Kong', 'Quick Bites', 'Shanghai', 'Szechuan'}\n"
     ]
    }
   ],
   "source": [
    "# split and strip cuisines (,)\n",
    "# split and strip special diets (,)\n",
    "# split and strip tags (|)\n",
    "columnsToAdd = []\n",
    "def testRow(cuisines, specialDiets, tags):\n",
    "    storedData = []\n",
    "    # voeg eerst alles toe dat al is opgeslagen door de cuisines en special diets kolommen te verwerken\n",
    "    for i in str(cuisines).split(','):\n",
    "        if (i != 'nan'):\n",
    "            storedData.append(i.strip())  \n",
    "    for i in str(specialDiets).split(','):\n",
    "        if (i != 'nan'):\n",
    "            storedData.append(i.strip()) \n",
    "    \n",
    "    # chech of alles in de tags kolom al is opgeslagen        \n",
    "    for i in str(tags).split('|'):\n",
    "        if('$' not in i):\n",
    "            if(i not in storedData and i != 'nan'):\n",
    "                columnsToAdd.append(i.strip())\n",
    "                print('Fout bij tag:', i, tags)\n",
    "                \n",
    "    \n",
    "df_train[['cuisines','special diets','tags']].apply(lambda x: testRow(*x), axis=1)\n",
    "\n",
    "columnsToAdd = set(columnsToAdd)\n",
    "\n",
    "print(columnsToAdd)\n",
    "\n",
    "# er blijken nog enkele kolommen te ontbreken in onze df dataframe, er staat dus soms data in de tags kolom die nergens anders staat in de rij van een bepaald element\n",
    "\n",
    "# de kolommen die ontbraken in df toevoegen\n",
    "\n",
    "def addColumnValues(cuisines, specialDiets, tags, column):\n",
    "    if (column in (str(tags).split('|') or str(cuisines).split(',') or str(specialDiets).split())):\n",
    "        return 1\n",
    "    return 0\n",
    "for i in columnsToAdd:\n",
    "    df[i] = df_train[['cuisines','special diets','tags']].apply(lambda x: addColumnValues(*x,i), axis=1)"
   ]
  },
  {
   "cell_type": "markdown",
   "id": "5a063fde",
   "metadata": {},
   "source": [
    "## Data analysis"
   ]
  },
  {
   "cell_type": "markdown",
   "id": "5bbb52ce",
   "metadata": {},
   "source": [
    "### michelin"
   ]
  },
  {
   "cell_type": "markdown",
   "id": "85baab30",
   "metadata": {},
   "source": [
    "- To start off, the ratings are checked to make sure there are no negative values. We do this cause negative values could influence the results.\n",
    "- Subsequently we look at what michelin means in terms of ratings."
   ]
  },
  {
   "cell_type": "code",
   "execution_count": 20,
   "id": "f370366f",
   "metadata": {},
   "outputs": [
    {
     "name": "stdout",
     "output_type": "stream",
     "text": [
      "---------- Amount of negative values : ----------\n",
      "food rating 0\n",
      "atmosphere rating 0\n",
      "general rating 0\n",
      "value rating 0\n",
      "service rating 0\n"
     ]
    },
    {
     "data": {
      "text/plain": [
       "<AxesSubplot:title={'center':'average ratings based on michelin'}>"
      ]
     },
     "execution_count": 20,
     "metadata": {},
     "output_type": "execute_result"
    },
    {
     "data": {
      "image/png": "[encoded data removed]",
      "text/plain": [
       "<Figure size 720x144 with 1 Axes>"
      ]
     },
     "metadata": {
      "needs_background": "light"
     },
     "output_type": "display_data"
    }
   ],
   "source": [
    "ratings = {\"general rating\", \"food rating\", \"service rating\", \"value rating\"}\n",
    "\n",
    "print('-'*10,\"Amount of negative values :\",'-'*10)\n",
    "for i in ratings:\n",
    "    print(i,df[i].loc[df[i] < 0].count())\n",
    "    \n",
    "\n",
    "\n",
    "avg_ratings = {}\n",
    "\n",
    "for i in ratings:\n",
    "    avg_ratings[i + ' of michelin'] = df.loc[df['michelin'] == 1][i].mean()\n",
    "    avg_ratings[i + ' of no michelin'] = df.loc[df['michelin'] == 0][i].mean()\n",
    "    \n",
    "pd.Series(avg_ratings).plot(kind='barh', figsize=(10,2), title='average ratings based on michelin')"
   ]
  },
  {
   "cell_type": "markdown",
   "id": "07733703",
   "metadata": {},
   "source": [
    "Notice in the chart above, that michelin restaurants on average score higher. It is here important to note that we do not conclude that a michelin restaurant will give a restaurant higher ratings. It is rather so that only very good restaurants become michelin restaurants an so logicly they recuived on average higher ratings."
   ]
  },
  {
   "cell_type": "markdown",
   "id": "221ea987",
   "metadata": {},
   "source": [
    "### Timetable"
   ]
  },
  {
   "cell_type": "code",
   "execution_count": 21,
   "id": "f96dd39e",
   "metadata": {},
   "outputs": [
    {
     "data": {
      "text/plain": [
       "<AxesSubplot:title={'center':'average ratings based on timetables'}>"
      ]
     },
     "execution_count": 21,
     "metadata": {},
     "output_type": "execute_result"
    },
    {
     "data": {
      "image/png": "[encoded data removed]",
      "text/plain": [
       "<Figure size 720x144 with 1 Axes>"
      ]
     },
     "metadata": {
      "needs_background": "light"
     },
     "output_type": "display_data"
    }
   ],
   "source": [
    "avg_ratings = {}\n",
    "for i in ratings:\n",
    "    avg_ratings[i + ' with timetable'] = df.loc[df['timetable'] == 1][i].mean()\n",
    "    avg_ratings[i + ' with no timetable '] = df.loc[df['timetable'] == 0][i].mean()\n",
    "    \n",
    "pd.Series(avg_ratings).plot(kind='barh', figsize=(10,2), title='average ratings based on timetables')"
   ]
  },
  {
   "cell_type": "markdown",
   "id": "db57b6d8",
   "metadata": {},
   "source": [
    "Notice in the chart above, that on average restaurants with a timetable score higher. Het is belangrijk om te beseffen dat dit niet aanzien wordt als een factor die de ratings direct beinvloed. Er zijn kunnen verschillende redenen waarom restaurants die timetables gebruiken hoger scoren. Dit kan bijvoorbeeld een teken zijn van profesionaliteit en profesionaliteit kan leiden tot betere scores."
   ]
  },
  {
   "cell_type": "markdown",
   "id": "2e585455",
   "metadata": {},
   "source": [
    "### travelers choice"
   ]
  },
  {
   "cell_type": "code",
   "execution_count": 22,
   "id": "276ee8e5",
   "metadata": {},
   "outputs": [
    {
     "data": {
      "text/plain": [
       "<AxesSubplot:title={'center':'average ratings based on travelers choice'}>"
      ]
     },
     "execution_count": 22,
     "metadata": {},
     "output_type": "execute_result"
    },
    {
     "data": {
      "image/png": "[encoded data removed]",
      "text/plain": [
       "<Figure size 720x144 with 1 Axes>"
      ]
     },
     "metadata": {
      "needs_background": "light"
     },
     "output_type": "display_data"
    }
   ],
   "source": [
    "avg_ratings = {}\n",
    "for i in ratings:\n",
    "    avg_ratings[i + ' with travelers choice'] = df.loc[df['travelers choice'] == 1][i].mean()\n",
    "    avg_ratings[i + ' without travelers choice '] = df.loc[df['travelers choice'] == 0][i].mean()\n",
    "    \n",
    "pd.Series(avg_ratings).plot(kind='barh', figsize=(10,2), title='average ratings based on travelers choice')"
   ]
  },
  {
   "cell_type": "markdown",
   "id": "ccbd62ff",
   "metadata": {},
   "source": [
    "We zien dat restaurants die gemarkeerd zijn met travelers choice gemiddeld gezien hoger scoren."
   ]
  },
  {
   "cell_type": "markdown",
   "id": "582e0804",
   "metadata": {},
   "source": [
    "### Ratings"
   ]
  },
  {
   "cell_type": "code",
   "execution_count": 23,
   "id": "e63132d2",
   "metadata": {},
   "outputs": [
    {
     "data": {
      "text/plain": [
       "<AxesSubplot:>"
      ]
     },
     "execution_count": 23,
     "metadata": {},
     "output_type": "execute_result"
    },
    {
     "data": {
      "image/png": "[encoded data removed]",
      "text/plain": [
       "<Figure size 432x288 with 2 Axes>"
      ]
     },
     "metadata": {
      "needs_background": "light"
     },
     "output_type": "display_data"
    }
   ],
   "source": [
    "sn.heatmap(df[[\"general rating\", \"food rating\", \"service rating\", \"value rating\"]].corr(), annot=True)"
   ]
  },
  {
   "cell_type": "markdown",
   "id": "89c59fa9",
   "metadata": {},
   "source": [
    "Notice in the chart above the red colering, this indicates a that food rating, value rating and service rating are highly correlated(0,7 - 0,9). At last you can notice that general rating is low(0,3 - 0,5) to moderately(0,5 - 0,7) correlated to the other ratings."
   ]
  },
  {
   "cell_type": "markdown",
   "id": "48e2a741",
   "metadata": {},
   "source": [
    "### ratings compared to price"
   ]
  },
  {
   "cell_type": "code",
   "execution_count": 24,
   "id": "b1bd7d2f",
   "metadata": {},
   "outputs": [
    {
     "data": {
      "text/plain": [
       "<AxesSubplot:>"
      ]
     },
     "execution_count": 24,
     "metadata": {},
     "output_type": "execute_result"
    },
    {
     "data": {
      "image/png": "[encoded data removed]",
      "text/plain": [
       "<Figure size 432x288 with 2 Axes>"
      ]
     },
     "metadata": {
      "needs_background": "light"
     },
     "output_type": "display_data"
    }
   ],
   "source": [
    "sn.heatmap(df[[\"general rating\", \"food rating\", \"service rating\"\n",
    "               , \"value rating\",'price range','price tag']].corr(), annot=True)"
   ]
  },
  {
   "cell_type": "markdown",
   "id": "69f3b6d2",
   "metadata": {},
   "source": [
    "In the chart above you can notice that there isn't a significant correlation between the price and the rating of a restaurant."
   ]
  },
  {
   "cell_type": "code",
   "execution_count": 25,
   "id": "dfb07bf5",
   "metadata": {},
   "outputs": [
    {
     "data": {
      "text/plain": [
       "<AxesSubplot:>"
      ]
     },
     "execution_count": 25,
     "metadata": {},
     "output_type": "execute_result"
    },
    {
     "data": {
      "image/png": "[encoded data removed]",
      "text/plain": [
       "<Figure size 432x288 with 2 Axes>"
      ]
     },
     "metadata": {
      "needs_background": "light"
     },
     "output_type": "display_data"
    }
   ],
   "source": [
    "sn.heatmap(df[[\"rank\", \"food rating\", \"service rating\"\n",
    "               , \"value rating\",'general rating']].corr(), annot=True)"
   ]
  },
  {
   "cell_type": "code",
   "execution_count": 26,
   "id": "5ea0009c",
   "metadata": {},
   "outputs": [
    {
     "data": {
      "text/plain": [
       "array([[<AxesSubplot:xlabel='rank', ylabel='rank'>,\n",
       "        <AxesSubplot:xlabel='food rating', ylabel='rank'>,\n",
       "        <AxesSubplot:xlabel='service rating', ylabel='rank'>,\n",
       "        <AxesSubplot:xlabel='value rating', ylabel='rank'>,\n",
       "        <AxesSubplot:xlabel='atmosphere rating', ylabel='rank'>,\n",
       "        <AxesSubplot:xlabel='general rating', ylabel='rank'>],\n",
       "       [<AxesSubplot:xlabel='rank', ylabel='food rating'>,\n",
       "        <AxesSubplot:xlabel='food rating', ylabel='food rating'>,\n",
       "        <AxesSubplot:xlabel='service rating', ylabel='food rating'>,\n",
       "        <AxesSubplot:xlabel='value rating', ylabel='food rating'>,\n",
       "        <AxesSubplot:xlabel='atmosphere rating', ylabel='food rating'>,\n",
       "        <AxesSubplot:xlabel='general rating', ylabel='food rating'>],\n",
       "       [<AxesSubplot:xlabel='rank', ylabel='service rating'>,\n",
       "        <AxesSubplot:xlabel='food rating', ylabel='service rating'>,\n",
       "        <AxesSubplot:xlabel='service rating', ylabel='service rating'>,\n",
       "        <AxesSubplot:xlabel='value rating', ylabel='service rating'>,\n",
       "        <AxesSubplot:xlabel='atmosphere rating', ylabel='service rating'>,\n",
       "        <AxesSubplot:xlabel='general rating', ylabel='service rating'>],\n",
       "       [<AxesSubplot:xlabel='rank', ylabel='value rating'>,\n",
       "        <AxesSubplot:xlabel='food rating', ylabel='value rating'>,\n",
       "        <AxesSubplot:xlabel='service rating', ylabel='value rating'>,\n",
       "        <AxesSubplot:xlabel='value rating', ylabel='value rating'>,\n",
       "        <AxesSubplot:xlabel='atmosphere rating', ylabel='value rating'>,\n",
       "        <AxesSubplot:xlabel='general rating', ylabel='value rating'>],\n",
       "       [<AxesSubplot:xlabel='rank', ylabel='atmosphere rating'>,\n",
       "        <AxesSubplot:xlabel='food rating', ylabel='atmosphere rating'>,\n",
       "        <AxesSubplot:xlabel='service rating', ylabel='atmosphere rating'>,\n",
       "        <AxesSubplot:xlabel='value rating', ylabel='atmosphere rating'>,\n",
       "        <AxesSubplot:xlabel='atmosphere rating', ylabel='atmosphere rating'>,\n",
       "        <AxesSubplot:xlabel='general rating', ylabel='atmosphere rating'>],\n",
       "       [<AxesSubplot:xlabel='rank', ylabel='general rating'>,\n",
       "        <AxesSubplot:xlabel='food rating', ylabel='general rating'>,\n",
       "        <AxesSubplot:xlabel='service rating', ylabel='general rating'>,\n",
       "        <AxesSubplot:xlabel='value rating', ylabel='general rating'>,\n",
       "        <AxesSubplot:xlabel='atmosphere rating', ylabel='general rating'>,\n",
       "        <AxesSubplot:xlabel='general rating', ylabel='general rating'>]],\n",
       "      dtype=object)"
      ]
     },
     "execution_count": 26,
     "metadata": {},
     "output_type": "execute_result"
    },
    {
     "data": {
      "image/png": "[encoded data removed]",
      "text/plain": [
       "<Figure size 576x576 with 36 Axes>"
      ]
     },
     "metadata": {
      "needs_background": "light"
     },
     "output_type": "display_data"
    }
   ],
   "source": [
    "pd.plotting.scatter_matrix(df[[\"rank\", \"food rating\", \"service rating\"\n",
    "               , \"value rating\", \"atmosphere rating\",'general rating']], figsize = (8,8))"
   ]
  },
  {
   "cell_type": "code",
   "execution_count": null,
   "id": "4bcd0e22",
   "metadata": {},
   "outputs": [],
   "source": []
  }
 ],
 "metadata": {
  "kernelspec": {
   "display_name": "Python 3 (ipykernel)",
   "language": "python",
   "name": "python3"
  },
  "language_info": {
   "codemirror_mode": {
    "name": "ipython",
    "version": 3
   },
   "file_extension": ".py",
   "mimetype": "text/x-python",
   "name": "python",
   "nbconvert_exporter": "python",
   "pygments_lexer": "ipython3",
   "version": "3.9.12"
  },
  "vscode": {
   "interpreter": {
    "hash": "369f2c481f4da34e4445cda3fffd2e751bd1c4d706f27375911949ba6bb62e1c"
   }
  }
 },
 "nbformat": 4,
 "nbformat_minor": 5
}
