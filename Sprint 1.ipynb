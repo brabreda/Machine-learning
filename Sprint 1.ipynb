{
 "cells": [
  {
   "cell_type": "markdown",
   "id": "aa5b3949",
   "metadata": {},
   "source": [
    "# Machine learning - sprint 1\n",
    "authors: Allart Ewoud, Van Hees Maxime, Breda Bram"
   ]
  },
  {
   "cell_type": "markdown",
   "id": "f4ae9144",
   "metadata": {},
   "source": [
    "#### GET AN INTIAL FEEL OF THE DATA? MOET DIT ER NOG BIJ OF NIET? --> LABO 1"
   ]
  },
  {
   "cell_type": "markdown",
   "id": "f7b43ddb",
   "metadata": {},
   "source": [
    "## Importing data"
   ]
  },
  {
   "cell_type": "code",
   "execution_count": null,
   "id": "dbb8be18",
   "metadata": {},
   "outputs": [],
   "source": [
    "# Import pandas and read csv using pandas\n",
    "import pandas as pd\n",
    "import seaborn as sn\n",
    "import numpy as np\n",
    "import matplotlib.pyplot as plt\n",
    "from math import nan\n",
    "import plotly.express as px\n",
    "\n",
    "from geopy.extra.rate_limiter import RateLimiter\n",
    "from geopy.geocoders import Nominatim"
   ]
  },
  {
   "cell_type": "code",
   "execution_count": null,
   "id": "fa072c3d",
   "metadata": {},
   "outputs": [],
   "source": [
    "\n",
    "\n",
    "original_df = pd.read_csv(\"tripadvisor_dataset/restaurant_listings.csv\")\n",
    "\n",
    "# display the data and see how it formulated\n",
    "pd.set_option(\"display.max_columns\", None)\n",
    "original_df.head()"
   ]
  },
  {
   "cell_type": "code",
   "execution_count": null,
   "id": "8ea022b3",
   "metadata": {},
   "outputs": [],
   "source": [
    "original_df_reviews = pd.read_csv(\"tripadvisor_dataset/reviews.csv\")\n",
    "original_df_reviews.head()"
   ]
  },
  {
   "cell_type": "markdown",
   "id": "648c2121",
   "metadata": {},
   "source": [
    "## Split in test & train data"
   ]
  },
  {
   "cell_type": "markdown",
   "id": "b509fe0a",
   "metadata": {},
   "source": [
    "The goal of machine learning is to build models on train data that are able to make predictions on unseen test data. So we first try to split our data into a trainset and a test set before we move on to the other steps."
   ]
  },
  {
   "cell_type": "code",
   "execution_count": null,
   "id": "25ac4b5d",
   "metadata": {},
   "outputs": [],
   "source": [
    "from sklearn.model_selection import train_test_split\n",
    "df_train, df_test = train_test_split(original_df, random_state=0, train_size = 0.8)\n",
    "df_train_reviews, df_test_reviews = train_test_split(original_df_reviews, random_state=0, train_size = 0.8)\n",
    "numerics = ['int16', 'int32', 'int64', 'float16', 'float32', 'float64']\n",
    "df = df_train.select_dtypes(include=numerics)\n",
    "\n"
   ]
  },
  {
   "cell_type": "markdown",
   "id": "e74c1c33",
   "metadata": {},
   "source": [
    "## Data clean-up"
   ]
  },
  {
   "cell_type": "markdown",
   "id": "182ba231",
   "metadata": {},
   "source": [
    "First we start with cleaning of the less complicated data. This includes the collumns general rating, number of reviews and rank."
   ]
  },
  {
   "cell_type": "markdown",
   "id": "d445dff3",
   "metadata": {},
   "source": [
    "### General rating, number of reviews & rank"
   ]
  },
  {
   "cell_type": "markdown",
   "id": "9f7da894",
   "metadata": {},
   "source": [
    "General rating komt in een tekstuele vorm, uit deze vorm moet enkel het eerste getal worden gehaald. We merken ook op dat het een aantal -1 values heeft, deze veranderen we door NaN. \n",
    "\n"
   ]
  },
  {
   "cell_type": "code",
   "execution_count": null,
   "id": "8ae0a02c",
   "metadata": {},
   "outputs": [],
   "source": [
    "# general rating\n",
    "df[\"general rating\"] = df_train[\"general rating\"].apply(lambda x: float(str(x).split(' ')[0]))\n",
    "df[\"general rating\"] = pd.to_numeric(df[\"general rating\"])\n",
    "df[\"general rating\"] = df[\"general rating\"].replace(-1, np.nan)\n",
    "\n",
    "# number of reviews\n",
    "df[\"number of reviews\"] = df_train[\"number of reviews\"].apply(lambda x: int(str(x).split(' ')[0]))\n",
    "df[\"number of reviews\"] = pd.to_numeric(df[\"number of reviews\"])\n",
    "\n",
    "# rank\n",
    "df[\"rank\"] = df_train[\"rank\"].str.split(\"#\").str[1]\n",
    "df[\"rank\"] = pd.to_numeric(df[\"rank\"])\n",
    "\n",
    "df.head()"
   ]
  },
  {
   "cell_type": "markdown",
   "id": "717e1f41",
   "metadata": {},
   "source": [
    "### Restaurants with no reviews"
   ]
  },
  {
   "cell_type": "markdown",
   "id": "bc113fc8",
   "metadata": {},
   "source": [
    "2 options:\n",
    "\n",
    "- we remove the restaurants that have no reviews, and thus nu general rating. But will this impact the model we will train later on? \n",
    "\n",
    "```df2 = df.loc[(df['number of reviews'] == 0) & (df['general rating'] == -1.0)]```\n",
    "\n",
    "- we don't remove them and assume the model will learn by itself that these entries aren't that useful."
   ]
  },
  {
   "cell_type": "markdown",
   "id": "b0c53502",
   "metadata": {},
   "source": [
    "Kga dit eens vragen aan iemand die data science als werk doet."
   ]
  },
  {
   "cell_type": "markdown",
   "id": "1c98e00d",
   "metadata": {},
   "source": [
    "### Price range\n",
    "A collumn that is a bit more complicated is price range, this collumn will be split in 2, after this the average is taken."
   ]
  },
  {
   "cell_type": "code",
   "execution_count": null,
   "id": "fda4608c",
   "metadata": {},
   "outputs": [],
   "source": [
    "upper_bound = df_train[\"price range\"].str.split(\" - \").str[1]\n",
    "upper_bound = upper_bound.str.split('€').str[1]\n",
    "upper_bound = pd.to_numeric(upper_bound)\n",
    "\n",
    "lower_bound = df_train[\"price range\"].str.split(\" - \").str[0]\n",
    "lower_bound = lower_bound.str.split('€').str[1]\n",
    "lower_bound = pd.to_numeric(lower_bound)\n",
    "\n",
    "sn.displot(upper_bound)\n",
    "sn.displot(lower_bound)"
   ]
  },
  {
   "cell_type": "code",
   "execution_count": null,
   "id": "91f6f10f",
   "metadata": {},
   "outputs": [],
   "source": [
    "from sklearn import preprocessing\n",
    "\n",
    "average = (upper_bound-lower_bound)/2\n",
    "\n",
    "transformer = preprocessing.FunctionTransformer(pd.cut, kw_args={'bins': 10, 'labels': \n",
    "                                                                 [0, 1, 2, 3, 4, 5, 6, 7, 8, 9], 'retbins': True})\n",
    "avg_quantfied = transformer.fit_transform(average)\n",
    "\n",
    "#visualize the data\n",
    "sn.displot(avg_quantfied[0])\n",
    "\n",
    "df['price range'] =  pd.to_numeric(avg_quantfied[0])\n",
    "df.head()"
   ]
  },
  {
   "cell_type": "markdown",
   "id": "5e8c50dd",
   "metadata": {},
   "source": [
    "### Food, service & value rating"
   ]
  },
  {
   "cell_type": "code",
   "execution_count": null,
   "id": "17b530e8",
   "metadata": {},
   "outputs": [],
   "source": [
    "pd.plotting.scatter_matrix(df[[\"food rating\",\"service rating\",\"value rating\", \"general rating\"]], figsize = (8,8))"
   ]
  },
  {
   "cell_type": "markdown",
   "id": "cca62623",
   "metadata": {},
   "source": [
    "Notice in the chart above, that in food rating, service rating, value rating & atmosphere rating there are alot of -1.\n",
    "- In the cases of food, value & service rating we are going to replace them with the average\n",
    "- In the case of atmosphere rating, we are going to drop this column, you can see that most of the data here is -1. So in this case this looks like the best solution."
   ]
  },
  {
   "cell_type": "code",
   "execution_count": null,
   "id": "fa1567db",
   "metadata": {},
   "outputs": [],
   "source": [
    "mean = df[\"service rating\"].loc[df[\"service rating\"] != -1].mean()\n",
    "df[\"service rating\"] = df[\"service rating\"].replace(-1,mean)\n",
    "\n",
    "mean = df[\"food rating\"].loc[df[\"food rating\"] != -1].mean()\n",
    "df[\"food rating\"] = df[\"food rating\"].replace(-1,mean)\n",
    "\n",
    "mean = df[\"value rating\"].loc[df[\"value rating\"] != -1].mean()\n",
    "df[\"value rating\"] = df[\"value rating\"].replace(-1,mean)\n",
    "\n",
    "df = df.drop(columns=[\"atmosphere rating\"])\n",
    "\n",
    "pd.plotting.scatter_matrix(df[[\"food rating\",\"service rating\",\"value rating\"]], figsize = (8,8))"
   ]
  },
  {
   "cell_type": "markdown",
   "id": "aa22ccd0",
   "metadata": {},
   "source": [
    "### Meals"
   ]
  },
  {
   "cell_type": "code",
   "execution_count": null,
   "id": "c577cef3",
   "metadata": {
    "scrolled": true
   },
   "outputs": [],
   "source": [
    "# Getting all different types off meals\n",
    "types = []\n",
    "for i in df_train['meals'].fillna(value=\"\"):\n",
    "    types.extend(map(lambda x: x.strip(), i.split(\",\")))\n",
    "types = set(types)\n",
    "\n",
    "\n",
    "# For every type we are going to create a collumn that represents the type\n",
    "for i in types:\n",
    "    if i != \"\":\n",
    "        df[i] = df_train[\"meals\"].apply(lambda x: str(x)).apply(lambda x: int(i in x))\n",
    "\n",
    "# displays full table\n",
    "#with pd.option_context('display.max_rows', None, 'display.max_columns', None): display(df)\n",
    "df.head()"
   ]
  },
  {
   "cell_type": "markdown",
   "id": "843a4a12",
   "metadata": {},
   "source": [
    "#### <font color='red'>VRAAG: kunnen we de opties reduceren, bv brunch & breakfast? Later hiernaar kijken</font>"
   ]
  },
  {
   "cell_type": "markdown",
   "id": "3b41c8c5",
   "metadata": {},
   "source": [
    "### Cuisines"
   ]
  },
  {
   "cell_type": "code",
   "execution_count": null,
   "id": "dbce0ffc",
   "metadata": {},
   "outputs": [],
   "source": [
    "types = []\n",
    "for i in df_train['cuisines'].fillna(value=\"\"):\n",
    "    types.extend(map(lambda x: x.strip(), i.split(\",\")))\n",
    "types = set(types)\n",
    "print(\"Amount of different cuisines:\",len(types))\n",
    "\n",
    "# prints the amout of times a cuisine occurs in the data\n",
    "# set _print on True to enable printing of frequencies\n",
    "_print = True\n",
    "\n",
    "\n",
    "freq = {}\n",
    "for i in types:  \n",
    "    if i != \"\":\n",
    "        freq[i] = df_train[\"cuisines\"].apply(lambda x: str(x)).apply(lambda x: int(i in x)).sum()\n",
    "\n",
    "\n",
    "#print(\"\\n\")\n",
    "#print(\"-\"*20, \"frequency tabel\", \"-\"*20) \n",
    "#for key, value in freq.items():\n",
    "#    print('{:<25}'.format(key ), '{:>4}'.format(value) , \"times\")\n",
    "percentile75 = np.quantile(list(freq.values()), 0.75)\n",
    "percentile50 = np.quantile(list(freq.values()), 0.5)\n",
    "\n",
    "print(\"50-percentile:\",percentile50)\n",
    "print(\"75-percentile:\",percentile75)\n",
    "\n",
    "\n",
    "freq = { key:value for (key,value) in freq.items() if value > percentile50}\n",
    "\n",
    "for (key,value) in freq.items():\n",
    "    if key != \"\":\n",
    "        df[key] = df_train[\"cuisines\"].apply(lambda x: int(key in str(x)))\n",
    "   \n",
    "#TODO add others collumn\n",
    "df"
   ]
  },
  {
   "cell_type": "markdown",
   "id": "d5201de8",
   "metadata": {},
   "source": [
    "The boxplot shows the distribution of the frequencies of the cuisines. Here we can see that a lot of cuisines occur only a few times. This may presents an oppertunity to reduce these to a categorie like \"others\"."
   ]
  },
  {
   "cell_type": "code",
   "execution_count": null,
   "id": "d5469246",
   "metadata": {},
   "outputs": [],
   "source": [
    "fig = plt.figure(figsize =(4, 10))\n",
    "ax = fig.add_axes([0, 0, 1, 1])\n",
    "bp = ax.boxplot(freq.values())\n",
    "plt.show()  "
   ]
  },
  {
   "cell_type": "markdown",
   "id": "ef0e0fcb",
   "metadata": {},
   "source": [
    "### Address"
   ]
  },
  {
   "cell_type": "markdown",
   "id": "7026ffcd",
   "metadata": {},
   "source": [
    "The address field has the following structure in most cases:\n",
    "    1. Streetname + number + \",\"\n",
    "    2. City + corresponding postal code\n",
    "    3. Country (here Belgium in all cases)\n",
    "Upon closer inspection we can see that sometimes field 1. and 2. are comma-separted, sometimes not.\n",
    "The number behind the streetname sometimes consists of two numbers (can be split with ' ' or '-' or '/' or ...)"
   ]
  },
  {
   "cell_type": "code",
   "execution_count": null,
   "id": "7243ad2b",
   "metadata": {
    "scrolled": true
   },
   "outputs": [],
   "source": [
    "locator = Nominatim(user_agent=\"ML\")\n",
    "geocode = RateLimiter(locator.geocode, min_delay_seconds=1)\n",
    "\n",
    "def get_coordinates(name):\n",
    "    location = locator.geocode(name)\n",
    "    if location is None:\n",
    "        return pd.Series([np.nan, np.nan])\n",
    "    else:\n",
    "        return pd.Series([location.latitude, location.longitude])\n",
    "    \n",
    "df[['latitude','longitude']] = df_train['address'].fillna('').apply(get_coordinates)\n",
    "df"
   ]
  },
  {
   "cell_type": "code",
   "execution_count": null,
   "id": "0ca68568",
   "metadata": {},
   "outputs": [],
   "source": [
    "fig = px.scatter_mapbox(df[['latitude', 'longitude']], lat=\"latitude\", lon=\"longitude\", height=500, width=700)\n",
    "\n",
    "fig.update_layout(mapbox_style=\"open-street-map\")\n",
    "fig.show()\n",
    "# https://stackoverflow.com/questions/53233228/plot-latitude-longitude-from-csv-in-python-3-6"
   ]
  },
  {
   "cell_type": "markdown",
   "id": "60465b2e",
   "metadata": {},
   "source": [
    "### Restaurant features"
   ]
  },
  {
   "cell_type": "markdown",
   "id": "34f732d2",
   "metadata": {},
   "source": [
    "Extract different restaurant feautures from the dataset"
   ]
  },
  {
   "cell_type": "code",
   "execution_count": null,
   "id": "8f265c96",
   "metadata": {},
   "outputs": [],
   "source": [
    "# Create a dict that holds all restaurant feautures and how much they appear\n",
    "feature_types = {}\n",
    "for i in df_train['restaurant features'].fillna(value=\"\"):\n",
    "    for f in i.split(','):\n",
    "        if i != \"\":\n",
    "            if f.strip() in feature_types.keys():\n",
    "                feature_types[f.strip()] += 1\n",
    "            else:\n",
    "                feature_types[f.strip()] = 1\n",
    "           \n",
    "print(\"Amount of features:\" , len(feature_types.keys()))\n",
    "\n",
    "# omzetten naar dataframe\n",
    "df_features = pd.DataFrame(feature_types, index=[0]).transpose()\n",
    "df_features.columns = ['Amount']\n",
    "df_features.sort_values(['Amount'], ascending=False, inplace=True)\n",
    "df_features.plot(kind='barh', figsize=(12,12))\n",
    "\n",
    "for (key,value) in feature_types.items():\n",
    "    if key != \"\":\n",
    "        df[key] = df_train[\"restaurant features\"].apply(lambda x: int(key in str(x)))"
   ]
  },
  {
   "cell_type": "markdown",
   "id": "bce15542",
   "metadata": {},
   "source": [
    "### Special Diets"
   ]
  },
  {
   "cell_type": "code",
   "execution_count": null,
   "id": "a4f76ff9",
   "metadata": {},
   "outputs": [],
   "source": [
    "# check which special diets exist in the data\n",
    "diet_types = {}\n",
    "for i in df_train['special diets'].fillna(value=\"\"):\n",
    "    for f in i.split(','):\n",
    "            if f.strip() in diet_types.keys():\n",
    "                diet_types[f.strip()] += 1\n",
    "            else:\n",
    "                diet_types[f.strip()] = 1\n",
    "           \n",
    "print(\"Amount of diets:\" , len(diet_types.keys()))\n",
    "print(diet_types)\n",
    "\n",
    "# check if available diet options have influence on the average rating per restaurant\n",
    "diet_avg_review = {}\n",
    "for d in diet_types.keys():\n",
    "    if len(df_train[df_train['special diets'].str.contains(d) == True]) >=  100: #only use data of a diet type if there are more than 100 restaurants with that diet type\n",
    "        diet_avg_review[d] = df[df_train['special diets'].str.contains(d) == True]['general rating'].mean()\n",
    "print('Average review score per diet type',diet_avg_review)\n",
    "df_diets = pd.Series(diet_avg_review).rename({'': 'No diets specified in data'})\n",
    "df_diets.sort_values(ascending=False).plot(kind='barh', figsize=(10,2), title='Average review score per diet')\n"
   ]
  },
  {
   "cell_type": "markdown",
   "id": "98a70226",
   "metadata": {},
   "source": [
    "The graph above shows that restaurants with vegan and gluten free options have a higher average review score. "
   ]
  },
  {
   "cell_type": "markdown",
   "id": "4a7ba10a",
   "metadata": {},
   "source": [
    "### Price tag"
   ]
  },
  {
   "cell_type": "markdown",
   "id": "05a2ce21",
   "metadata": {},
   "source": [
    "Bij price de andere price metriek zagen we dat er zeer veel data ontbrak, de andere metriek heeft ook een aantal nadelen, het is namelijk zo dat 1 goedkoop gericht op 1 door gerecht in een resto de volleige metriek beinvoeld."
   ]
  },
  {
   "cell_type": "code",
   "execution_count": null,
   "id": "ff5d9ee1",
   "metadata": {},
   "outputs": [],
   "source": [
    "price_options = []\n",
    "\n",
    "for i in df_train['tags'].fillna(value=\"\"):\n",
    "    for j in i.split('|'):\n",
    "        if '$' in j:\n",
    "            price_options.append(j)\n",
    "            \n",
    "price_options = set(price_options)\n",
    "price_options = sorted(price_options, key= lambda x: len(x.split('-')[0].strip()))\n",
    "       \n",
    "def formatPriceRange(tags):\n",
    "    for i in reversed(range(0,3)):\n",
    "        if price_options[i] in tags:\n",
    "            return i + 1\n",
    "    return nan\n",
    "       \n",
    "df[\"price tag\"] = df_train['tags'].apply(lambda x: formatPriceRange(str(x)))"
   ]
  },
  {
   "cell_type": "markdown",
   "id": "37890107",
   "metadata": {},
   "source": [
    "### Website & menu"
   ]
  },
  {
   "cell_type": "code",
   "execution_count": null,
   "id": "24f0bb12",
   "metadata": {},
   "outputs": [],
   "source": [
    "df['has website url'] = df_train['website url'].apply(lambda x: str(x) != \"nan\")\n",
    "df['has menu url'] = df_train['menu url'].apply(lambda x: str(x) != \"nan\")\n",
    "\n",
    "means = {}\n",
    "means['website url'] = df.loc[df['has website url'] == 1]['general rating'].mean()\n",
    "means['no website url'] = df.loc[df['has website url'] == 0]['general rating'].mean()\n",
    "\n",
    "means['menu url'] = df.loc[df['has menu url'] == 1]['general rating'].mean()\n",
    "means['no menu url'] = df.loc[df['has menu url'] == 0]['general rating'].mean()\n",
    "pd.Series(means).plot(kind='barh', figsize=(10,2), title='Average score based on urls')"
   ]
  },
  {
   "cell_type": "markdown",
   "id": "18ace329",
   "metadata": {},
   "source": [
    "### michelin & travelers choice & timetable"
   ]
  },
  {
   "cell_type": "markdown",
   "id": "9382db21",
   "metadata": {},
   "source": [
    "De data is duidelijk gewoon een boolean, dit is eenvoudig om te zetten naar een int."
   ]
  },
  {
   "cell_type": "code",
   "execution_count": null,
   "id": "a1c67429",
   "metadata": {},
   "outputs": [],
   "source": [
    "print(df_train['michelin'].value_counts())\n",
    "print(df_train['travelers choice'].value_counts())\n",
    "print(df_train['timetable'].value_counts())\n",
    "\n",
    "df[\"michelin\"] = df_train[\"michelin\"].astype(int)\n",
    "df[\"travelers choice\"] = df_train[\"travelers choice\"].astype(int)\n",
    "df[\"timetable\"] = df_train[\"timetable\"].astype(int)"
   ]
  },
  {
   "cell_type": "markdown",
   "id": "7af4566a",
   "metadata": {},
   "source": [
    "### Phone number and Email address"
   ]
  },
  {
   "cell_type": "code",
   "execution_count": null,
   "id": "060a43e4",
   "metadata": {},
   "outputs": [],
   "source": [
    "print(\"Telefoonnummer aanwezig?\")\n",
    "print(df_train['phone number'].fillna('').astype(bool).value_counts())\n",
    "print(\"Emailadres aanwezig?\")\n",
    "print(df_train['email address'].fillna('').astype(bool).value_counts())\n",
    "\n",
    "df['phone number'] = df_train['phone number'].fillna('').astype(bool).astype(int)\n",
    "df['email address'] = df_train['email address'].fillna('').astype(bool).astype(int)"
   ]
  },
  {
   "cell_type": "markdown",
   "id": "d0bcd18e",
   "metadata": {},
   "source": [
    "### Tags \n",
    "\n",
    "Check if there is data in the tags column that is not already in other columns (excluding the price tag, because we already covered that)"
   ]
  },
  {
   "cell_type": "code",
   "execution_count": null,
   "id": "d3509396",
   "metadata": {
    "scrolled": true
   },
   "outputs": [],
   "source": [
    "# split and strip cuisines (,)\n",
    "# split and strip special diets (,)\n",
    "# split and strip tags (|)\n",
    "columnsToAdd = []\n",
    "def testRow(cuisines, specialDiets, tags):\n",
    "    storedData = []\n",
    "    # voeg eerst alles toe dat al is opgeslagen door de cuisines en special diets kolommen te verwerken\n",
    "    for i in str(cuisines).split(','):\n",
    "        if (i != 'nan'):\n",
    "            storedData.append(i.strip())  \n",
    "    for i in str(specialDiets).split(','):\n",
    "        if (i != 'nan'):\n",
    "            storedData.append(i.strip()) \n",
    "    \n",
    "    # chech of alles in de tags kolom al is opgeslagen        \n",
    "    for i in str(tags).split('|'):\n",
    "        if('$' not in i):\n",
    "            if(i not in storedData and i != 'nan'):\n",
    "                columnsToAdd.append(i.strip())\n",
    "                print('Fout bij tag:', i, tags)\n",
    "                \n",
    "    \n",
    "df_train[['cuisines','special diets','tags']].apply(lambda x: testRow(*x), axis=1)\n",
    "\n",
    "columnsToAdd = set(columnsToAdd)\n",
    "\n",
    "print(columnsToAdd)\n",
    "\n",
    "# er blijken nog enkele kolommen te ontbreken in onze df dataframe, er staat dus soms data in de tags kolom die nergens anders staat in de rij van een bepaald element\n",
    "\n",
    "# de kolommen die ontbraken in df toevoegen\n",
    "\n",
    "def addColumnValues(cuisines, specialDiets, tags, column):\n",
    "    if (column in (str(tags).split('|') or str(cuisines).split(',') or str(specialDiets).split())):\n",
    "        return 1\n",
    "    return 0\n",
    "for i in columnsToAdd:\n",
    "    df[i] = df_train[['cuisines','special diets','tags']].apply(lambda x: addColumnValues(*x,i), axis=1)"
   ]
  },
  {
   "cell_type": "markdown",
   "id": "8b3767fa",
   "metadata": {},
   "source": [
    "### Restaurant popularity\n",
    "Because there is no column that cal tell us how popular a restaurant is, we will try to estimate the popularity of a restaurant by taking the amount of reviews in consideration. We assume that if a restaurant gets a lot of reviews, alot of people go there. We also take the interval between the first and the last review into account. If we divide the amount of reviews by the interval we get a value that estimates the popularity of the restaurant. "
   ]
  },
  {
   "cell_type": "code",
   "execution_count": null,
   "id": "ec9fad9a",
   "metadata": {},
   "outputs": [],
   "source": [
    "..."
   ]
  },
  {
   "cell_type": "markdown",
   "id": "5a063fde",
   "metadata": {},
   "source": [
    "## Data analysis"
   ]
  },
  {
   "cell_type": "markdown",
   "id": "5bbb52ce",
   "metadata": {},
   "source": [
    "### michelin"
   ]
  },
  {
   "cell_type": "markdown",
   "id": "85baab30",
   "metadata": {},
   "source": [
    "- To start off, the ratings are checked to make sure there are no negative values. We do this cause negative values could influence the results.\n",
    "- Subsequently we look at what michelin means in terms of ratings."
   ]
  },
  {
   "cell_type": "code",
   "execution_count": null,
   "id": "f370366f",
   "metadata": {},
   "outputs": [],
   "source": [
    "ratings = {\"general rating\", \"food rating\", \"service rating\", \"value rating\"}\n",
    "\n",
    "print('-'*10,\"Amount of negative values :\",'-'*10)\n",
    "for i in ratings:\n",
    "    print(i,df[i].loc[df[i] < 0].count())\n",
    "    \n",
    "\n",
    "\n",
    "avg_ratings = {}\n",
    "\n",
    "for i in ratings:\n",
    "    avg_ratings[i + ' of michelin'] = df.loc[df['michelin'] == 1][i].mean()\n",
    "    avg_ratings[i + ' of no michelin'] = df.loc[df['michelin'] == 0][i].mean()\n",
    "    \n",
    "pd.Series(avg_ratings).plot(kind='barh', figsize=(10,2), title='average ratings based on michelin')"
   ]
  },
  {
   "cell_type": "markdown",
   "id": "07733703",
   "metadata": {},
   "source": [
    "Notice in the chart above, that michelin restaurants on average score higher. It is here important to note that we do not conclude that a michelin restaurant will give a restaurant higher ratings. It is rather so that only very good restaurants become michelin restaurants an so logicly they recuived on average higher ratings."
   ]
  },
  {
   "cell_type": "markdown",
   "id": "221ea987",
   "metadata": {},
   "source": [
    "### Timetable"
   ]
  },
  {
   "cell_type": "code",
   "execution_count": null,
   "id": "f96dd39e",
   "metadata": {},
   "outputs": [],
   "source": [
    "avg_ratings = {}\n",
    "for i in ratings:\n",
    "    avg_ratings[i + ' with timetable'] = df.loc[df['timetable'] == 1][i].mean()\n",
    "    avg_ratings[i + ' with no timetable '] = df.loc[df['timetable'] == 0][i].mean()\n",
    "    \n",
    "pd.Series(avg_ratings).plot(kind='barh', figsize=(10,2), title='average ratings based on timetables')"
   ]
  },
  {
   "cell_type": "markdown",
   "id": "db57b6d8",
   "metadata": {},
   "source": [
    "Notice in the chart above, that on average restaurants with a timetable score higher. Het is belangrijk om te beseffen dat dit niet aanzien wordt als een factor die de ratings direct beinvloed. Er zijn kunnen verschillende redenen waarom restaurants die timetables gebruiken hoger scoren. Dit kan bijvoorbeeld een teken zijn van profesionaliteit en profesionaliteit kan leiden tot betere scores."
   ]
  },
  {
   "cell_type": "markdown",
   "id": "2e585455",
   "metadata": {},
   "source": [
    "### travelers choice"
   ]
  },
  {
   "cell_type": "code",
   "execution_count": null,
   "id": "276ee8e5",
   "metadata": {},
   "outputs": [],
   "source": [
    "avg_ratings = {}\n",
    "for i in ratings:\n",
    "    avg_ratings[i + ' with travelers choice'] = df.loc[df['travelers choice'] == 1][i].mean()\n",
    "    avg_ratings[i + ' without travelers choice '] = df.loc[df['travelers choice'] == 0][i].mean()\n",
    "    \n",
    "pd.Series(avg_ratings).plot(kind='barh', figsize=(10,2), title='average ratings based on travelers choice')"
   ]
  },
  {
   "cell_type": "markdown",
   "id": "ccbd62ff",
   "metadata": {},
   "source": [
    "We zien dat restaurants die gemarkeerd zijn met travelers choice gemiddeld gezien hoger scoren."
   ]
  },
  {
   "cell_type": "markdown",
   "id": "4ae83ed1",
   "metadata": {},
   "source": [
    "### Restaurant features\n"
   ]
  },
  {
   "cell_type": "code",
   "execution_count": null,
   "id": "390a8268",
   "metadata": {},
   "outputs": [],
   "source": [
    "percentile25 = np.quantile(list(feature_types.values()), 0.25)\n",
    "avg_ratings = {}\n",
    "for i in feature_types.keys():\n",
    "    tmp = df.loc[df[i]== 1]\n",
    "    if (tmp.shape[0] > percentile25): # only use features that occur enough times, because if it only occurs a few times, results may be inaccurate\n",
    "        avg_ratings[i] = tmp['general rating'].mean()\n",
    "pd.Series(avg_ratings).sort_values().plot(kind='barh', figsize=(10,10), title='Average ratings based on restaurant features')"
   ]
  },
  {
   "cell_type": "markdown",
   "id": "fa16f39c",
   "metadata": {},
   "source": [
    "The graph above shows that having certain features in a restaurant can result in a higher review score on average. Note that the restaurant features near the bottom are not necessarily bad features to have, it may be that customers don't really care about it as well.  "
   ]
  },
  {
   "cell_type": "markdown",
   "id": "582e0804",
   "metadata": {},
   "source": [
    "### Ratings"
   ]
  },
  {
   "cell_type": "code",
   "execution_count": null,
   "id": "e63132d2",
   "metadata": {},
   "outputs": [],
   "source": [
    "sn.heatmap(df[[\"general rating\", \"food rating\", \"service rating\", \"value rating\"]].corr(), annot=True)"
   ]
  },
  {
   "cell_type": "markdown",
   "id": "89c59fa9",
   "metadata": {},
   "source": [
    "Notice in the chart above the red colering, this indicates a that food rating, value rating and service rating are highly correlated(0,7 - 0,9). At last you can notice that general rating is low(0,3 - 0,5) to moderately(0,5 - 0,7) correlated to the other ratings."
   ]
  },
  {
   "cell_type": "markdown",
   "id": "48e2a741",
   "metadata": {},
   "source": [
    "### ratings compared to price"
   ]
  },
  {
   "cell_type": "code",
   "execution_count": null,
   "id": "b1bd7d2f",
   "metadata": {},
   "outputs": [],
   "source": [
    "sn.heatmap(df[[\"general rating\", \"food rating\", \"service rating\"\n",
    "               , \"value rating\",'price range','price tag']].corr(), annot=True)"
   ]
  },
  {
   "cell_type": "markdown",
   "id": "69f3b6d2",
   "metadata": {},
   "source": [
    "In the chart above you can notice that there isn't a significant correlation between the price and the rating of a restaurant."
   ]
  },
  {
   "cell_type": "code",
   "execution_count": null,
   "id": "dfb07bf5",
   "metadata": {},
   "outputs": [],
   "source": [
    "sn.heatmap(df[[\"rank\", \"food rating\", \"service rating\"\n",
    "               , \"value rating\",'general rating']].corr(), annot=True)"
   ]
  },
  {
   "cell_type": "code",
   "execution_count": null,
   "id": "5ea0009c",
   "metadata": {},
   "outputs": [],
   "source": [
    "pd.plotting.scatter_matrix(df[[\"rank\", \"food rating\", \"service rating\"\n",
    "               , \"value rating\",'general rating']], figsize = (8,8))"
   ]
  },
  {
   "cell_type": "code",
   "execution_count": null,
   "id": "4bcd0e22",
   "metadata": {},
   "outputs": [],
   "source": [
    "df"
   ]
  }
 ],
 "metadata": {
  "kernelspec": {
   "display_name": "Python 3 (ipykernel)",
   "language": "python",
   "name": "python3"
  },
  "language_info": {
   "codemirror_mode": {
    "name": "ipython",
    "version": 3
   },
   "file_extension": ".py",
   "mimetype": "text/x-python",
   "name": "python",
   "nbconvert_exporter": "python",
   "pygments_lexer": "ipython3",
   "version": "3.9.12"
  },
  "vscode": {
   "interpreter": {
    "hash": "369f2c481f4da34e4445cda3fffd2e751bd1c4d706f27375911949ba6bb62e1c"
   }
  }
 },
 "nbformat": 4,
 "nbformat_minor": 5
}
