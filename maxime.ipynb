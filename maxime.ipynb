{
 "cells": [
  {
   "cell_type": "code",
   "execution_count": 1,
   "metadata": {},
   "outputs": [],
   "source": [
    "import pandas as pd\n",
    "import numpy as np\n",
    "from tqdm import tqdm\n",
    "from PIL import Image, ImageOps\n",
    "import glob\n",
    "import PIL\n",
    "import cv2"
   ]
  },
  {
   "cell_type": "markdown",
   "metadata": {},
   "source": [
    "Idee:\n",
    "\n",
    "We hebben een grote dataset van allemaal foto's gedownload van het internet. Deze bevatten foto's van bars, buffets, restaurants, keukens van restaurants, fastfood restaurants, eetzalen, wijnkelders, ...\n",
    "\n",
    "We proberen een multi-class classifier te maken die 3 dingen kan onderscheiden:\n",
    "- 1. Het binnendecor van het restaurant --> dus alles van binnen dat geen eten is\n",
    "- 2. Het eten zelf\n",
    "- 3. Overige (hoogstwaarschijnlijk zullen dat foto's van de buitenomgeving zijn (gevels, terras, ...))\n",
    "\n",
    "Dit kan bijvoorbeeld handig zijn wanneer tripadvisor hun app zo wil ontwikkelen dat gebruikers een filter kunnen instellen wanneer ze een restaurant opzoeken. Die filter laat de gebruikers toe om bijvoorbeeld enkel foto's van het eten te tonen, of enkel foto's van het binnendecor te tonen (bv. handig wanneer een koppeltje op zoek is naar een romatische setting en minder aandacht heeft voor hoe het eten eruit ziet).\n"
   ]
  },
  {
   "cell_type": "code",
   "execution_count": 3,
   "metadata": {},
   "outputs": [
    {
     "name": "stderr",
     "output_type": "stream",
     "text": [
      "100%|██████████| 111/111 [00:00<00:00, 157.88it/s]\n",
      " 26%|██▌       | 7419/28377 [01:44<1:52:14,  3.11it/s] "
     ]
    },
    {
     "ename": "",
     "evalue": "",
     "output_type": "error",
     "traceback": [
      "\u001b[1;31mCanceled future for execute_request message before replies were done"
     ]
    },
    {
     "ename": "",
     "evalue": "",
     "output_type": "error",
     "traceback": [
      "\u001b[1;31mThe Kernel crashed while executing code in the the current cell or a previous cell. Please review the code in the cell(s) to identify a possible cause of the failure. Click <a href='https://aka.ms/vscodeJupyterKernelCrash'>here</a> for more info. View Jupyter <a href='command:jupyter.viewOutput'>log</a> for further details."
     ]
    }
   ],
   "source": [
    "images_food = []\n",
    "food_folders = [\"Images/buffet/*.jpg\", \n",
    "                \"Images/food/*.jpg\"]\n",
    "\n",
    "# putting all images in a dict where the key is the name of the picture\n",
    "for folder in food_folders:\n",
    "    fileNameList = glob.glob(folder)\n",
    "    for fileName in tqdm(fileNameList, total=len(fileNameList)):\n",
    "        try:\n",
    "            img = Image.open(f\"{fileName}\")\n",
    "            img = img.resize((128,128))\n",
    "            img_np = np.array(img).flatten()\n",
    "            images_food.append(img_np / 255)\n",
    "        except PIL.UnidentifiedImageError:\n",
    "            pass"
   ]
  },
  {
   "cell_type": "code",
   "execution_count": null,
   "metadata": {},
   "outputs": [
    {
     "name": "stderr",
     "output_type": "stream",
     "text": [
      "100%|██████████| 513/513 [00:05<00:00, 101.69it/s]\n",
      "100%|██████████| 107/107 [00:01<00:00, 85.01it/s]\n",
      "100%|██████████| 273/273 [00:05<00:00, 47.94it/s]\n",
      " 53%|█████▎    | 320/604 [01:14<07:17,  1.54s/it]"
     ]
    },
    {
     "ename": "",
     "evalue": "",
     "output_type": "error",
     "traceback": [
      "\u001b[1;31mCanceled future for execute_request message before replies were done"
     ]
    },
    {
     "ename": "",
     "evalue": "",
     "output_type": "error",
     "traceback": [
      "\u001b[1;31mThe Kernel crashed while executing code in the the current cell or a previous cell. Please review the code in the cell(s) to identify a possible cause of the failure. Click <a href='https://aka.ms/vscodeJupyterKernelCrash'>here</a> for more info. View Jupyter <a href='command:jupyter.viewOutput'>log</a> for further details."
     ]
    }
   ],
   "source": [
    "images_interior = []\n",
    "interior_folders = [\"Images/restaurant/*.jpg\", \n",
    "                    \"Images/restaurant_kitchen/*.jpg\", \n",
    "                    \"Images/dining_room/*.jpg\", \n",
    "                    \"Images/bar/*.jpg\",\n",
    "                    \"Images/fastfood_restaurant/*.jpg\"]\n",
    "\n",
    "for folder in interior_folders:\n",
    "    fileNameList = glob.glob(folder)\n",
    "    for fileName in tqdm(fileNameList, total=len(fileNameList)):\n",
    "        try:\n",
    "            img = Image.open(f\"{fileName}\")\n",
    "            img = img.resize((128,128))\n",
    "            img_np = np.array(img).flatten()\n",
    "            images_interior.append(img_np / 255)\n",
    "        except PIL.UnidentifiedImageError:\n",
    "            pass"
   ]
  },
  {
   "cell_type": "code",
   "execution_count": 58,
   "metadata": {},
   "outputs": [
    {
     "ename": "IndexError",
     "evalue": "list index out of range",
     "output_type": "error",
     "traceback": [
      "\u001b[0;31m---------------------------------------------------------------------------\u001b[0m",
      "\u001b[0;31mIndexError\u001b[0m                                Traceback (most recent call last)",
      "Cell \u001b[0;32mIn [58], line 1\u001b[0m\n\u001b[0;32m----> 1\u001b[0m images_interior[\u001b[39m0\u001b[39;49m]\n",
      "\u001b[0;31mIndexError\u001b[0m: list index out of range"
     ]
    }
   ],
   "source": [
    "images_interior[0]"
   ]
  },
  {
   "cell_type": "code",
   "execution_count": null,
   "metadata": {},
   "outputs": [],
   "source": []
  }
 ],
 "metadata": {
  "kernelspec": {
   "display_name": "Python 3",
   "language": "python",
   "name": "python3"
  },
  "language_info": {
   "codemirror_mode": {
    "name": "ipython",
    "version": 3
   },
   "file_extension": ".py",
   "mimetype": "text/x-python",
   "name": "python",
   "nbconvert_exporter": "python",
   "pygments_lexer": "ipython3",
   "version": "3.10.8 (main, Nov  1 2022, 14:18:21) [GCC 12.2.0]"
  },
  "orig_nbformat": 4,
  "vscode": {
   "interpreter": {
    "hash": "e7370f93d1d0cde622a1f8e1c04877d8463912d04d973331ad4851f04de6915a"
   }
  }
 },
 "nbformat": 4,
 "nbformat_minor": 2
}
