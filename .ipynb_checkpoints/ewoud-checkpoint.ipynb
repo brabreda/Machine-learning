{
 "cells": [
  {
   "cell_type": "code",
   "execution_count": 1,
   "metadata": {},
   "outputs": [
    {
     "name": "stderr",
     "output_type": "stream",
     "text": [
      "100%|██████████| 14439/14439 [00:34<00:00, 418.68it/s]\n"
     ]
    },
    {
     "data": {
      "application/vnd.jupyter.widget-view+json": {
       "model_id": "b7f759de22c5405c9632193b80fdd6c8",
       "version_major": 2,
       "version_minor": 0
      },
      "text/plain": [
       "Pandas Apply:   0%|          | 0/14433 [00:00<?, ?it/s]"
      ]
     },
     "metadata": {},
     "output_type": "display_data"
    },
    {
     "data": {
      "text/html": [
       "<div>\n",
       "<style scoped>\n",
       "    .dataframe tbody tr th:only-of-type {\n",
       "        vertical-align: middle;\n",
       "    }\n",
       "\n",
       "    .dataframe tbody tr th {\n",
       "        vertical-align: top;\n",
       "    }\n",
       "\n",
       "    .dataframe thead th {\n",
       "        text-align: right;\n",
       "    }\n",
       "</style>\n",
       "<table border=\"1\" class=\"dataframe\">\n",
       "  <thead>\n",
       "    <tr style=\"text-align: right;\">\n",
       "      <th></th>\n",
       "      <th>food rating</th>\n",
       "      <th>service rating</th>\n",
       "      <th>value rating</th>\n",
       "      <th>id</th>\n",
       "      <th>general rating</th>\n",
       "      <th>pixels</th>\n",
       "      <th>hog</th>\n",
       "      <th>pixel_size</th>\n",
       "    </tr>\n",
       "  </thead>\n",
       "  <tbody>\n",
       "    <tr>\n",
       "      <th>0</th>\n",
       "      <td>5.0</td>\n",
       "      <td>5.0</td>\n",
       "      <td>4.5</td>\n",
       "      <td>13969825</td>\n",
       "      <td>5.0</td>\n",
       "      <td>[76, 63, 54, 77, 66, 56, 72, 62, 53, 68, 59, 5...</td>\n",
       "      <td>[0.697749192995387, 0.05266422254622342, 0.001...</td>\n",
       "      <td>49152</td>\n",
       "    </tr>\n",
       "    <tr>\n",
       "      <th>1</th>\n",
       "      <td>5.0</td>\n",
       "      <td>5.0</td>\n",
       "      <td>4.5</td>\n",
       "      <td>13969825</td>\n",
       "      <td>5.0</td>\n",
       "      <td>[117, 115, 107, 123, 120, 111, 135, 129, 120, ...</td>\n",
       "      <td>[0.36025608999397774, 0.2072807161850619, 0.45...</td>\n",
       "      <td>49152</td>\n",
       "    </tr>\n",
       "    <tr>\n",
       "      <th>2</th>\n",
       "      <td>5.0</td>\n",
       "      <td>5.0</td>\n",
       "      <td>4.5</td>\n",
       "      <td>13969825</td>\n",
       "      <td>5.0</td>\n",
       "      <td>[140, 110, 82, 141, 111, 83, 140, 110, 82, 142...</td>\n",
       "      <td>[0.40160628493727346, 0.1542678984177002, 0.40...</td>\n",
       "      <td>49152</td>\n",
       "    </tr>\n",
       "    <tr>\n",
       "      <th>3</th>\n",
       "      <td>5.0</td>\n",
       "      <td>5.0</td>\n",
       "      <td>4.5</td>\n",
       "      <td>13969825</td>\n",
       "      <td>5.0</td>\n",
       "      <td>[98, 66, 65, 100, 66, 68, 101, 69, 71, 106, 75...</td>\n",
       "      <td>[0.4490224926102492, 0.2251092423419905, 0.438...</td>\n",
       "      <td>49152</td>\n",
       "    </tr>\n",
       "    <tr>\n",
       "      <th>4</th>\n",
       "      <td>5.0</td>\n",
       "      <td>5.0</td>\n",
       "      <td>4.5</td>\n",
       "      <td>13969825</td>\n",
       "      <td>5.0</td>\n",
       "      <td>[56, 46, 36, 54, 44, 34, 52, 42, 32, 52, 42, 3...</td>\n",
       "      <td>[0.5098982075841016, 0.06060679614501486, 0.05...</td>\n",
       "      <td>49152</td>\n",
       "    </tr>\n",
       "  </tbody>\n",
       "</table>\n",
       "</div>"
      ],
      "text/plain": [
       "   food rating  service rating  value rating        id  general rating  \\\n",
       "0          5.0             5.0           4.5  13969825             5.0   \n",
       "1          5.0             5.0           4.5  13969825             5.0   \n",
       "2          5.0             5.0           4.5  13969825             5.0   \n",
       "3          5.0             5.0           4.5  13969825             5.0   \n",
       "4          5.0             5.0           4.5  13969825             5.0   \n",
       "\n",
       "                                              pixels  \\\n",
       "0  [76, 63, 54, 77, 66, 56, 72, 62, 53, 68, 59, 5...   \n",
       "1  [117, 115, 107, 123, 120, 111, 135, 129, 120, ...   \n",
       "2  [140, 110, 82, 141, 111, 83, 140, 110, 82, 142...   \n",
       "3  [98, 66, 65, 100, 66, 68, 101, 69, 71, 106, 75...   \n",
       "4  [56, 46, 36, 54, 44, 34, 52, 42, 32, 52, 42, 3...   \n",
       "\n",
       "                                                 hog  pixel_size  \n",
       "0  [0.697749192995387, 0.05266422254622342, 0.001...       49152  \n",
       "1  [0.36025608999397774, 0.2072807161850619, 0.45...       49152  \n",
       "2  [0.40160628493727346, 0.1542678984177002, 0.40...       49152  \n",
       "3  [0.4490224926102492, 0.2251092423419905, 0.438...       49152  \n",
       "4  [0.5098982075841016, 0.06060679614501486, 0.05...       49152  "
      ]
     },
     "execution_count": 1,
     "metadata": {},
     "output_type": "execute_result"
    }
   ],
   "source": [
    "import pandas as pd\n",
    "import numpy as np\n",
    "from tqdm import tqdm\n",
    "from PIL import Image, ImageOps\n",
    "import glob\n",
    "import PIL\n",
    "import cv2\n",
    "import os\n",
    "\n",
    "original_df = pd.read_csv(\"tripadvisor_dataset/restaurant_listings.csv\")\n",
    "\n",
    "# display the data and see how it formulated\n",
    "pd.set_option(\"display.max_columns\", None)\n",
    "\n",
    "numerics = ['int16', 'int32', 'int64', 'float16', 'float32', 'float64']\n",
    "df = original_df.select_dtypes(include=numerics)\n",
    "\n",
    "# general rating\n",
    "df = df.drop(columns=[\"atmosphere rating\"])\n",
    "\n",
    "df[\"general rating\"] = original_df[\"general rating\"].apply(lambda x: float(str(x).split(' ')[0]))\n",
    "df[\"general rating\"] = pd.to_numeric(df[\"general rating\"])\n",
    "mean = df[\"general rating\"].loc[df[\"general rating\"] != -1].mean()\n",
    "df[\"general rating\"] = df[\"general rating\"].replace(-1,mean)\n",
    "\n",
    "# Getting list of all images\n",
    "fileNameList = glob.glob(\"tripadvisor_dataset/tripadvisor_images/*.jpg\")\n",
    "images = []\n",
    "\n",
    "# putting all images in a dict where the key is the name of the picture\n",
    "for fileName in tqdm(fileNameList, total=len(fileNameList)):\n",
    "    try:\n",
    "        img = Image.open(f\"{fileName}\")\n",
    "        img = img.resize((128,128))\n",
    "        img_np = np.array(img).flatten()\n",
    "        \n",
    "        images.append(pd.Series(data=[fileName.split(os.sep)[-1].split(\"_\")[0], img_np]))\n",
    "        #images.append(pd.Series(data=[fileName.split('\\\\')[-1].split(\"_\")[0], img_np]))\n",
    "    except PIL.UnidentifiedImageError:\n",
    "        pass\n",
    "\n",
    "# changing the list of pd.Series to pandas dataframe\n",
    "images = pd.concat(images, axis=1).T\n",
    "images = images.rename(columns={0 : \"id\", 1 : \"pixels\"})\n",
    "images[\"id\"] = pd.to_numeric(images[\"id\"])\n",
    "\n",
    "# merging 2 dataframes\n",
    "df = pd.merge(df, images, on=\"id\")\n",
    "\n",
    "from skimage.feature import hog\n",
    "from skimage import exposure\n",
    "import swifter\n",
    "\n",
    "tqdm.pandas()\n",
    "\n",
    "def hog_transformer(img):\n",
    "    if len(img) != 49152:\n",
    "        return np.empty(0)\n",
    "    \n",
    "    img = img.reshape(128,128,3)\n",
    "    \n",
    "    fd, hog_image = hog(img,orientations=8, pixels_per_cell=(16, 16),\n",
    "                   cells_per_block=(1, 1), visualize=True, channel_axis=-1)\n",
    "    return np.array(fd).flatten()\n",
    "\n",
    "# Use swifter to parrallelize the apply, if possible\n",
    "df['hog'] = df['pixels'].swifter.apply(hog_transformer)\n",
    "df[\"pixel_size\"] = df[\"pixels\"].apply(lambda x: len(x))\n",
    "df = df.drop(df[df.pixel_size != 49152].index)\n",
    "df.head()"
   ]
  },
  {
   "cell_type": "markdown",
   "metadata": {},
   "source": [
    "## Case 2\n",
    "\n",
    "Creating a model that can predict the cuisine types of a restaurant based om the images that are available for that restaurant\n",
    "\n",
    "### How\n",
    "\n",
    "To create a model that can do this, we will have to create a classification model. Since there are multiple cuisine types available, we will be using multiclass classification\n",
    "\n",
    "We will be comparing different machine learning models and how good they perform."
   ]
  },
  {
   "cell_type": "markdown",
   "metadata": {},
   "source": [
    "In Sprint 1 we discovered that the tags column sometimes holds cuisine types that are not listed in the cuisines column, but because this were only a few cuisines, and none of them appeared more than 5 times, we don't need to add these to our dataframe. This is the case beacause with only so few data to learn from, it is not possible to train a good ML model. "
   ]
  },
  {
   "cell_type": "code",
   "execution_count": 8,
   "metadata": {},
   "outputs": [
    {
     "name": "stdout",
     "output_type": "stream",
     "text": [
      "Value counts: \n",
      "\n",
      "European            10220\n",
      "Belgian              8849\n",
      "French               2310\n",
      "Dutch                1790\n",
      "Seafood              1689\n",
      "Italian              1445\n",
      "Other                1357\n",
      "Asian                1057\n",
      "Mediterranean         944\n",
      "Pub                   774\n",
      "Bar                   773\n",
      "Contemporary          656\n",
      "Healthy               646\n",
      "nan                   641\n",
      "Pizza                 640\n",
      "Cafe                  608\n",
      "International         573\n",
      "Grill                 460\n",
      "Japanese              398\n",
      "Chinese               359\n",
      "Sushi                 338\n",
      "Thai                  330\n",
      "Fast Food             322\n",
      "Fusion                310\n",
      "Spanish               255\n",
      "Diner                 238\n",
      "Turkish               224\n",
      "American              200\n",
      "Steakhouse            195\n",
      "Greek                 193\n",
      "Wine Bar              191\n",
      "Central European      180\n",
      "Barbecue              175\n",
      "Gastropub             161\n",
      "Indian                159\n",
      "Soups                 150\n",
      "Middle Eastern        148\n",
      "Street Food           127\n",
      "Southern-Italian      122\n",
      "Name: cuisine, dtype: int64\n",
      "\n",
      "Different amount of cuisines:  39\n"
     ]
    },
    {
     "name": "stderr",
     "output_type": "stream",
     "text": [
      "C:\\Users\\ewoud\\AppData\\Local\\Temp\\ipykernel_14248\\3247437344.py:5: SettingWithCopyWarning: \n",
      "A value is trying to be set on a copy of a slice from a DataFrame.\n",
      "Try using .loc[row_indexer,col_indexer] = value instead\n",
      "\n",
      "See the caveats in the documentation: https://pandas.pydata.org/pandas-docs/stable/user_guide/indexing.html#returning-a-view-versus-a-copy\n",
      "  df_with_cuisines['cuisines'] = df_with_cuisines['cuisines'].apply(lambda x: str(x).split(','))\n",
      "C:\\Users\\ewoud\\AppData\\Local\\Temp\\ipykernel_14248\\3247437344.py:6: SettingWithCopyWarning: \n",
      "A value is trying to be set on a copy of a slice from a DataFrame.\n",
      "Try using .loc[row_indexer,col_indexer] = value instead\n",
      "\n",
      "See the caveats in the documentation: https://pandas.pydata.org/pandas-docs/stable/user_guide/indexing.html#returning-a-view-versus-a-copy\n",
      "  df_with_cuisines['all_cuisines'] = df_with_cuisines['cuisines'].apply(lambda x: [item.strip() for item in x])\n"
     ]
    },
    {
     "data": {
      "text/html": [
       "<div>\n",
       "<style scoped>\n",
       "    .dataframe tbody tr th:only-of-type {\n",
       "        vertical-align: middle;\n",
       "    }\n",
       "\n",
       "    .dataframe tbody tr th {\n",
       "        vertical-align: top;\n",
       "    }\n",
       "\n",
       "    .dataframe thead th {\n",
       "        text-align: right;\n",
       "    }\n",
       "</style>\n",
       "<table border=\"1\" class=\"dataframe\">\n",
       "  <thead>\n",
       "    <tr style=\"text-align: right;\">\n",
       "      <th></th>\n",
       "      <th>id</th>\n",
       "      <th>all_cuisines</th>\n",
       "      <th>pixels</th>\n",
       "      <th>hog</th>\n",
       "      <th>cuisine</th>\n",
       "    </tr>\n",
       "  </thead>\n",
       "  <tbody>\n",
       "    <tr>\n",
       "      <th>0</th>\n",
       "      <td>13969825</td>\n",
       "      <td>[Thai, Healthy]</td>\n",
       "      <td>[76, 63, 54, 77, 66, 56, 72, 62, 53, 68, 59, 5...</td>\n",
       "      <td>[0.697749192995387, 0.05266422254622342, 0.001...</td>\n",
       "      <td>Thai</td>\n",
       "    </tr>\n",
       "    <tr>\n",
       "      <th>1</th>\n",
       "      <td>13969825</td>\n",
       "      <td>[Thai, Healthy]</td>\n",
       "      <td>[117, 115, 107, 123, 120, 111, 135, 129, 120, ...</td>\n",
       "      <td>[0.36025608999397774, 0.2072807161850619, 0.45...</td>\n",
       "      <td>Thai</td>\n",
       "    </tr>\n",
       "    <tr>\n",
       "      <th>2</th>\n",
       "      <td>13969825</td>\n",
       "      <td>[Thai, Healthy]</td>\n",
       "      <td>[140, 110, 82, 141, 111, 83, 140, 110, 82, 142...</td>\n",
       "      <td>[0.40160628493727346, 0.1542678984177002, 0.40...</td>\n",
       "      <td>Thai</td>\n",
       "    </tr>\n",
       "    <tr>\n",
       "      <th>3</th>\n",
       "      <td>13969825</td>\n",
       "      <td>[Thai, Healthy]</td>\n",
       "      <td>[98, 66, 65, 100, 66, 68, 101, 69, 71, 106, 75...</td>\n",
       "      <td>[0.4490224926102492, 0.2251092423419905, 0.438...</td>\n",
       "      <td>Thai</td>\n",
       "    </tr>\n",
       "    <tr>\n",
       "      <th>4</th>\n",
       "      <td>13969825</td>\n",
       "      <td>[Thai, Healthy]</td>\n",
       "      <td>[56, 46, 36, 54, 44, 34, 52, 42, 32, 52, 42, 3...</td>\n",
       "      <td>[0.5098982075841016, 0.06060679614501486, 0.05...</td>\n",
       "      <td>Thai</td>\n",
       "    </tr>\n",
       "  </tbody>\n",
       "</table>\n",
       "</div>"
      ],
      "text/plain": [
       "         id     all_cuisines  \\\n",
       "0  13969825  [Thai, Healthy]   \n",
       "1  13969825  [Thai, Healthy]   \n",
       "2  13969825  [Thai, Healthy]   \n",
       "3  13969825  [Thai, Healthy]   \n",
       "4  13969825  [Thai, Healthy]   \n",
       "\n",
       "                                              pixels  \\\n",
       "0  [76, 63, 54, 77, 66, 56, 72, 62, 53, 68, 59, 5...   \n",
       "1  [117, 115, 107, 123, 120, 111, 135, 129, 120, ...   \n",
       "2  [140, 110, 82, 141, 111, 83, 140, 110, 82, 142...   \n",
       "3  [98, 66, 65, 100, 66, 68, 101, 69, 71, 106, 75...   \n",
       "4  [56, 46, 36, 54, 44, 34, 52, 42, 32, 52, 42, 3...   \n",
       "\n",
       "                                                 hog cuisine  \n",
       "0  [0.697749192995387, 0.05266422254622342, 0.001...    Thai  \n",
       "1  [0.36025608999397774, 0.2072807161850619, 0.45...    Thai  \n",
       "2  [0.40160628493727346, 0.1542678984177002, 0.40...    Thai  \n",
       "3  [0.4490224926102492, 0.2251092423419905, 0.438...    Thai  \n",
       "4  [0.5098982075841016, 0.06060679614501486, 0.05...    Thai  "
      ]
     },
     "execution_count": 8,
     "metadata": {},
     "output_type": "execute_result"
    }
   ],
   "source": [
    "from sklearn.decomposition import PCA\n",
    "\n",
    "# first, we need to create a dataframe that contains the id of a restaurant and one of the cuisines on each row\n",
    "df_with_cuisines = original_df[['id', 'cuisines']]\n",
    "df_with_cuisines['cuisines'] = df_with_cuisines['cuisines'].apply(lambda x: str(x).split(','))\n",
    "df_with_cuisines['all_cuisines'] = df_with_cuisines['cuisines'].apply(lambda x: [item.strip() for item in x])\n",
    "df_with_cuisines = df_with_cuisines.explode('cuisines', ignore_index=True)\n",
    "df_with_cuisines = pd.merge(df_with_cuisines, df, on=\"id\")\n",
    "df_with_cuisines['cuisines'].apply(lambda x: x.strip())\n",
    "df_with_cuisines['cuisine'] = df_with_cuisines['cuisines'].apply(lambda x: x.strip())\n",
    "df_with_cuisines.drop(columns=['cuisines','pixel_size','general rating','value rating','service rating','food rating'], inplace=True)\n",
    "cuisine_counts = dict(df_with_cuisines['cuisine'].value_counts())\n",
    "\n",
    "# we only keep the cuisines that occur more than 100 times, to be able to train a descent model on them\n",
    "# a google search learned us that 100 is a good number to start with\n",
    "cuisines_subset = { key: value for (key,value) in cuisine_counts.items() if value > 100 }\n",
    "\n",
    "# now we replace all values that are not in the cuisines_subset with 'other'\n",
    "df_with_cuisines['cuisine'] = df_with_cuisines['cuisine'].apply(lambda x: x if x in cuisines_subset else 'Other')\n",
    "\n",
    "print(\"Value counts: \\n\") \n",
    "print(df_with_cuisines['cuisine'].value_counts())\n",
    "\n",
    "print('\\nDifferent amount of cuisines: ', len(df_with_cuisines['cuisine'].value_counts()))\n",
    "df_with_cuisines.head()"
   ]
  },
  {
   "cell_type": "markdown",
   "metadata": {},
   "source": [
    "The data has to be standardized before we can train our models.\n",
    " "
   ]
  },
  {
   "cell_type": "code",
   "execution_count": 9,
   "metadata": {},
   "outputs": [],
   "source": [
    "from sklearn.preprocessing import StandardScaler\n",
    "scaler_hog = StandardScaler()\n",
    "hogs_scaled = scaler_hog.fit_transform(df_with_cuisines['hog'].to_list())"
   ]
  },
  {
   "cell_type": "markdown",
   "metadata": {},
   "source": [
    "We are working with a lot of images, so to further decrease the dimensionality of the data, we will use PCA.\n",
    "As we have already shown in Case 1, we will use 350 components. \n"
   ]
  },
  {
   "cell_type": "code",
   "execution_count": 10,
   "metadata": {},
   "outputs": [],
   "source": [
    "pca = PCA(n_components=350)\n",
    "hogs_scaled_reduced = pca.fit_transform(hogs_scaled)"
   ]
  },
  {
   "cell_type": "markdown",
   "metadata": {},
   "source": [
    "We will now split the data in train and test data, with input and output data. \n",
    "- The input are the hogs that are scaled and reduces trough PCA.\n",
    "- The output data are the cuisine types."
   ]
  },
  {
   "cell_type": "code",
   "execution_count": 51,
   "metadata": {},
   "outputs": [],
   "source": [
    "from sklearn.model_selection import train_test_split\n",
    "# set output data to numeric values\n",
    "output_data = pd.DataFrame()\n",
    "output_data['category'] = df_with_cuisines['cuisine'].astype('category').cat.codes.values\n",
    "output_data['all categories'] = df_with_cuisines['all_cuisines']\n",
    "\n",
    "\n",
    "# Create DataFrame to map cuisines to numeric values\n",
    "cuisines_mapped = pd.DataFrame()\n",
    "cuisines_mapped['cuisine'] = df_with_cuisines['cuisine']\n",
    "cuisines_mapped['cuisine_id'] = output_data['category']\n",
    "cuisines_mapped.drop_duplicates(inplace=True)\n",
    "cuisines_mapped.sort_values(by='cuisine_id')\n",
    "\n",
    "x2_train, x2_test, y2_train, y2_test = train_test_split(hogs_scaled_reduced, output_data, test_size=0.2, random_state=0)"
   ]
  },
  {
   "cell_type": "markdown",
   "metadata": {},
   "source": [
    "### Comparing the different models\n",
    "Now, we will be comparing the different models. \n",
    "We will be training 4 different models:\n",
    "- Logistic regression model\n",
    "  - \"One vs All\" model\n",
    "- Softmax regression model\n",
    "- SVM model using a \"One vs One\" approach\n",
    "- SVM model using a \"One vs The Rest\" approach"
   ]
  },
  {
   "cell_type": "code",
   "execution_count": 52,
   "metadata": {},
   "outputs": [],
   "source": [
    "from sklearn.linear_model import LogisticRegression\n",
    "from sklearn import svm"
   ]
  },
  {
   "cell_type": "markdown",
   "metadata": {},
   "source": [
    "#### Creating and Training the Logistic Regression model"
   ]
  },
  {
   "cell_type": "code",
   "execution_count": 56,
   "metadata": {},
   "outputs": [
    {
     "data": {
      "text/html": [
       "<style>#sk-container-id-5 {color: black;background-color: white;}#sk-container-id-5 pre{padding: 0;}#sk-container-id-5 div.sk-toggleable {background-color: white;}#sk-container-id-5 label.sk-toggleable__label {cursor: pointer;display: block;width: 100%;margin-bottom: 0;padding: 0.3em;box-sizing: border-box;text-align: center;}#sk-container-id-5 label.sk-toggleable__label-arrow:before {content: \"▸\";float: left;margin-right: 0.25em;color: #696969;}#sk-container-id-5 label.sk-toggleable__label-arrow:hover:before {color: black;}#sk-container-id-5 div.sk-estimator:hover label.sk-toggleable__label-arrow:before {color: black;}#sk-container-id-5 div.sk-toggleable__content {max-height: 0;max-width: 0;overflow: hidden;text-align: left;background-color: #f0f8ff;}#sk-container-id-5 div.sk-toggleable__content pre {margin: 0.2em;color: black;border-radius: 0.25em;background-color: #f0f8ff;}#sk-container-id-5 input.sk-toggleable__control:checked~div.sk-toggleable__content {max-height: 200px;max-width: 100%;overflow: auto;}#sk-container-id-5 input.sk-toggleable__control:checked~label.sk-toggleable__label-arrow:before {content: \"▾\";}#sk-container-id-5 div.sk-estimator input.sk-toggleable__control:checked~label.sk-toggleable__label {background-color: #d4ebff;}#sk-container-id-5 div.sk-label input.sk-toggleable__control:checked~label.sk-toggleable__label {background-color: #d4ebff;}#sk-container-id-5 input.sk-hidden--visually {border: 0;clip: rect(1px 1px 1px 1px);clip: rect(1px, 1px, 1px, 1px);height: 1px;margin: -1px;overflow: hidden;padding: 0;position: absolute;width: 1px;}#sk-container-id-5 div.sk-estimator {font-family: monospace;background-color: #f0f8ff;border: 1px dotted black;border-radius: 0.25em;box-sizing: border-box;margin-bottom: 0.5em;}#sk-container-id-5 div.sk-estimator:hover {background-color: #d4ebff;}#sk-container-id-5 div.sk-parallel-item::after {content: \"\";width: 100%;border-bottom: 1px solid gray;flex-grow: 1;}#sk-container-id-5 div.sk-label:hover label.sk-toggleable__label {background-color: #d4ebff;}#sk-container-id-5 div.sk-serial::before {content: \"\";position: absolute;border-left: 1px solid gray;box-sizing: border-box;top: 0;bottom: 0;left: 50%;z-index: 0;}#sk-container-id-5 div.sk-serial {display: flex;flex-direction: column;align-items: center;background-color: white;padding-right: 0.2em;padding-left: 0.2em;position: relative;}#sk-container-id-5 div.sk-item {position: relative;z-index: 1;}#sk-container-id-5 div.sk-parallel {display: flex;align-items: stretch;justify-content: center;background-color: white;position: relative;}#sk-container-id-5 div.sk-item::before, #sk-container-id-5 div.sk-parallel-item::before {content: \"\";position: absolute;border-left: 1px solid gray;box-sizing: border-box;top: 0;bottom: 0;left: 50%;z-index: -1;}#sk-container-id-5 div.sk-parallel-item {display: flex;flex-direction: column;z-index: 1;position: relative;background-color: white;}#sk-container-id-5 div.sk-parallel-item:first-child::after {align-self: flex-end;width: 50%;}#sk-container-id-5 div.sk-parallel-item:last-child::after {align-self: flex-start;width: 50%;}#sk-container-id-5 div.sk-parallel-item:only-child::after {width: 0;}#sk-container-id-5 div.sk-dashed-wrapped {border: 1px dashed gray;margin: 0 0.4em 0.5em 0.4em;box-sizing: border-box;padding-bottom: 0.4em;background-color: white;}#sk-container-id-5 div.sk-label label {font-family: monospace;font-weight: bold;display: inline-block;line-height: 1.2em;}#sk-container-id-5 div.sk-label-container {text-align: center;}#sk-container-id-5 div.sk-container {/* jupyter's `normalize.less` sets `[hidden] { display: none; }` but bootstrap.min.css set `[hidden] { display: none !important; }` so we also need the `!important` here to be able to override the default hidden behavior on the sphinx rendered scikit-learn.org. See: https://github.com/scikit-learn/scikit-learn/issues/21755 */display: inline-block !important;position: relative;}#sk-container-id-5 div.sk-text-repr-fallback {display: none;}</style><div id=\"sk-container-id-5\" class=\"sk-top-container\"><div class=\"sk-text-repr-fallback\"><pre>LogisticRegression(multi_class=&#x27;ovr&#x27;, solver=&#x27;liblinear&#x27;)</pre><b>In a Jupyter environment, please rerun this cell to show the HTML representation or trust the notebook. <br />On GitHub, the HTML representation is unable to render, please try loading this page with nbviewer.org.</b></div><div class=\"sk-container\" hidden><div class=\"sk-item\"><div class=\"sk-estimator sk-toggleable\"><input class=\"sk-toggleable__control sk-hidden--visually\" id=\"sk-estimator-id-5\" type=\"checkbox\" checked><label for=\"sk-estimator-id-5\" class=\"sk-toggleable__label sk-toggleable__label-arrow\">LogisticRegression</label><div class=\"sk-toggleable__content\"><pre>LogisticRegression(multi_class=&#x27;ovr&#x27;, solver=&#x27;liblinear&#x27;)</pre></div></div></div></div></div>"
      ],
      "text/plain": [
       "LogisticRegression(multi_class='ovr', solver='liblinear')"
      ]
     },
     "execution_count": 56,
     "metadata": {},
     "output_type": "execute_result"
    }
   ],
   "source": [
    "one_vs_all_model = LogisticRegression(multi_class='ovr', solver='liblinear')\n",
    "one_vs_all_model.fit(x2_train, y2_train['category'])"
   ]
  },
  {
   "cell_type": "markdown",
   "metadata": {},
   "source": [
    "#### Creating and Training the Softmax regression model"
   ]
  },
  {
   "cell_type": "code",
   "execution_count": 23,
   "metadata": {},
   "outputs": [
    {
     "data": {
      "text/html": [
       "<style>#sk-container-id-2 {color: black;background-color: white;}#sk-container-id-2 pre{padding: 0;}#sk-container-id-2 div.sk-toggleable {background-color: white;}#sk-container-id-2 label.sk-toggleable__label {cursor: pointer;display: block;width: 100%;margin-bottom: 0;padding: 0.3em;box-sizing: border-box;text-align: center;}#sk-container-id-2 label.sk-toggleable__label-arrow:before {content: \"▸\";float: left;margin-right: 0.25em;color: #696969;}#sk-container-id-2 label.sk-toggleable__label-arrow:hover:before {color: black;}#sk-container-id-2 div.sk-estimator:hover label.sk-toggleable__label-arrow:before {color: black;}#sk-container-id-2 div.sk-toggleable__content {max-height: 0;max-width: 0;overflow: hidden;text-align: left;background-color: #f0f8ff;}#sk-container-id-2 div.sk-toggleable__content pre {margin: 0.2em;color: black;border-radius: 0.25em;background-color: #f0f8ff;}#sk-container-id-2 input.sk-toggleable__control:checked~div.sk-toggleable__content {max-height: 200px;max-width: 100%;overflow: auto;}#sk-container-id-2 input.sk-toggleable__control:checked~label.sk-toggleable__label-arrow:before {content: \"▾\";}#sk-container-id-2 div.sk-estimator input.sk-toggleable__control:checked~label.sk-toggleable__label {background-color: #d4ebff;}#sk-container-id-2 div.sk-label input.sk-toggleable__control:checked~label.sk-toggleable__label {background-color: #d4ebff;}#sk-container-id-2 input.sk-hidden--visually {border: 0;clip: rect(1px 1px 1px 1px);clip: rect(1px, 1px, 1px, 1px);height: 1px;margin: -1px;overflow: hidden;padding: 0;position: absolute;width: 1px;}#sk-container-id-2 div.sk-estimator {font-family: monospace;background-color: #f0f8ff;border: 1px dotted black;border-radius: 0.25em;box-sizing: border-box;margin-bottom: 0.5em;}#sk-container-id-2 div.sk-estimator:hover {background-color: #d4ebff;}#sk-container-id-2 div.sk-parallel-item::after {content: \"\";width: 100%;border-bottom: 1px solid gray;flex-grow: 1;}#sk-container-id-2 div.sk-label:hover label.sk-toggleable__label {background-color: #d4ebff;}#sk-container-id-2 div.sk-serial::before {content: \"\";position: absolute;border-left: 1px solid gray;box-sizing: border-box;top: 0;bottom: 0;left: 50%;z-index: 0;}#sk-container-id-2 div.sk-serial {display: flex;flex-direction: column;align-items: center;background-color: white;padding-right: 0.2em;padding-left: 0.2em;position: relative;}#sk-container-id-2 div.sk-item {position: relative;z-index: 1;}#sk-container-id-2 div.sk-parallel {display: flex;align-items: stretch;justify-content: center;background-color: white;position: relative;}#sk-container-id-2 div.sk-item::before, #sk-container-id-2 div.sk-parallel-item::before {content: \"\";position: absolute;border-left: 1px solid gray;box-sizing: border-box;top: 0;bottom: 0;left: 50%;z-index: -1;}#sk-container-id-2 div.sk-parallel-item {display: flex;flex-direction: column;z-index: 1;position: relative;background-color: white;}#sk-container-id-2 div.sk-parallel-item:first-child::after {align-self: flex-end;width: 50%;}#sk-container-id-2 div.sk-parallel-item:last-child::after {align-self: flex-start;width: 50%;}#sk-container-id-2 div.sk-parallel-item:only-child::after {width: 0;}#sk-container-id-2 div.sk-dashed-wrapped {border: 1px dashed gray;margin: 0 0.4em 0.5em 0.4em;box-sizing: border-box;padding-bottom: 0.4em;background-color: white;}#sk-container-id-2 div.sk-label label {font-family: monospace;font-weight: bold;display: inline-block;line-height: 1.2em;}#sk-container-id-2 div.sk-label-container {text-align: center;}#sk-container-id-2 div.sk-container {/* jupyter's `normalize.less` sets `[hidden] { display: none; }` but bootstrap.min.css set `[hidden] { display: none !important; }` so we also need the `!important` here to be able to override the default hidden behavior on the sphinx rendered scikit-learn.org. See: https://github.com/scikit-learn/scikit-learn/issues/21755 */display: inline-block !important;position: relative;}#sk-container-id-2 div.sk-text-repr-fallback {display: none;}</style><div id=\"sk-container-id-2\" class=\"sk-top-container\"><div class=\"sk-text-repr-fallback\"><pre>LogisticRegression(max_iter=1000, multi_class=&#x27;multinomial&#x27;, solver=&#x27;saga&#x27;)</pre><b>In a Jupyter environment, please rerun this cell to show the HTML representation or trust the notebook. <br />On GitHub, the HTML representation is unable to render, please try loading this page with nbviewer.org.</b></div><div class=\"sk-container\" hidden><div class=\"sk-item\"><div class=\"sk-estimator sk-toggleable\"><input class=\"sk-toggleable__control sk-hidden--visually\" id=\"sk-estimator-id-2\" type=\"checkbox\" checked><label for=\"sk-estimator-id-2\" class=\"sk-toggleable__label sk-toggleable__label-arrow\">LogisticRegression</label><div class=\"sk-toggleable__content\"><pre>LogisticRegression(max_iter=1000, multi_class=&#x27;multinomial&#x27;, solver=&#x27;saga&#x27;)</pre></div></div></div></div></div>"
      ],
      "text/plain": [
       "LogisticRegression(max_iter=1000, multi_class='multinomial', solver='saga')"
      ]
     },
     "execution_count": 23,
     "metadata": {},
     "output_type": "execute_result"
    }
   ],
   "source": [
    "softmax_regression_model = LogisticRegression(multi_class='multinomial', solver='saga', max_iter=1000)\n",
    "softmax_regression_model.fit(x2_train, y2_train['category'])"
   ]
  },
  {
   "cell_type": "markdown",
   "metadata": {},
   "source": [
    "#### Creating and Training the SVM model using a \"One vs One\" approach"
   ]
  },
  {
   "cell_type": "code",
   "execution_count": 24,
   "metadata": {},
   "outputs": [
    {
     "data": {
      "text/html": [
       "<style>#sk-container-id-3 {color: black;background-color: white;}#sk-container-id-3 pre{padding: 0;}#sk-container-id-3 div.sk-toggleable {background-color: white;}#sk-container-id-3 label.sk-toggleable__label {cursor: pointer;display: block;width: 100%;margin-bottom: 0;padding: 0.3em;box-sizing: border-box;text-align: center;}#sk-container-id-3 label.sk-toggleable__label-arrow:before {content: \"▸\";float: left;margin-right: 0.25em;color: #696969;}#sk-container-id-3 label.sk-toggleable__label-arrow:hover:before {color: black;}#sk-container-id-3 div.sk-estimator:hover label.sk-toggleable__label-arrow:before {color: black;}#sk-container-id-3 div.sk-toggleable__content {max-height: 0;max-width: 0;overflow: hidden;text-align: left;background-color: #f0f8ff;}#sk-container-id-3 div.sk-toggleable__content pre {margin: 0.2em;color: black;border-radius: 0.25em;background-color: #f0f8ff;}#sk-container-id-3 input.sk-toggleable__control:checked~div.sk-toggleable__content {max-height: 200px;max-width: 100%;overflow: auto;}#sk-container-id-3 input.sk-toggleable__control:checked~label.sk-toggleable__label-arrow:before {content: \"▾\";}#sk-container-id-3 div.sk-estimator input.sk-toggleable__control:checked~label.sk-toggleable__label {background-color: #d4ebff;}#sk-container-id-3 div.sk-label input.sk-toggleable__control:checked~label.sk-toggleable__label {background-color: #d4ebff;}#sk-container-id-3 input.sk-hidden--visually {border: 0;clip: rect(1px 1px 1px 1px);clip: rect(1px, 1px, 1px, 1px);height: 1px;margin: -1px;overflow: hidden;padding: 0;position: absolute;width: 1px;}#sk-container-id-3 div.sk-estimator {font-family: monospace;background-color: #f0f8ff;border: 1px dotted black;border-radius: 0.25em;box-sizing: border-box;margin-bottom: 0.5em;}#sk-container-id-3 div.sk-estimator:hover {background-color: #d4ebff;}#sk-container-id-3 div.sk-parallel-item::after {content: \"\";width: 100%;border-bottom: 1px solid gray;flex-grow: 1;}#sk-container-id-3 div.sk-label:hover label.sk-toggleable__label {background-color: #d4ebff;}#sk-container-id-3 div.sk-serial::before {content: \"\";position: absolute;border-left: 1px solid gray;box-sizing: border-box;top: 0;bottom: 0;left: 50%;z-index: 0;}#sk-container-id-3 div.sk-serial {display: flex;flex-direction: column;align-items: center;background-color: white;padding-right: 0.2em;padding-left: 0.2em;position: relative;}#sk-container-id-3 div.sk-item {position: relative;z-index: 1;}#sk-container-id-3 div.sk-parallel {display: flex;align-items: stretch;justify-content: center;background-color: white;position: relative;}#sk-container-id-3 div.sk-item::before, #sk-container-id-3 div.sk-parallel-item::before {content: \"\";position: absolute;border-left: 1px solid gray;box-sizing: border-box;top: 0;bottom: 0;left: 50%;z-index: -1;}#sk-container-id-3 div.sk-parallel-item {display: flex;flex-direction: column;z-index: 1;position: relative;background-color: white;}#sk-container-id-3 div.sk-parallel-item:first-child::after {align-self: flex-end;width: 50%;}#sk-container-id-3 div.sk-parallel-item:last-child::after {align-self: flex-start;width: 50%;}#sk-container-id-3 div.sk-parallel-item:only-child::after {width: 0;}#sk-container-id-3 div.sk-dashed-wrapped {border: 1px dashed gray;margin: 0 0.4em 0.5em 0.4em;box-sizing: border-box;padding-bottom: 0.4em;background-color: white;}#sk-container-id-3 div.sk-label label {font-family: monospace;font-weight: bold;display: inline-block;line-height: 1.2em;}#sk-container-id-3 div.sk-label-container {text-align: center;}#sk-container-id-3 div.sk-container {/* jupyter's `normalize.less` sets `[hidden] { display: none; }` but bootstrap.min.css set `[hidden] { display: none !important; }` so we also need the `!important` here to be able to override the default hidden behavior on the sphinx rendered scikit-learn.org. See: https://github.com/scikit-learn/scikit-learn/issues/21755 */display: inline-block !important;position: relative;}#sk-container-id-3 div.sk-text-repr-fallback {display: none;}</style><div id=\"sk-container-id-3\" class=\"sk-top-container\"><div class=\"sk-text-repr-fallback\"><pre>SVC(decision_function_shape=&#x27;ovo&#x27;)</pre><b>In a Jupyter environment, please rerun this cell to show the HTML representation or trust the notebook. <br />On GitHub, the HTML representation is unable to render, please try loading this page with nbviewer.org.</b></div><div class=\"sk-container\" hidden><div class=\"sk-item\"><div class=\"sk-estimator sk-toggleable\"><input class=\"sk-toggleable__control sk-hidden--visually\" id=\"sk-estimator-id-3\" type=\"checkbox\" checked><label for=\"sk-estimator-id-3\" class=\"sk-toggleable__label sk-toggleable__label-arrow\">SVC</label><div class=\"sk-toggleable__content\"><pre>SVC(decision_function_shape=&#x27;ovo&#x27;)</pre></div></div></div></div></div>"
      ],
      "text/plain": [
       "SVC(decision_function_shape='ovo')"
      ]
     },
     "execution_count": 24,
     "metadata": {},
     "output_type": "execute_result"
    }
   ],
   "source": [
    "svm_one_vs_one_model = svm.SVC(decision_function_shape='ovo')\n",
    "svm_one_vs_one_model.fit(x2_train, y2_train['category'])"
   ]
  },
  {
   "cell_type": "markdown",
   "metadata": {},
   "source": [
    "#### Creating and Training the SVM model using a \"One vs The Rest\" approach"
   ]
  },
  {
   "cell_type": "code",
   "execution_count": 25,
   "metadata": {},
   "outputs": [
    {
     "name": "stderr",
     "output_type": "stream",
     "text": [
      "c:\\Python310\\lib\\site-packages\\sklearn\\svm\\_base.py:301: ConvergenceWarning: Solver terminated early (max_iter=10000).  Consider pre-processing your data with StandardScaler or MinMaxScaler.\n",
      "  warnings.warn(\n"
     ]
    },
    {
     "data": {
      "text/html": [
       "<style>#sk-container-id-4 {color: black;background-color: white;}#sk-container-id-4 pre{padding: 0;}#sk-container-id-4 div.sk-toggleable {background-color: white;}#sk-container-id-4 label.sk-toggleable__label {cursor: pointer;display: block;width: 100%;margin-bottom: 0;padding: 0.3em;box-sizing: border-box;text-align: center;}#sk-container-id-4 label.sk-toggleable__label-arrow:before {content: \"▸\";float: left;margin-right: 0.25em;color: #696969;}#sk-container-id-4 label.sk-toggleable__label-arrow:hover:before {color: black;}#sk-container-id-4 div.sk-estimator:hover label.sk-toggleable__label-arrow:before {color: black;}#sk-container-id-4 div.sk-toggleable__content {max-height: 0;max-width: 0;overflow: hidden;text-align: left;background-color: #f0f8ff;}#sk-container-id-4 div.sk-toggleable__content pre {margin: 0.2em;color: black;border-radius: 0.25em;background-color: #f0f8ff;}#sk-container-id-4 input.sk-toggleable__control:checked~div.sk-toggleable__content {max-height: 200px;max-width: 100%;overflow: auto;}#sk-container-id-4 input.sk-toggleable__control:checked~label.sk-toggleable__label-arrow:before {content: \"▾\";}#sk-container-id-4 div.sk-estimator input.sk-toggleable__control:checked~label.sk-toggleable__label {background-color: #d4ebff;}#sk-container-id-4 div.sk-label input.sk-toggleable__control:checked~label.sk-toggleable__label {background-color: #d4ebff;}#sk-container-id-4 input.sk-hidden--visually {border: 0;clip: rect(1px 1px 1px 1px);clip: rect(1px, 1px, 1px, 1px);height: 1px;margin: -1px;overflow: hidden;padding: 0;position: absolute;width: 1px;}#sk-container-id-4 div.sk-estimator {font-family: monospace;background-color: #f0f8ff;border: 1px dotted black;border-radius: 0.25em;box-sizing: border-box;margin-bottom: 0.5em;}#sk-container-id-4 div.sk-estimator:hover {background-color: #d4ebff;}#sk-container-id-4 div.sk-parallel-item::after {content: \"\";width: 100%;border-bottom: 1px solid gray;flex-grow: 1;}#sk-container-id-4 div.sk-label:hover label.sk-toggleable__label {background-color: #d4ebff;}#sk-container-id-4 div.sk-serial::before {content: \"\";position: absolute;border-left: 1px solid gray;box-sizing: border-box;top: 0;bottom: 0;left: 50%;z-index: 0;}#sk-container-id-4 div.sk-serial {display: flex;flex-direction: column;align-items: center;background-color: white;padding-right: 0.2em;padding-left: 0.2em;position: relative;}#sk-container-id-4 div.sk-item {position: relative;z-index: 1;}#sk-container-id-4 div.sk-parallel {display: flex;align-items: stretch;justify-content: center;background-color: white;position: relative;}#sk-container-id-4 div.sk-item::before, #sk-container-id-4 div.sk-parallel-item::before {content: \"\";position: absolute;border-left: 1px solid gray;box-sizing: border-box;top: 0;bottom: 0;left: 50%;z-index: -1;}#sk-container-id-4 div.sk-parallel-item {display: flex;flex-direction: column;z-index: 1;position: relative;background-color: white;}#sk-container-id-4 div.sk-parallel-item:first-child::after {align-self: flex-end;width: 50%;}#sk-container-id-4 div.sk-parallel-item:last-child::after {align-self: flex-start;width: 50%;}#sk-container-id-4 div.sk-parallel-item:only-child::after {width: 0;}#sk-container-id-4 div.sk-dashed-wrapped {border: 1px dashed gray;margin: 0 0.4em 0.5em 0.4em;box-sizing: border-box;padding-bottom: 0.4em;background-color: white;}#sk-container-id-4 div.sk-label label {font-family: monospace;font-weight: bold;display: inline-block;line-height: 1.2em;}#sk-container-id-4 div.sk-label-container {text-align: center;}#sk-container-id-4 div.sk-container {/* jupyter's `normalize.less` sets `[hidden] { display: none; }` but bootstrap.min.css set `[hidden] { display: none !important; }` so we also need the `!important` here to be able to override the default hidden behavior on the sphinx rendered scikit-learn.org. See: https://github.com/scikit-learn/scikit-learn/issues/21755 */display: inline-block !important;position: relative;}#sk-container-id-4 div.sk-text-repr-fallback {display: none;}</style><div id=\"sk-container-id-4\" class=\"sk-top-container\"><div class=\"sk-text-repr-fallback\"><pre>SVC(max_iter=10000)</pre><b>In a Jupyter environment, please rerun this cell to show the HTML representation or trust the notebook. <br />On GitHub, the HTML representation is unable to render, please try loading this page with nbviewer.org.</b></div><div class=\"sk-container\" hidden><div class=\"sk-item\"><div class=\"sk-estimator sk-toggleable\"><input class=\"sk-toggleable__control sk-hidden--visually\" id=\"sk-estimator-id-4\" type=\"checkbox\" checked><label for=\"sk-estimator-id-4\" class=\"sk-toggleable__label sk-toggleable__label-arrow\">SVC</label><div class=\"sk-toggleable__content\"><pre>SVC(max_iter=10000)</pre></div></div></div></div></div>"
      ],
      "text/plain": [
       "SVC(max_iter=10000)"
      ]
     },
     "execution_count": 25,
     "metadata": {},
     "output_type": "execute_result"
    }
   ],
   "source": [
    "svm_one_vs_the_rest_model = svm.SVC(decision_function_shape='ovr', max_iter=10000)\n",
    "svm_one_vs_the_rest_model.fit(x2_train, y2_train['category'])"
   ]
  },
  {
   "cell_type": "markdown",
   "metadata": {},
   "source": [
    "### Use models to predict cuisine value"
   ]
  },
  {
   "cell_type": "code",
   "execution_count": 64,
   "metadata": {},
   "outputs": [],
   "source": [
    "predictions_one_vs_all = one_vs_all_model.predict(x2_test)\n",
    "predictions_softmax = softmax_regression_model.predict(x2_test)\n",
    "predictions_svm_one_vs_one = svm_one_vs_one_model.predict(x2_test)\n",
    "predictions_svm_one_vs_the_rest = svm_one_vs_the_rest_model.predict(x2_test)"
   ]
  },
  {
   "cell_type": "markdown",
   "metadata": {},
   "source": [
    "We will now add all of the predictions of the different models, and change the numeric values of the cuisine types back to the textual values. "
   ]
  },
  {
   "cell_type": "code",
   "execution_count": 65,
   "metadata": {},
   "outputs": [],
   "source": [
    "predictions_df = pd.DataFrame()\n",
    "predictions_df['one_vs_all_prediction'] = predictions_one_vs_all\n",
    "predictions_df['softmax_prediction'] = predictions_softmax\n",
    "predictions_df['svm_one_vs_one_prediction'] = predictions_svm_one_vs_one\n",
    "predictions_df['svm_one_vs_the_rest_prediction'] = predictions_svm_one_vs_the_rest\n",
    "\n",
    "\n",
    "predictions_df['one_vs_all_prediction'] = predictions_df['one_vs_all_prediction'].apply(lambda x: cuisines_mapped[cuisines_mapped['cuisine_id'] == x]['cuisine'].values[0])\n",
    "predictions_df['softmax_prediction'] = predictions_df['softmax_prediction'].apply(lambda x: cuisines_mapped[cuisines_mapped['cuisine_id'] == x]['cuisine'].values[0])\n",
    "predictions_df['svm_one_vs_one_prediction'] = predictions_df['svm_one_vs_one_prediction'].apply(lambda x: cuisines_mapped[cuisines_mapped['cuisine_id'] == x]['cuisine'].values[0])\n",
    "predictions_df['svm_one_vs_the_rest_prediction'] = predictions_df['svm_one_vs_the_rest_prediction'].apply(lambda x: cuisines_mapped[cuisines_mapped['cuisine_id'] == x]['cuisine'].values[0])\n"
   ]
  },
  {
   "cell_type": "markdown",
   "metadata": {},
   "source": [
    "Now that we have all the predicted cuisine values for each cuisine type, we can check if the value is a part of all cuisines that we accept as correct. For example: if a picture is taken in a restaurant that has cuisine types `European` and `Belgian`, we will accept the prediction of the model as correct if the prediction is one of those cuisine types. "
   ]
  },
  {
   "cell_type": "code",
   "execution_count": 74,
   "metadata": {},
   "outputs": [],
   "source": [
    "predictions_df['all_cuisines'] = y2_test['all categories'].values\n",
    "predictions_df['one_vs_all_correct'] = predictions_df.apply(lambda x: 1 if x['one_vs_all_prediction'].strip() in x['all_cuisines'] else 0, axis=1)\n",
    "predictions_df['softmax_prediction_correct'] = predictions_df.apply(lambda x: 1 if x['softmax_prediction'].strip()  in x['all_cuisines'] else 0, axis=1)\n",
    "predictions_df['svm_one_vs_one_prediction_correct'] = predictions_df.apply(lambda x: 1 if x['svm_one_vs_one_prediction'].strip()  in x['all_cuisines'] else 0, axis=1)\n",
    "predictions_df['svm_one_vs_the_rest_prediction_correct'] = predictions_df.apply(lambda x: 1 if x['svm_one_vs_the_rest_prediction'].strip()  in x['all_cuisines'] else 0, axis=1)\n"
   ]
  },
  {
   "cell_type": "markdown",
   "metadata": {},
   "source": [
    "If we take the average value of each of the columns that tells if our model made a correct prediction or not, we can get the accuracy of each model. We will show the accuracy in  "
   ]
  },
  {
   "cell_type": "code",
   "execution_count": 72,
   "metadata": {},
   "outputs": [
    {
     "data": {
      "text/plain": [
       "<AxesSubplot: title={'center': 'Accuracy of different models'}>"
      ]
     },
     "execution_count": 72,
     "metadata": {},
     "output_type": "execute_result"
    },
    {
     "data": {
      "image/png": "[encoded data removed]",
      "text/plain": [
       "<Figure size 1000x200 with 1 Axes>"
      ]
     },
     "metadata": {},
     "output_type": "display_data"
    }
   ],
   "source": [
    "accuracies = {'Logistic regression': predictions_df['one_vs_all_correct'].mean(), \n",
    "              'Softmax regression': predictions_df['softmax_prediction_correct'].mean(),\n",
    "              'SVM (One versus One)': predictions_df['svm_one_vs_one_prediction_correct'].mean(),\n",
    "              'SVM (One versus The Rest)': predictions_df['svm_one_vs_the_rest_prediction_correct'].mean()}\n",
    "\n",
    "\n",
    "pd.Series(accuracies).sort_values().plot(kind='barh', figsize=(10,2), title='Accuracy of different models')"
   ]
  }
 ],
 "metadata": {
  "kernelspec": {
   "display_name": "Python 3 (ipykernel)",
   "language": "python",
   "name": "python3"
  },
  "language_info": {
   "codemirror_mode": {
    "name": "ipython",
    "version": 3
   },
   "file_extension": ".py",
   "mimetype": "text/x-python",
   "name": "python",
   "nbconvert_exporter": "python",
   "pygments_lexer": "ipython3",
   "version": "3.9.12"
  },
  "vscode": {
   "interpreter": {
    "hash": "369f2c481f4da34e4445cda3fffd2e751bd1c4d706f27375911949ba6bb62e1c"
   }
  }
 },
 "nbformat": 4,
 "nbformat_minor": 2
}
