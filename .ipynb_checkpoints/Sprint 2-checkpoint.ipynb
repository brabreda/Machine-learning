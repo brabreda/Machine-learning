{
 "cells": [
  {
   "cell_type": "markdown",
   "id": "022524eb",
   "metadata": {},
   "source": [
    "# Machine learning - sprint 2"
   ]
  },
  {
   "cell_type": "markdown",
   "id": "aed69fb9",
   "metadata": {},
   "source": [
    "Authors: Allart Ewoud, Van Hees Maxime, Breda Bram"
   ]
  },
  {
   "cell_type": "markdown",
   "id": "cad7e014",
   "metadata": {},
   "source": [
    "- Kunnen we aan de hand van afbeeldingen een voorspelling maken in welke prijsklasse een restaurant valt?\n",
    "- Kunnen we aan de hand van de afbeeldingen die bij een restaurant horen afleiden welke cuisines aanwezig zijn in het restaurant?\n",
    "- Kunnen we aan de hand van afbeeldinen stellen dat er in het restaurant bepaalde features aanwezig zijn (gaat wel maar werken met sommigen van de features, niet met allemaal)\n",
    "- Kan de athmosphere rating ingevuld worden aan de hand van afbeeldingen van het inerieur (aangezien deze vaak niet ingevuld is in de dataset)"
   ]
  },
  {
   "cell_type": "code",
   "execution_count": 1,
   "id": "bee59032",
   "metadata": {},
   "outputs": [],
   "source": [
    "import pandas as pd\n",
    "import numpy as np\n",
    "from tqdm import tqdm\n",
    "from PIL import Image"
   ]
  },
  {
   "cell_type": "markdown",
   "id": "2d0c211a",
   "metadata": {},
   "source": []
  },
  {
   "cell_type": "code",
   "execution_count": null,
   "id": "9e38be6d",
   "metadata": {},
   "outputs": [],
   "source": []
  }
 ],
 "metadata": {
  "kernelspec": {
   "display_name": "Python 3 (ipykernel)",
   "language": "python",
   "name": "python3"
  },
  "language_info": {
   "codemirror_mode": {
    "name": "ipython",
    "version": 3
   },
   "file_extension": ".py",
   "mimetype": "text/x-python",
   "name": "python",
   "nbconvert_exporter": "python",
   "pygments_lexer": "ipython3",
   "version": "3.9.12"
  }
 },
 "nbformat": 4,
 "nbformat_minor": 5
}
